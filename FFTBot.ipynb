{
 "cells": [
  {
   "cell_type": "code",
   "execution_count": 2,
   "metadata": {},
   "outputs": [],
   "source": [
    "%load_ext autoreload\n",
    "%autoreload 2"
   ]
  },
  {
   "cell_type": "code",
   "execution_count": 113,
   "metadata": {},
   "outputs": [],
   "source": [
    "import json\n",
    "import requests\n",
    "import numpy as np"
   ]
  },
  {
   "cell_type": "code",
   "execution_count": 4,
   "metadata": {},
   "outputs": [],
   "source": [
    "with open(\"tooltips.json\") as f:\n",
    "    l = json.load(f)"
   ]
  },
  {
   "cell_type": "code",
   "execution_count": 28,
   "metadata": {},
   "outputs": [],
   "source": [
    "def get_tips():\n",
    "    with open(\"tooltips.json\") as f:\n",
    "        l = json.load(f)\n",
    "    return l\n",
    "\n",
    "def get_maps():\n",
    "    out = []\n",
    "    with open(\"maps.txt\") as f:\n",
    "        for l in f.readlines():\n",
    "            out.append(l.rstrip())\n",
    "    return out"
   ]
  },
  {
   "cell_type": "code",
   "execution_count": 5,
   "metadata": {},
   "outputs": [
    {
     "data": {
      "text/plain": [
       "13"
      ]
     },
     "execution_count": 5,
     "metadata": {},
     "output_type": "execute_result"
    }
   ],
   "source": [
    "len(l[\"Item\"])\n",
    "len(l[\"Ability\"])\n",
    "len(l[\"Zodiac\"])"
   ]
  },
  {
   "cell_type": "code",
   "execution_count": 6,
   "metadata": {},
   "outputs": [
    {
     "data": {
      "text/plain": [
       "{'108 Gems': 'Accessory. Effect: Strengthen Fire, Lightning, Ice, Wind, Earth, Water, Holy, Dark; Immune Undead, Blood Suck, Frog, Poison.',\n",
       " 'Adaman Vest': '+62 HP, +0 MP, Clothes. Effect: +1 PA.',\n",
       " 'Aegis Shield': '10% phys evade, 50% magic evade, Shield. Effect: +1 MA.',\n",
       " 'Air Knife': '10 WP, 1 range, 5% evade, Knife. Element: Wind.',\n",
       " 'Ancient Sword': \"11 WP, 1 range, 5% evade, Sword. Effect: Chance to Add Don't Move.\",\n",
       " 'Angel Ring': 'Accessory. Effect: Immune Death, Darkness; Initial Reraise.',\n",
       " 'Antidote': 'Consumable. Effect: Cancel Poison.',\n",
       " 'Assassin Dagger': '8 WP, 1 range, 5% evade, Knife. Effect: Chance to Add Death Sentence.',\n",
       " 'Asura Knife': '11 WP, 1 range, 15% evade, Katana. Effect: +1 Speed.',\n",
       " 'Barbuta': '+52 HP, +0 MP, Helmet. Effect: +1 Jump.',\n",
       " 'Barette': '+27 HP, +5 MP, Hat. Effect: Immune Death, Petrify, Confusion, Blood Suck, Berserk, Stop, Charm, Sleep, Death Sentence.',\n",
       " 'Battle Axe': '10 WP, 1 range, 5% evade, Axe. Effect: +1 PA.',\n",
       " 'Battle Bamboo': '8 WP, 2 range, 22% evade, Pole. Effect: +1 PA.',\n",
       " 'Battle Boots': 'Accessory. Effect: +1 Speed, +1 Move.',\n",
       " 'Battle Folio': '8 WP, 3 range, 24% evade, Book. Effect: +1 PA.',\n",
       " 'Bestiary': '9 WP, 3 range, 19% evade, Book. Effect: +1 MA.',\n",
       " 'Bizen Boat': '13 WP, 1 range, 16% evade, Katana. Effect: Chance to Add Berserk.',\n",
       " 'Black Costume': '+100 HP, +0 MP, Clothes. Effect: Immune Stop.',\n",
       " 'Black Hood': '+100 HP, +0 MP, Hat.',\n",
       " 'Black Robe': '+66 HP, +36 MP, Robe. Effect: Strengthen Fire, Lightning, Ice.',\n",
       " 'Blast Gun': '13 WP, 7 range, 4% evade, Gun. Element: Lightning.',\n",
       " 'Blaze Gun': '13 WP, 7 range, 4% evade, Gun. Element: Fire.',\n",
       " 'Blind Knife': '5 WP, 1 range, 5% evade, Knife. Effect: Chance to Add Darkness.',\n",
       " 'Blood Sword': '9 WP (absorb), 1 range, 3% evade, Sword.',\n",
       " 'Bloody Strings': '11 WP (absorb), 3 range, 10% evade, Harp. Effect: Immune Silence.',\n",
       " 'Bow Gun': '5 WP, 4 range, 5% evade, Crossbow. Element: Fire. Effect: +1 Speed.',\n",
       " 'Bracer': 'Accessory. Effect: +3 PA.',\n",
       " 'Brigandine': '+74 HP, +6 MP, Clothes.',\n",
       " 'Broad Sword': '5 WP, 1 range, 5% evade, Sword. Effect: +1 PA.',\n",
       " 'Bronze Armor': '+50 HP, +1 MP, Armor.',\n",
       " 'Bronze Helmet': '+40 HP, +1 MP, Helmet. ',\n",
       " 'Bronze Shield': '16% phys evade, 7% magic evade, Shield. ',\n",
       " 'Buckler': '13% phys evade, 3% magic evade, Shield. Effect: +1 PA.',\n",
       " 'Burst Bomb': '8 WP, Bomb. Element: Fire.',\n",
       " 'Cachusha': \"+25 HP, +7 MP, Hat. Effect: Immune Undead, Darkness, Silence, Oil, Frog, Poison, Slow, Don't Move, Don't Act.\",\n",
       " 'Carabini Mail': '+100 HP, +0 MP, Armor. Effect: Half Wind, Earth, Water.',\n",
       " 'Cashmere': '10 WP, 2 range, 60% evade, Fabric. Effect: Chance to cast Nameless Dance.',\n",
       " 'Chain Mail': '+56 HP, +0 MP, Armor. Effect: +1 Jump.',\n",
       " 'Chain Vest': '+50 HP, +0 MP, Clothes. Effect: +1 Jump.',\n",
       " 'Chameleon Robe': '+57 HP, +28 MP, Robe. Effect: Absorb Holy; Strengthen Water; Immune Death.',\n",
       " 'Chantage': 'Accessory. Effect: Permanent Regen; Initial Reraise.',\n",
       " 'Chaos Blade': '25 WP, 1 range, 20% evade, Knight Sword. Effect: Chance to Add Petrify; Permanent Regen; Absorb Dark; Strengthen Dark.',\n",
       " 'Cherche': 'Accessory. Effect: +1 PA, +1 MA; Permanent Float, Reflect.',\n",
       " 'Chirijiraden': '24 WP, 1 range, 15% evade, Katana. Effect: +2 PA.',\n",
       " 'Circlet': '+100 HP, +0 MP, Helmet. Effect: Half Holy, Dark.',\n",
       " 'Clothes': '+32 HP, +1 MP, Clothes. Effect: +1 Move.',\n",
       " 'Coral Sword': '10 WP, 1 range, 5% evade, Sword. Element: Lightning.',\n",
       " 'Cross Bow': '11 WP, 5 range, 11% evade, Crossbow.',\n",
       " 'Cross Helmet': '+74 HP, +0 MP, Helmet. Effect: +1 MA.',\n",
       " 'Crystal Helmet': '+110 HP, +2 MP, Helmet. ',\n",
       " 'Crystal Mail': '+110 HP, +2 MP, Armor.',\n",
       " 'Crystal Shield': '40% phys evade, 12% magic evade, Shield. ',\n",
       " 'Cultist Dagger': '8 WP, 1 range, 10% evade, Knife. Effect: Chance to Add Undead.',\n",
       " 'Cursed Ring': 'Accessory. Effect: +1 PA, +1 MA, +1 Speed; Strengthen Dark; Permanent Undead.',\n",
       " 'Cute Bag': '10 WP, 1 range, 2% evade, Bag. Effect: +1 MA; Strengthen Water.',\n",
       " 'Cypress Rod': '7 WP, 2 range, 30% evade, Pole.',\n",
       " 'Dagger': '4 WP, 1 range, 10% evade, Knife. Effect: +2 Speed.',\n",
       " 'Defender': '17 WP, 1 range, 60% evade, Knight Sword.',\n",
       " 'Defense Armlet': \"Accessory. Effect: Half Earth; Immune Don't Move, Don't Act.\",\n",
       " 'Defense Ring': 'Accessory. Effect: Half Water; Strengthen Water; Immune Sleep, Death Sentence.',\n",
       " 'Diamond Armlet': 'Accessory. Effect: +1 PA, +1 MA; Immune Slow.',\n",
       " 'Diamond Armor': '+84 HP, +6 MP, Armor.',\n",
       " 'Diamond Helmet': '+82 HP, +6 MP, Helmet. ',\n",
       " 'Diamond Shield': '34% phys evade, 15% magic evade, Shield. ',\n",
       " 'Diamond Sword': '12 WP, 1 range, 11% evade, Sword.',\n",
       " 'Dracula Mantle': '15% phys evade, 30% magic evade, Accessory.',\n",
       " 'Dragon Rod': '7 WP, 1 range, 22% evade, Rod. Effect: +1 PA; Immune Silence, Frog, Innocent; Initial Reraise.',\n",
       " 'Dragon Whisker': '16 WP, 2 range, 10% evade, Spear. Effect: Permanent Shell.',\n",
       " 'Earth Clothes': '+92 HP, +10 MP, Clothes. Effect: Absorb Earth; Strengthen Earth.',\n",
       " 'Echo Grass': 'Consumable. Effect: Cancel Silence.',\n",
       " 'Elf Mantle': '30% phys evade, 15% magic evade, Accessory.',\n",
       " 'Elixir': 'Consumable. Effect: Heals All HP & MP.',\n",
       " 'Escutcheon': '10% phys evade, 4% magic evade, Shield. Effect: +2 Speed.',\n",
       " 'Ether': 'Consumable. Effect: Heals 20 MP.',\n",
       " 'Excalibur': '22 WP, 1 range, 35% evade, Knight Sword. Effect: Chance to cast Explosion Sword; Initial Haste; Absorb Holy; Strengthen Holy.',\n",
       " 'Eye Drop': 'Consumable. Effect: Cancel Darkness.',\n",
       " 'Fairy Harp': '14 WP, 3 range, 14% evade, Harp. Effect: Chance to Add Charm; Immune Silence.',\n",
       " 'Faith Rod': '5 WP, 1 range, 20% evade, Rod. Effect: Chance to Add Faith; +1 Speed, +1 Move, +1 Jump; Immune Innocent; Initial Faith.',\n",
       " 'Feather Boots': 'Accessory. Effect: Strengthen Wind; Permanent Float.',\n",
       " 'Feather Hat': '+32 HP, +5 MP, Hat. Effect: +1 Jump; Absorb Wind; Strengthen Wind.',\n",
       " 'Feather Mantle': '25% phys evade, 25% magic evade, Accessory.',\n",
       " 'Flail': '11 WP, 1 range, 2% evade, Flail. Effect: Chance to Cancel Charging, Defending, Performing.',\n",
       " 'Flame Rod': '3 WP, 1 range, 20% evade, Rod. Element: Fire. Effect: Chance to cast Fire; Strengthen Fire.',\n",
       " 'Flame Shield': '31% phys evade, 2% magic evade, Shield. Effect: Absorb Fire; Half Ice.',\n",
       " 'Flame Whip': '13 WP, 1 range, 1% evade, Flail. Element: Fire. Effect: Chance to cast Fire 2.',\n",
       " 'Flash Hat': '+88 HP, +15 MP, Hat. Effect: +1 MA, +1 Speed.',\n",
       " 'Gastrafitis': '13 WP, 5 range, 8% evade, Crossbow. Effect: Chance to cast Noxious Gas.',\n",
       " 'Genji Armor': '+140 HP, +0 MP, Armor.',\n",
       " 'Genji Gauntlet': 'Accessory. Effect: +2 PA, +2 MA.',\n",
       " 'Genji Helmet': '+130 HP, +0 MP, Helmet. ',\n",
       " 'Genji Shield': '46% phys evade, 1% magic evade, Shield. ',\n",
       " 'Germinas Boots': 'Accessory. Effect: +1 Move, +1 Jump.',\n",
       " 'Giant Axe': '15 WP, 1 range, 2% evade, Axe. Effect: Chance to reduce -2 PA.',\n",
       " 'Glacier Gun': '13 WP, 7 range, 4% evade, Gun. Element: Ice.',\n",
       " 'Gokuu Rod': '11 WP, 2 range, 20% evade, Pole. Effect: Chance to Add Innocent.',\n",
       " 'Gold Armor': '+76 HP, +8 MP, Armor.',\n",
       " 'Gold Helmet': '+66 HP, +8 MP, Helmet. ',\n",
       " 'Gold Shield': '25% phys evade, 18% magic evade, Shield. ',\n",
       " 'Gold Staff': '6 WP, 1 range, 20% evade, Staff. Effect: Chance to cast Spell Absorb.',\n",
       " 'Golden Hairpin': '+80 HP, +50 MP, Hat. Effect: Immune Silence.',\n",
       " 'Grand Helmet': '+150 HP, +0 MP, Helmet. Effect: Immune Darkness, Slow, Sleep.',\n",
       " 'Green Beret': '+52 HP, +0 MP, Hat. Effect: +1 Speed, +1 Move.',\n",
       " 'Gungnir': '18 WP, 2 range, 10% evade, Spear. Element: Wind.',\n",
       " 'Headgear': '+40 HP, +0 MP, Hat. Effect: +1 PA.',\n",
       " 'Healing Staff': '4 WP (heal), 1 range, 17% evade, Staff.',\n",
       " \"Heaven's Cloud\": '15 WP, 1 range, 15% evade, Katana. Element: Holy.',\n",
       " 'Hero Shield': '60% phys evade, 30% magic evade, Shield. ',\n",
       " 'Hi-Ether': 'Consumable. Effect: Heals 50 MP.    ',\n",
       " 'Hi-Potion': 'Consumable. Effect: Heals 120 HP.',\n",
       " 'Hidden Knife': '9 WP, 1 range, 8% evade, Ninja Blade. Effect: +1 Speed.',\n",
       " 'Holy Lance': '14 WP, 2 range, 10% evade, Spear. Element: Holy. Effect: Chance to cast Holy.',\n",
       " 'Holy Miter': '+72 HP, +20 MP, Hat. Effect: +1 MA.',\n",
       " 'Holy Water': 'Consumable. Effect: Cancel Undead.',\n",
       " 'Hunting Bow': '9 WP, 5 range, 5% evade, Crossbow. Effect: Chance to cast Foxbird.',\n",
       " 'Hydra Bag': '15 WP, 1 range, 1% evade, Bag. Effect: +1 Speed; Strengthen Wind.',\n",
       " 'Ice Bow': '8 WP, 5 range, 1% evade, Bow. Element: Ice.',\n",
       " 'Ice Brand': '13 WP, 1 range, 10% evade, Sword. Element: Ice. Effect: Chance to cast Ice 2.',\n",
       " 'Ice Rod': '3 WP, 1 range, 20% evade, Rod. Element: Ice. Effect: Chance to cast Ice; Strengthen Ice.',\n",
       " 'Ice Shield': '28% phys evade, 4% magic evade, Shield. Effect: Absorb Ice; Half Fire.',\n",
       " 'Iga Knife': '16 WP, 1 range, 10% evade, Ninja Blade.',\n",
       " 'Iron Fan': '10 WP, 2 range, 20% evade, Pole. Effect: +1 Speed.',\n",
       " 'Iron Helmet': '+46 HP, +0 MP, Helmet. Effect: +1 PA.',\n",
       " 'Iron Sword': '7 WP, 1 range, 12% evade, Sword.',\n",
       " 'Ivory Rod': '12 WP, 2 range, 20% evade, Pole. Element: Earth.',\n",
       " 'Jade Armlet': 'Accessory. Effect: Half Wind; Strengthen Earth; Immune Petrify, Stop.',\n",
       " 'Javelin': '8 WP, 2 range, 10% evade, Spear. Effect: +1 MA.',\n",
       " 'Judo Outfit': '+80 HP, +2 MP, Clothes. Effect: +1 PA; Immune Death.',\n",
       " 'Kaiser Plate': '43% phys evade, 25% magic evade, Shield. Effect: Strengthen Fire, Lightning, Ice.',\n",
       " 'Kikuichimoji': '18 WP, 1 range, 14% evade, Katana. Effect: +1 Move, +1 Jump.',\n",
       " 'Kiyomori': '16 WP, 1 range, 25% evade, Katana. Effect: +1 MA.',\n",
       " 'Koga Knife': '17 WP, 1 range, 5% evade, Ninja Blade.',\n",
       " 'Koutetsu Knife': '12 WP, 1 range, 15% evade, Katana. Effect: +1 PA.',\n",
       " 'Kunai': '7 WP, 1 range, 6% evade, Ninja Blade. Effect: +1 Move.',\n",
       " 'Leather Armor': '+39 HP, +0 MP, Armor. Effect: +1 Speed.',\n",
       " 'Leather Hat': '+28 HP, +3 MP, Hat. Effect: +1 Speed.',\n",
       " 'Leather Helmet': '+35 HP, +0 MP, Helmet. Effect: +1 Speed.',\n",
       " 'Leather Mantle': '10% phys evade, 10% magic evade, Accessory. Effect: +1 Speed.',\n",
       " 'Leather Outfit': '+36 HP, +0 MP, Clothes. Effect: +1 Speed.',\n",
       " 'Light Robe': '+85 HP, +50 MP, Robe. Effect: +1 MA; Absorb Dark; Strengthen Holy.',\n",
       " 'Lightning Bow': '7 WP, 5 range, 3% evade, Bow. Element: Lightning. Effect: Chance to cast Bolt 2.',\n",
       " 'Linen Cuirass': '+44 HP, +9 MP, Armor. Effect: Initial Regen.',\n",
       " 'Linen Robe': '+36 HP, +14 MP, Robe. Effect: +1 MA.',\n",
       " 'Long Bow': '6 WP, 6 range, 1% evade, Bow.',\n",
       " 'Long Sword': '6 WP, 1 range, 20% evade, Sword.',\n",
       " 'Mace of Zeus': '7 WP, 1 range, 15% evade, Staff. Effect: +2 PA, +1 MA.',\n",
       " 'Madlemgen': '12 WP, 3 range, 13% evade, Book. Element: Dark. Effect: Chance to cast Dark Holy.',\n",
       " 'Mage Masher': '5 WP, 1 range, 5% evade, Knife. Effect: Chance to Add Silence.',\n",
       " 'Magic Gauntlet': 'Accessory. Effect: +3 MA.',\n",
       " 'Magic Ring': 'Accessory. Effect: Half Ice; Strengthen Ice; Immune Silence, Berserk.',\n",
       " 'Magic Shuriken': '7 WP, Shuriken. Element: Ice.',\n",
       " \"Maiden's Kiss\": 'Consumable. Effect: Cancel Frog.',\n",
       " 'Main Gauche': '7 WP, 1 range, 40% evade, Knife.',\n",
       " 'Masamune': '21 WP, 1 range, 15% evade, Katana. Effect: Initial Haste. Effect: Chance to Add Death.',\n",
       " 'Materia Blade': '15 WP, 1 range, 10% evade, Sword. Effect: Strengthen Wind, Earth, Water.',\n",
       " 'Maximillian': '+170 HP, +0 MP, Armor. Effect: +1 PA, +1 Move; Immune Oil, Poison.',\n",
       " 'Morning Star': '16 WP, 1 range, 4% evade, Flail.',\n",
       " 'Muramasa': '17 WP, 1 range, 15% evade, Katana. Element: Dark.',\n",
       " 'Murasame': '14 WP, 1 range, 15% evade, Katana. Effect: +2 MA.',\n",
       " 'Musk Rod': '9 WP, 2 range, 25% evade, Pole. Effect: Chance to reduce -2 MA.',\n",
       " 'Mystic Vest': '+40 HP, +10 MP, Clothes. Effect: +1 MA.',\n",
       " 'Mythril Armor': '+62 HP, +4 MP, Armor. Effect: +1 Speed.',\n",
       " 'Mythril Bow': '9 WP, 5 range, 1% evade, Bow. Effect: +1 Speed.',\n",
       " 'Mythril Gun': '9 WP, 7 range, 5% evade, Gun. Effect: +1 Speed.',\n",
       " 'Mythril Helmet': '+58 HP, +4 MP, Helmet. Effect: +1 Speed.',\n",
       " 'Mythril Knife': '6 WP, 1 range, 5% evade, Knife. Effect: +1 Speed.',\n",
       " 'Mythril Shield': '22% phys evade, 5% magic evade, Shield. Effect: +1 Speed.',\n",
       " 'Mythril Spear': '10 WP, 2 range, 10% evade, Spear. Effect: +1 Speed.',\n",
       " 'Mythril Sword': '8 WP, 1 range, 8% evade, Sword. Effect: +1 Speed.',\n",
       " 'Mythril Vest': '+56 HP, +4 MP, Clothes. Effect: +1 Speed.',\n",
       " 'N-Kai Armlet': 'Accessory. Effect: Half Dark; Strengthen Holy; Immune Confusion, Charm.',\n",
       " 'Nagrarock': '4 WP, 1 range, 50% evade, Sword. Element: Dark. Effect: Chance to Add Frog; +2 PA; Permanent Evil, Float.',\n",
       " 'Night Killer': '6 WP, 4 range, 5% evade, Crossbow. Effect: Chance to Add Darkness.',\n",
       " 'Ninja Edge': '11 WP, 1 range, 10% evade, Ninja Blade.',\n",
       " 'Oak Staff': '3 WP, 1 range, 18% evade, Staff. Effect: Absorb Water.',\n",
       " 'Obelisk': '12 WP, 2 range, 10% evade, Spear. Element: Water.',\n",
       " 'Octagon Rod': '13 WP, 2 range, 20% evade, Pole. Effect: Chance to Cancel Float, Reraise, Transparent, Regen, Protect, Shell, Haste, Faith, Reflect.',\n",
       " 'Orichalcum': '9 WP, 1 range, 5% evade, Knife. Effect: Initial Haste.',\n",
       " 'Panther Bag': '12 WP, 1 range, 1% evade, Bag. Effect: Permanent Regen; Strengthen Earth.',\n",
       " 'Papyrus Codex': '10 WP, 3 range, 15% evade, Book. Element: Water. Effect: Chance to Add Faith, Innocent (Random).',\n",
       " 'Partisan': '11 WP, 2 range, 12% evade, Spear.',\n",
       " 'Perseus Bow': '16 WP, 5 range, 1% evade, Bow.',\n",
       " 'Persia': '8 WP, 2 range, 55% evade, Fabric. Effect: +1 Speed.',\n",
       " 'Phoenix Down': 'Consumable. Effect: Cancel Death; if successful, Heal Random(1-20). Kills Undead.',\n",
       " 'Plate Mail': '+68 HP, +0 MP, Armor. Effect: +1 PA.',\n",
       " 'Platinum Armor': '+92 HP, +0 MP, Armor.',\n",
       " 'Platinum Helmet': '+90 HP, +0 MP, Helmet. ',\n",
       " 'Platinum Shield': '37% phys evade, 10% magic evade, Shield. ',\n",
       " 'Platinum Sword': '13 WP, 1 range, 10% evade, Sword.',\n",
       " 'Poison Bow': '7 WP, 5 range, 5% evade, Crossbow. Effect: Chance to Add Poison.',\n",
       " 'Poison Rod': '6 WP, 1 range, 20% evade, Rod. Effect: +2 PA; Chance to Add Poison.',\n",
       " 'Potion': 'Consumable. Effect: Heals 100 HP.',\n",
       " 'Power Sleeve': '+86 HP, +0 MP, Clothes. Effect: +2 PA.',\n",
       " 'Power Wrist': 'Accessory. Effect: +1 PA; Half Holy; Strengthen Fire.',\n",
       " 'Ragnarok': '20 WP, 1 range, 20% evade, Knight Sword. Effect: Permanent Shell.',\n",
       " 'Rainbow Staff': '5 WP, 1 range, 15% evade, Staff. Element: Earth. Effect: Initial Regen.',\n",
       " 'Ramia Harp': '9 WP, 3 range, 12% evade, Harp. Effect: Chance to Add Confusion; Immune Silence.',\n",
       " 'Red Hood': '+36 HP, +16 MP, Hat.',\n",
       " 'Red Shoes': 'Accessory. Effect: +1 MA, +1 Move.',\n",
       " 'Reflect Mail': '+120 HP, +0 MP, Armor. Effect: Permanent Reflect.',\n",
       " 'Reflect Ring': 'Accessory. Effect: Permanent Reflect; Initial Protect.',\n",
       " 'Remedy': 'Consumable. Effect: Cancel Petrify, Darkness, Confusion, Silence, Oil, Frog, Poison, Sleep.',\n",
       " 'Ribbon': \"+21 HP, +3 MP, Hat. Effect: Immune Death, Undead, Petrify, Darkness, Confusion, Silence, Blood Suck, Oil, Berserk, Frog, Poison, Slow, Stop, Charm, Sleep, Don't Move, Don't Act, Death Sentence.\",\n",
       " 'Robe of Lords': '+100 HP, +80 MP, Robe. Effect: +1 PA, +1 MA; Initial Protect, Shell.',\n",
       " 'Rod': '3 WP, 1 range, 23% evade, Rod. Effect: Absorb Lightning.',\n",
       " 'Romanda Gun': '7 WP, 8 range, 6% evade, Gun.',\n",
       " 'Round Shield': '19% phys evade, 6% magic evade, Shield. ',\n",
       " 'Rubber Costume': \"+115 HP, +30 MP, Clothes. Effect: Cancel Lightning; Immune Don't Act.\",\n",
       " 'Rubber Shoes': 'Accessory. Effect: Half Lightning; Strengthen Lightning; Initial Shell.',\n",
       " 'Rune Blade': '14 WP, 1 range, 15% evade, Sword. Effect: +2 MA.',\n",
       " 'Ryozan Silk': '15 WP, 2 range, 50% evade, Fabric. Effect: Chance to Add Stop.',\n",
       " 'Sage Staff': '8 WP, 1 range, 20% evade, Staff. Effect: Permanent Protect.',\n",
       " 'Salty Rage': 'Accessory. Effect: Permanent Protect, Shell.',\n",
       " 'Sasuke Knife': '14 WP, 1 range, 15% evade, Ninja Blade.',\n",
       " 'Save the Queen': '19 WP, 1 range, 30% evade, Knight Sword. Effect: Permanent Protect.',\n",
       " 'Scorpion Tail': '23 WP, 1 range, 1% evade, Flail. Element: Earth. Effect: Chance to Add Oil.',\n",
       " 'Secret Clothes': '+44 HP, +0 MP, Clothes. Effect: +2 Speed; Initial Transparent.',\n",
       " 'Setiemson': 'Accessory. Effect: Permanent Haste.',\n",
       " 'Short Edge': '10 WP, 1 range, 7% evade, Ninja Blade. Effect: +1 Jump.',\n",
       " 'Shuriken': '5 WP, Shuriken.',\n",
       " 'Silk Robe': '+42 HP, +18 MP, Robe. Effect: +1 Speed.',\n",
       " 'Silver Bow': '7 WP, 5 range, 1% evade, Bow. Effect: +2 MA.',\n",
       " 'Slasher': '19 WP, 1 range, 3% evade, Axe. Effect: Chance to Add Slow.',\n",
       " 'Sleep Sword': '9 WP, 1 range, 6% evade, Sword. Effect: Chance to Add Sleep.',\n",
       " 'Small Mantle': '15% phys evade, 15% magic evade, Accessory. Effect: Half Fire.',\n",
       " 'Soft': 'Consumable. Effect: Cancel Petrify.',\n",
       " 'Spark Bomb': '8 WP, Bomb. Element: Lightning.',\n",
       " 'Spear': '9 WP, 2 range, 14% evade, Spear. Effect: +1 Jump.',\n",
       " 'Spell Edge': \"12 WP, 1 range, 5% evade, Ninja Blade. Effect: Chance to add Don't Act.\",\n",
       " 'Spike Shoes': 'Accessory. Effect: +1 Speed, +1 Jump.',\n",
       " 'Sprint Shoes': 'Accessory. Effect: +2 Speed.',\n",
       " 'Star Bag': '20 WP, 1 range, 1% evade, Bag.',\n",
       " 'Stone Gun': '13 WP, 6 range, 9% evade, Gun. Effect: Immune Petrify, Float; Initial Slow.',\n",
       " 'Thief Hat': \"+64 HP, +0 MP, Hat. Effect: +2 Speed; Immune Don't Move.\",\n",
       " 'Thunder Rod': '3 WP, 1 range, 20% evade, Rod. Element: Lightning. Effect: Chance to cast Bolt; Strengthen Lightning.',\n",
       " 'Torrent Bomb': '8 WP, Bomb. Element: Water.',\n",
       " 'Triangle Hat': '+46 HP, +12 MP, Hat. Effect: +1 MA, +1 Jump.',\n",
       " 'Twist Headband': '+58 HP, +0 MP, Hat. Effect: +2 PA.',\n",
       " 'Ultimus Bow': '12 WP, 5 range, 2% evade, Bow.',\n",
       " 'Vanish Mantle': '35% phys evade, 0% magic evade, Accessory. Effect: Strengthen Dark; Initial Transparent.',\n",
       " 'Venetian Shield': '50% phys evade, 20% magic evade, Shield. Effect: Half Fire, Lightning, Ice.',\n",
       " 'Whale Whisker': '16 WP, 2 range, 20% evade, Pole. Element: Water. Effect: Chance to cast Leviathan.',\n",
       " 'White Robe': '+75 HP, +30 MP, Robe. Effect: Half Fire, Lightning, Ice.',\n",
       " 'White Staff': \"4 WP, 1 range, 15% evade, Staff. Element: Holy. Effect: Chance to Cancel Undead, Petrify, Darkness, Confusion, Silence, Blood Suck, Float, Reraise, Berserk, Frog, Poison, Regen, Protect, Shell, Haste, Slow, Stop, Innocent, Charm, Sleep, Don't Move, Don't Act, Reflect, Death Sentence.\",\n",
       " 'Windslash Bow': '10 WP, 5 range, 5% evade, Bow. Element: Wind.',\n",
       " 'Wizard Mantle': '18% phys evade, 18% magic evade, Accessory. Effect: +1 MA.',\n",
       " 'Wizard Outfit': '+68 HP, +15 MP, Clothes. Effect: +2 MA.',\n",
       " 'Wizard Robe': '+49 HP, +22 MP, Robe. Effect: +2 MA.',\n",
       " 'Wizard Rod': '4 WP, 1 range, 20% evade, Rod. Effect: +2 MA.',\n",
       " 'Wizard Staff': '4 WP, 1 range, 15% evade, Staff. Effect: +1 MA.',\n",
       " 'X-Potion': 'Consumable. Effect: Heals 150 HP.',\n",
       " 'Yagyu Shuriken': '9 WP, Shuriken. Element: Dark.',\n",
       " 'Yoichi Bow': '14 WP, 5 range, 1% evade, Bow. Effect: +1 Move.',\n",
       " 'Zorlin Shape': '12 WP, 1 range, 10% evade, Knife. Effect: Chance to Add Sleep.'}"
      ]
     },
     "execution_count": 6,
     "metadata": {},
     "output_type": "execute_result"
    }
   ],
   "source": [
    "l[\"Item\"]"
   ]
  },
  {
   "cell_type": "code",
   "execution_count": 7,
   "metadata": {},
   "outputs": [],
   "source": [
    "tournaments_url = \"https://fftbg.com/api/tournaments\"\n",
    "mustadio_url = \"http://mustadio-staging.herokuapp.com/api/tournaments/tournament_{}\""
   ]
  },
  {
   "cell_type": "code",
   "execution_count": 8,
   "metadata": {},
   "outputs": [
    {
     "name": "stdout",
     "output_type": "stream",
     "text": [
      "http://mustadio-staging.herokuapp.com/api/tournaments/tournament_1585281512719\n",
      "{'id': 'tournament_1585281512719', 'teams': [{'tournamentId': 'tournament_1585281512719', 'teamName': 'red', 'units': [{'name': 'Broomstar', 'gender': 'Male', 'brave': '64', 'zodiac': 'Pisces', 'faith': '79', 'tournamentId': 'tournament_1585281512719', 'teamName': 'red', 'class': {'name': 'Mime', 'gender': 'Male'}, 'abilities': {'mainActive': {'name': 'Mimic', 'learned': [{'name': 'Mimic'}]}, 'subActive': {'name': '', 'learned': []}, 'react': {'name': 'Critical Quick'}, 'support': {'name': 'Doublehand'}, 'move': {'name': 'Ignore Terrain'}}, 'equipment': [{'name': 'Golden Hairpin'}, {'name': 'Wizard Robe'}, {'name': 'Magic Gauntlet'}]}, {'name': 'Maeveen', 'gender': 'Male', 'brave': '66', 'zodiac': 'Taurus', 'faith': '69', 'tournamentId': 'tournament_1585281512719', 'teamName': 'red', 'class': {'name': 'Monk', 'gender': 'Male'}, 'abilities': {'mainActive': {'name': 'Punch Art', 'learned': [{'name': 'Chakra'}, {'name': 'Seal Evil'}, {'name': 'Purification'}]}, 'subActive': {'name': 'Item', 'learned': [{'name': 'Holy Water'}, {'name': 'Eye Drop'}, {'name': 'Soft'}, {'name': 'Phoenix Down'}, {'name': 'Potion'}, {'name': 'Hi-Potion'}, {'name': 'Ether'}]}, 'react': {'name': 'Distribute'}, 'support': {'name': 'Attack UP'}, 'move': {'name': 'Levitate'}}, 'equipment': [{'name': 'Golden Hairpin'}, {'name': 'Secret Clothes'}, {'name': 'Dracula Mantle'}]}, {'name': 'Lanshaft', 'gender': 'Male', 'brave': '57', 'zodiac': 'Aquarius', 'faith': '78', 'tournamentId': 'tournament_1585281512719', 'teamName': 'red', 'class': {'name': 'Bard', 'gender': 'Male'}, 'abilities': {'mainActive': {'name': 'Sing', 'learned': [{'name': 'Life Song'}, {'name': 'Sky Demon'}, {'name': 'Battle Song'}, {'name': 'Diamond Blade'}]}, 'subActive': {'name': 'Throw', 'learned': [{'name': 'Staff'}, {'name': 'Knife'}]}, 'react': {'name': 'Sunken State'}, 'support': {'name': 'Equip Sword'}, 'move': {'name': 'Move+2'}}, 'equipment': [{'name': 'Kiyomori'}, {'name': 'Triangle Hat'}, {'name': 'Leather Armor'}, {'name': 'Reflect Ring'}]}, {'name': 'DudeMonkey77', 'gender': 'Male', 'brave': '62', 'zodiac': 'Libra', 'faith': '77', 'tournamentId': 'tournament_1585281512719', 'teamName': 'red', 'class': {'name': 'Summoner', 'gender': 'Male'}, 'abilities': {'mainActive': {'name': 'Summon Magic', 'learned': [{'name': 'Shiva'}, {'name': 'Ramuh'}, {'name': 'Carbunkle'}, {'name': 'Silf'}, {'name': 'Lich'}]}, 'subActive': {'name': 'Yin Yang Magic', 'learned': [{'name': 'Sleep'}, {'name': 'Blind'}, {'name': 'Life Drain'}, {'name': 'Pray Faith'}, {'name': 'Doubt Faith'}, {'name': 'Silence Song'}, {'name': 'Dispel Magic'}, {'name': 'Paralyze'}]}, 'react': {'name': 'Dragon Spirit'}, 'support': {'name': 'Dual Wield'}, 'move': {'name': 'Retreat'}}, 'equipment': [{'name': 'Ice Rod'}, {'name': 'Poison Rod'}, {'name': 'Triangle Hat'}, {'name': 'Mythril Vest'}, {'name': 'Small Mantle'}]}]}, {'tournamentId': 'tournament_1585281512719', 'teamName': 'blue', 'units': [{'name': 'TheMurkGnome', 'gender': 'Monster', 'brave': '51', 'zodiac': 'Taurus', 'faith': '58', 'tournamentId': 'tournament_1585281512719', 'teamName': 'blue', 'class': {'name': 'Bomb', 'gender': 'Monster'}, 'abilities': {}, 'equipment': []}, {'name': 'Alrightbye', 'gender': 'Male', 'brave': '63', 'zodiac': 'Capricorn', 'faith': '59', 'tournamentId': 'tournament_1585281512719', 'teamName': 'blue', 'class': {'name': 'Calculator', 'gender': 'Male'}, 'abilities': {'mainActive': {'name': 'Math Skill', 'learned': [{'name': '3'}, {'name': 'Prime Number'}, {'name': 'CT'}, {'name': '5'}]}, 'subActive': {'name': 'Black Magic', 'learned': [{'name': 'Death'}, {'name': 'Frog'}, {'name': 'Ice 4'}, {'name': 'Ice 3'}, {'name': 'Ice'}, {'name': 'Bolt'}, {'name': 'Fire 3'}]}, 'react': {'name': 'Earplug'}, 'support': {'name': 'Doublehand'}, 'move': {'name': 'Move-MP Up'}}, 'equipment': [{'name': 'Bestiary'}, {'name': 'Black Hood'}, {'name': 'Black Robe'}, {'name': 'Red Shoes'}]}, {'name': 'Chronoxtrigger', 'gender': 'Female', 'brave': '77', 'zodiac': 'Virgo', 'faith': '45', 'tournamentId': 'tournament_1585281512719', 'teamName': 'blue', 'class': {'name': 'Summoner', 'gender': 'Female'}, 'abilities': {'mainActive': {'name': 'Summon Magic', 'learned': [{'name': 'Titan'}, {'name': 'Moogle'}, {'name': 'Silf'}, {'name': 'Cyclops'}]}, 'subActive': {'name': 'Basic Skill', 'learned': [{'name': 'Heal'}, {'name': 'Scream'}, {'name': 'Tickle'}, {'name': 'Cheer Up'}]}, 'react': {'name': 'PA Save'}, 'support': {'name': 'Short Charge'}, 'move': {'name': 'Jump+1'}}, 'equipment': [{'name': 'Oak Staff'}, {'name': 'Twist Headband'}, {'name': 'Judo Outfit'}, {'name': 'Power Wrist'}]}, {'name': 'Rastanar', 'gender': 'Male', 'brave': '53', 'zodiac': 'Libra', 'faith': '61', 'tournamentId': 'tournament_1585281512719', 'teamName': 'blue', 'class': {'name': 'Oracle', 'gender': 'Male'}, 'abilities': {'mainActive': {'name': 'Yin Yang Magic', 'learned': [{'name': 'Blind Rage'}, {'name': 'Sleep'}, {'name': 'Dispel Magic'}, {'name': 'Poison'}, {'name': 'Foxbird'}, {'name': 'Confusion Song'}, {'name': 'Spell Absorb'}, {'name': 'Zombie'}, {'name': 'Silence Song'}, {'name': 'Petrify'}]}, 'subActive': {'name': 'Black Magic', 'learned': [{'name': 'Ice 3'}, {'name': 'Bolt 3'}, {'name': 'Bolt 2'}, {'name': 'Bolt'}, {'name': 'Fire 3'}, {'name': 'Empower'}, {'name': 'Fire 2'}, {'name': 'Ice 4'}]}, 'react': {'name': 'Abandon'}, 'support': {'name': 'Equip Knife'}, 'move': {'name': 'Fly'}}, 'equipment': [{'name': 'Ninja Edge'}, {'name': 'Feather Hat'}, {'name': 'Chain Vest'}, {'name': 'Wizard Mantle'}]}]}, {'tournamentId': 'tournament_1585281512719', 'teamName': 'green', 'units': [{'name': 'Galkife', 'gender': 'Male', 'brave': '58', 'zodiac': 'Capricorn', 'faith': '77', 'tournamentId': 'tournament_1585281512719', 'teamName': 'green', 'class': {'name': 'Ninja', 'gender': 'Male'}, 'abilities': {'mainActive': {'name': 'Throw', 'learned': [{'name': 'Shuriken'}, {'name': 'Bomb'}]}, 'subActive': {'name': 'Charge', 'learned': [{'name': 'Charge+3'}, {'name': 'Charge+7'}]}, 'react': {'name': 'Distribute'}, 'support': {'name': 'Sicken'}, 'move': {'name': 'Jump+3'}}, 'equipment': [{'name': 'Orichalcum'}, {'name': 'Spell Edge'}, {'name': 'Golden Hairpin'}, {'name': 'Mythril Vest'}, {'name': '108 Gems'}]}, {'name': 'Bad1dea', 'gender': 'Female', 'brave': '75', 'zodiac': 'Serpentarius', 'faith': '57', 'tournamentId': 'tournament_1585281512719', 'teamName': 'green', 'class': {'name': 'Dancer', 'gender': 'Female'}, 'abilities': {'mainActive': {'name': 'Dance', 'learned': [{'name': 'Disillusion'}, {'name': 'Nether Demon'}]}, 'subActive': {'name': 'Punch Art', 'learned': [{'name': 'Seal Evil'}, {'name': 'Chakra'}, {'name': 'Pummel'}, {'name': 'Revive'}, {'name': 'Secret Fist'}, {'name': 'Spin Fist'}, {'name': 'Wave Fist'}]}, 'react': {'name': 'Mana Shield'}, 'support': {'name': 'Halve MP'}, 'move': {'name': 'Move+3'}}, 'equipment': [{'name': 'Persia'}, {'name': 'Holy Miter'}, {'name': 'White Robe'}, {'name': 'Elf Mantle'}]}, {'name': 'Theallmightyensiron', 'gender': 'Monster', 'brave': '59', 'zodiac': 'Capricorn', 'faith': '72', 'tournamentId': 'tournament_1585281512719', 'teamName': 'green', 'class': {'name': 'Ochu', 'gender': 'Monster'}, 'abilities': {}, 'equipment': []}, {'name': 'TheRobbieRobster', 'gender': 'Male', 'brave': '65', 'zodiac': 'Libra', 'faith': '72', 'tournamentId': 'tournament_1585281512719', 'teamName': 'green', 'class': {'name': 'Priest', 'gender': 'Male'}, 'abilities': {'mainActive': {'name': 'White Magic', 'learned': [{'name': 'Cure 2'}, {'name': 'Raise'}, {'name': 'Raise 2'}, {'name': 'Shell'}, {'name': 'Wall'}, {'name': 'Esuna'}]}, 'subActive': {'name': 'Jump', 'learned': [{'name': 'Level Jump5'}, {'name': 'Vertical Jump8'}]}, 'react': {'name': 'Absorb Used MP'}, 'support': {'name': 'Equip Gun'}, 'move': {'name': 'Move+2'}}, 'equipment': [{'name': 'Blast Gun'}, {'name': 'Red Hood'}, {'name': 'Mythril Vest'}, {'name': 'Feather Boots'}]}]}, {'tournamentId': 'tournament_1585281512719', 'teamName': 'yellow', 'units': [{'name': 'Zagorsek', 'gender': 'Female', 'brave': '78', 'zodiac': 'Gemini', 'faith': '50', 'tournamentId': 'tournament_1585281512719', 'teamName': 'yellow', 'class': {'name': 'Wizard', 'gender': 'Female'}, 'abilities': {'mainActive': {'name': 'Black Magic', 'learned': [{'name': 'Ice 2'}, {'name': 'Bolt 2'}, {'name': 'Fire 4'}, {'name': 'Bolt'}]}, 'subActive': {'name': 'Steal', 'learned': [{'name': 'Leg Aim'}, {'name': 'Steal Shield'}, {'name': 'Steal Armor'}, {'name': 'Steal Helmet'}, {'name': 'Steal Heart'}]}, 'react': {'name': 'Hamedo'}, 'support': {'name': 'Magic Defense UP'}, 'move': {'name': 'Move+3'}}, 'equipment': [{'name': 'Cultist Dagger'}, {'name': 'Holy Miter'}, {'name': 'Silk Robe'}, {'name': 'Elf Mantle'}]}, {'name': 'Loveyouallfriends', 'gender': 'Male', 'brave': '55', 'zodiac': 'Aquarius', 'faith': '78', 'tournamentId': 'tournament_1585281512719', 'teamName': 'yellow', 'class': {'name': 'Monk', 'gender': 'Male'}, 'abilities': {'mainActive': {'name': 'Punch Art', 'learned': [{'name': 'Spin Fist'}, {'name': 'Pummel'}, {'name': 'Revive'}, {'name': 'Wave Fist'}]}, 'subActive': {'name': 'Talk Skill', 'learned': [{'name': 'Invitation'}, {'name': 'Insult'}, {'name': 'Refute'}, {'name': 'Negotiate'}, {'name': 'Persuade'}, {'name': 'Preach'}]}, 'react': {'name': 'Speed Save'}, 'support': {'name': 'Attack UP'}, 'move': {'name': 'Move-HP Up'}}, 'equipment': [{'name': 'Holy Miter'}, {'name': 'Mystic Vest'}, {'name': 'Magic Ring'}]}, {'name': 'ColetteMSLP', 'gender': 'Male', 'brave': '68', 'zodiac': 'Sagittarius', 'faith': '70', 'tournamentId': 'tournament_1585281512719', 'teamName': 'yellow', 'class': {'name': 'Priest', 'gender': 'Male'}, 'abilities': {'mainActive': {'name': 'White Magic', 'learned': [{'name': 'Reraise'}, {'name': 'Regen'}, {'name': 'Protect 2'}, {'name': 'Raise'}, {'name': 'Raise 2'}, {'name': 'Shell 2'}]}, 'subActive': {'name': 'Jump', 'learned': [{'name': 'Vertical Jump8'}, {'name': 'Level Jump5'}]}, 'react': {'name': 'Parry'}, 'support': {'name': 'Equip Knife'}, 'move': {'name': 'Move-HP Up'}}, 'equipment': [{'name': 'Air Knife'}, {'name': 'Flash Hat'}, {'name': 'Rubber Costume'}, {'name': 'Defense Ring'}]}, {'name': 'StealthModeLocke', 'gender': 'Female', 'brave': '60', 'zodiac': 'Pisces', 'faith': '71', 'tournamentId': 'tournament_1585281512719', 'teamName': 'yellow', 'class': {'name': 'Dancer', 'gender': 'Female'}, 'abilities': {'mainActive': {'name': 'Dance', 'learned': [{'name': 'Last Dance'}, {'name': 'Dragon Pit'}, {'name': 'Witch Hunt'}, {'name': 'Polka Polka'}, {'name': 'Wiznaibus'}, {'name': 'Nameless Dance'}]}, 'subActive': {'name': 'Item', 'learned': [{'name': 'Potion'}, {'name': 'Antidote'}, {'name': 'Hi-Ether'}, {'name': 'Phoenix Down'}, {'name': 'Ether'}]}, 'react': {'name': 'Catch'}, 'support': {'name': 'Doublehand'}, 'move': {'name': 'Move+2'}}, 'equipment': [{'name': 'Cute Bag'}, {'name': 'Headgear'}, {'name': 'Wizard Outfit'}, {'name': 'Battle Boots'}]}]}, {'tournamentId': 'tournament_1585281512719', 'teamName': 'white', 'units': [{'name': 'DeathTaxesAndAnime', 'gender': 'Female', 'brave': '47', 'zodiac': 'Aquarius', 'faith': '74', 'tournamentId': 'tournament_1585281512719', 'teamName': 'white', 'class': {'name': 'Priest', 'gender': 'Female'}, 'abilities': {'mainActive': {'name': 'White Magic', 'learned': [{'name': 'Esuna'}, {'name': 'Protect'}, {'name': 'Protect 2'}, {'name': 'Shell 2'}, {'name': 'Raise'}]}, 'subActive': {'name': 'Dance', 'learned': [{'name': 'Wiznaibus'}, {'name': 'Nameless Dance'}]}, 'react': {'name': 'Brave Up'}, 'support': {'name': 'Dual Wield'}, 'move': {'name': 'Move-HP Up'}}, 'equipment': [{'name': 'Wizard Staff'}, {'name': 'White Staff'}, {'name': 'Cachusha'}, {'name': 'Linen Robe'}, {'name': 'Cursed Ring'}]}, {'name': 'Pie108', 'gender': 'Female', 'brave': '78', 'zodiac': 'Sagittarius', 'faith': '59', 'tournamentId': 'tournament_1585281512719', 'teamName': 'white', 'class': {'name': 'Lancer', 'gender': 'Female'}, 'abilities': {'mainActive': {'name': 'Jump', 'learned': [{'name': 'Vertical Jump6'}, {'name': 'Level Jump4'}]}, 'subActive': {'name': 'Summon Magic', 'learned': [{'name': 'Moogle'}, {'name': 'Salamander'}, {'name': 'Lich'}, {'name': 'Ramuh'}, {'name': 'Silf'}, {'name': 'Fairy'}, {'name': 'Leviathan'}]}, 'react': {'name': 'Parry'}, 'support': {'name': 'Concentrate'}, 'move': {'name': 'Move-MP Up'}}, 'equipment': [{'name': 'Ivory Rod'}, {'name': 'Flame Shield'}, {'name': 'Bronze Helmet'}, {'name': 'Chameleon Robe'}, {'name': 'Defense Ring'}]}, {'name': 'DrThwack', 'gender': 'Female', 'brave': '74', 'zodiac': 'Aquarius', 'faith': '40', 'tournamentId': 'tournament_1585281512719', 'teamName': 'white', 'class': {'name': 'Monk', 'gender': 'Female'}, 'abilities': {'mainActive': {'name': 'Punch Art', 'learned': [{'name': 'Wave Fist'}, {'name': 'Secret Fist'}, {'name': 'Purification'}, {'name': 'Seal Evil'}]}, 'subActive': {'name': 'Draw Out', 'learned': [{'name': 'Kiyomori'}, {'name': 'Koutetsu'}]}, 'react': {'name': 'Earplug'}, 'support': {'name': 'Magic Attack UP'}, 'move': {'name': 'Teleport 2'}}, 'equipment': [{'name': 'Flash Hat'}, {'name': 'Power Sleeve'}, {'name': 'Wizard Mantle'}]}, {'name': 'Lyner87', 'gender': 'Female', 'brave': '57', 'zodiac': 'Capricorn', 'faith': '61', 'tournamentId': 'tournament_1585281512719', 'teamName': 'white', 'class': {'name': 'Squire', 'gender': 'Female'}, 'abilities': {'mainActive': {'name': 'Basic Skill', 'learned': [{'name': 'Scream'}, {'name': 'Tickle'}, {'name': 'Wish'}]}, 'subActive': {'name': 'Summon Magic', 'learned': [{'name': 'Fairy'}, {'name': 'Shiva'}, {'name': 'Ramuh'}, {'name': 'Titan'}, {'name': 'Golem'}, {'name': 'Carbunkle'}]}, 'react': {'name': 'Dragon Spirit'}, 'support': {'name': 'Doublehand'}, 'move': {'name': 'Teleport'}}, 'equipment': [{'name': 'Cute Bag'}, {'name': 'Triangle Hat'}, {'name': 'Bronze Armor'}, {'name': 'Magic Ring'}]}]}, {'tournamentId': 'tournament_1585281512719', 'teamName': 'black', 'units': [{'name': 'Byrdturbo', 'gender': 'Male', 'brave': '48', 'zodiac': 'Capricorn', 'faith': '53', 'tournamentId': 'tournament_1585281512719', 'teamName': 'black', 'class': {'name': 'Calculator', 'gender': 'Male'}, 'abilities': {'mainActive': {'name': 'Math Skill', 'learned': [{'name': '5'}, {'name': '3'}, {'name': 'CT'}, {'name': 'Height'}]}, 'subActive': {'name': 'White Magic', 'learned': [{'name': 'Cure 4'}, {'name': 'Shell'}, {'name': 'Protect 2'}, {'name': 'Protect'}, {'name': 'Regen'}, {'name': 'Raise 2'}, {'name': 'Esuna'}]}, 'react': {'name': 'Meatbone Slash'}, 'support': {'name': 'Short Charge'}, 'move': {'name': 'Jump+2'}}, 'equipment': [{'name': 'Bestiary'}, {'name': 'Thief Hat'}, {'name': 'Black Robe'}, {'name': 'Feather Mantle'}]}, {'name': 'Electric Glass', 'gender': 'Male', 'brave': '52', 'zodiac': 'Gemini', 'faith': '69', 'tournamentId': 'tournament_1585281512719', 'teamName': 'black', 'class': {'name': 'Archer', 'gender': 'Male'}, 'abilities': {'mainActive': {'name': 'Charge', 'learned': [{'name': 'Charge+7'}, {'name': 'Charge+20'}]}, 'subActive': {'name': 'Time Magic', 'learned': [{'name': 'Demi 2'}, {'name': 'Slow'}, {'name': 'Slow 2'}, {'name': 'Immobilize'}, {'name': 'Haste'}, {'name': 'Stabilize Time'}]}, 'react': {'name': 'Brave Up'}, 'support': {'name': 'Maintenance'}, 'move': {'name': 'Levitate'}}, 'equipment': [{'name': 'Glacier Gun'}, {'name': 'Buckler'}, {'name': 'Red Hood'}, {'name': 'Leather Outfit'}, {'name': 'Spike Shoes'}]}, {'name': 'Bahamut64', 'gender': 'Female', 'brave': '78', 'zodiac': 'Taurus', 'faith': '49', 'tournamentId': 'tournament_1585281512719', 'teamName': 'black', 'class': {'name': 'Wizard', 'gender': 'Female'}, 'abilities': {'mainActive': {'name': 'Black Magic', 'learned': [{'name': 'Ice 2'}, {'name': 'Flare'}, {'name': 'Bolt 3'}, {'name': 'Fire'}, {'name': 'Fire 4'}]}, 'subActive': {'name': 'Jump', 'learned': [{'name': 'Vertical Jump2'}, {'name': 'Level Jump8'}]}, 'react': {'name': 'Hamedo'}, 'support': {'name': 'Magic Attack UP'}, 'move': {'name': 'Lava Walking'}}, 'equipment': [{'name': 'Flame Rod'}, {'name': 'Triangle Hat'}, {'name': 'Light Robe'}, {'name': 'Chantage'}]}, {'name': 'Cougboi', 'gender': 'Male', 'brave': '63', 'zodiac': 'Pisces', 'faith': '56', 'tournamentId': 'tournament_1585281512719', 'teamName': 'black', 'class': {'name': 'Lancer', 'gender': 'Male'}, 'abilities': {'mainActive': {'name': 'Jump', 'learned': [{'name': 'Vertical Jump6'}, {'name': 'Level Jump8'}]}, 'subActive': {'name': 'Steal', 'learned': [{'name': 'Gil Taking'}, {'name': 'Steal Weapon'}, {'name': 'Steal Heart'}]}, 'react': {'name': 'Sunken State'}, 'support': {'name': 'Maintenance'}, 'move': {'name': 'Move+1'}}, 'equipment': [{'name': 'Javelin'}, {'name': 'Gold Shield'}, {'name': 'Diamond Helmet'}, {'name': 'Mythril Armor'}, {'name': 'Elf Mantle'}]}]}, {'tournamentId': 'tournament_1585281512719', 'teamName': 'purple', 'units': [{'name': 'Gelwain', 'gender': 'Male', 'brave': '46', 'zodiac': 'Taurus', 'faith': '55', 'tournamentId': 'tournament_1585281512719', 'teamName': 'purple', 'class': {'name': 'Bard', 'gender': 'Male'}, 'abilities': {'mainActive': {'name': 'Sing', 'learned': [{'name': 'Sky Demon'}, {'name': 'Diamond Blade'}]}, 'subActive': {'name': 'Punch Art', 'learned': [{'name': 'Wave Fist'}, {'name': 'Revive'}, {'name': 'Chakra'}, {'name': 'Purification'}]}, 'react': {'name': 'Catch'}, 'support': {'name': 'Doublehand'}, 'move': {'name': 'Move+1'}}, 'equipment': [{'name': 'Ice Bow'}, {'name': 'Golden Hairpin'}, {'name': 'Linen Cuirass'}, {'name': 'Jade Armlet'}]}, {'name': 'Lazerkick', 'gender': 'Female', 'brave': '44', 'zodiac': 'Virgo', 'faith': '49', 'tournamentId': 'tournament_1585281512719', 'teamName': 'purple', 'class': {'name': 'Priest', 'gender': 'Female'}, 'abilities': {'mainActive': {'name': 'White Magic', 'learned': [{'name': 'Reraise'}, {'name': 'Regen'}, {'name': 'Shell 2'}, {'name': 'Esuna'}, {'name': 'Raise'}]}, 'subActive': {'name': 'Battle Skill', 'learned': [{'name': 'Magic Break'}, {'name': 'Stasis Sword'}, {'name': 'Weapon Break'}, {'name': 'Justice Sword'}, {'name': 'Power Break'}, {'name': 'Night Sword'}]}, 'react': {'name': 'Auto Potion'}, 'support': {'name': 'Magic Defense UP'}, 'move': {'name': 'Waterwalking'}}, 'equipment': [{'name': 'Gold Staff'}, {'name': 'Black Hood'}, {'name': 'Black Robe'}, {'name': 'Defense Ring'}]}, {'name': 'SpaZmodeus', 'gender': 'Monster', 'brave': '42', 'zodiac': 'Libra', 'faith': '51', 'tournamentId': 'tournament_1585281512719', 'teamName': 'purple', 'class': {'name': 'Gobbledeguck', 'gender': 'Monster'}, 'abilities': {}, 'equipment': []}, {'name': 'AdmiralPikachu', 'gender': 'Female', 'brave': '50', 'zodiac': 'Cancer', 'faith': '60', 'tournamentId': 'tournament_1585281512719', 'teamName': 'purple', 'class': {'name': 'Oracle', 'gender': 'Female'}, 'abilities': {'mainActive': {'name': 'Yin Yang Magic', 'learned': [{'name': 'Silence Song'}, {'name': 'Sleep'}, {'name': 'Blind Rage'}, {'name': 'Life Drain'}, {'name': 'Poison'}, {'name': 'Pray Faith'}]}, 'subActive': {'name': 'Talk Skill', 'learned': [{'name': 'Refute'}, {'name': 'Mimic Daravon'}, {'name': 'Insult'}, {'name': 'Preach'}, {'name': 'Invitation'}, {'name': 'Persuade'}]}, 'react': {'name': 'Hamedo'}, 'support': {'name': 'Doublehand'}, 'move': {'name': 'Levitate'}}, 'equipment': [{'name': 'Musk Rod'}, {'name': 'Twist Headband'}, {'name': 'Leather Outfit'}, {'name': 'Spike Shoes'}]}]}, {'tournamentId': 'tournament_1585281512719', 'teamName': 'brown', 'units': [{'name': 'SeedSC', 'gender': 'Male', 'brave': '70', 'zodiac': 'Aquarius', 'faith': '64', 'tournamentId': 'tournament_1585281512719', 'teamName': 'brown', 'class': {'name': 'Archer', 'gender': 'Male'}, 'abilities': {'mainActive': {'name': 'Charge', 'learned': [{'name': 'Charge+10'}, {'name': 'Charge+1'}, {'name': 'Charge+20'}]}, 'subActive': {'name': 'Jump', 'learned': [{'name': 'Level Jump2'}, {'name': 'Vertical Jump2'}]}, 'react': {'name': 'Counter Flood'}, 'support': {'name': 'Doublehand'}, 'move': {'name': 'Jump+3'}}, 'equipment': [{'name': 'Romanda Gun'}, {'name': 'Black Hood'}, {'name': 'Wizard Outfit'}, {'name': 'Angel Ring'}]}, {'name': 'Jethrothrul', 'gender': 'Male', 'brave': '44', 'zodiac': 'Cancer', 'faith': '45', 'tournamentId': 'tournament_1585281512719', 'teamName': 'brown', 'class': {'name': 'Squire', 'gender': 'Male'}, 'abilities': {'mainActive': {'name': 'Basic Skill', 'learned': [{'name': 'Accumulate'}, {'name': 'Wish'}, {'name': 'Heal'}, {'name': 'Fury'}, {'name': 'Tickle'}]}, 'subActive': {'name': 'Punch Art', 'learned': [{'name': 'Revive'}, {'name': 'Chakra'}, {'name': 'Purification'}, {'name': 'Secret Fist'}]}, 'react': {'name': 'Parry'}, 'support': {'name': 'Long Status'}, 'move': {'name': 'Ignore Height'}}, 'equipment': [{'name': 'Slasher'}, {'name': 'Platinum Shield'}, {'name': 'Leather Helmet'}, {'name': 'Earth Clothes'}, {'name': 'Bracer'}]}, {'name': 'RjA0zcOQ96', 'gender': 'Monster', 'brave': '78', 'zodiac': 'Gemini', 'faith': '79', 'tournamentId': 'tournament_1585281512719', 'teamName': 'brown', 'class': {'name': 'Revenant', 'gender': 'Monster'}, 'abilities': {}, 'equipment': []}, {'name': 'Manc0', 'gender': 'Female', 'brave': '66', 'zodiac': 'Aquarius', 'faith': '78', 'tournamentId': 'tournament_1585281512719', 'teamName': 'brown', 'class': {'name': 'Oracle', 'gender': 'Female'}, 'abilities': {'mainActive': {'name': 'Yin Yang Magic', 'learned': [{'name': 'Zombie'}, {'name': 'Blind Rage'}, {'name': 'Foxbird'}]}, 'subActive': {'name': 'Charge', 'learned': [{'name': 'Charge+20'}, {'name': 'Charge+2'}, {'name': 'Charge+3'}, {'name': 'Charge+10'}]}, 'react': {'name': 'Auto Potion'}, 'support': {'name': 'Short Charge'}, 'move': {'name': 'Lava Walking'}}, 'equipment': [{'name': 'Bestiary'}, {'name': 'Red Hood'}, {'name': 'Wizard Robe'}, {'name': 'Magic Gauntlet'}]}]}, {'tournamentId': 'tournament_1585281512719', 'teamName': 'champion', 'units': [{'name': 'ZZ Yoshi', 'gender': 'Male', 'brave': '77', 'zodiac': 'Taurus', 'faith': '75', 'tournamentId': 'tournament_1585281512719', 'teamName': 'champion', 'class': {'name': 'Bard', 'gender': 'Male'}, 'abilities': {'mainActive': {'name': 'Sing', 'learned': [{'name': 'Life Song'}, {'name': 'Last Song'}, {'name': 'Sky Demon'}]}, 'subActive': {'name': 'Yin Yang Magic', 'learned': [{'name': 'Foxbird'}, {'name': 'Silence Song'}, {'name': 'Confusion Song'}, {'name': 'Life Drain'}, {'name': 'Poison'}]}, 'react': {'name': 'Damage Split'}, 'support': {'name': 'Equip Armor'}, 'move': {'name': 'Fly'}}, 'equipment': [{'name': 'Fairy Harp'}, {'name': 'Mythril Helmet'}, {'name': 'Silk Robe'}, {'name': 'Leather Mantle'}]}, {'name': 'Bad1dea', 'gender': 'Male', 'brave': '42', 'zodiac': 'Virgo', 'faith': '70', 'tournamentId': 'tournament_1585281512719', 'teamName': 'champion', 'class': {'name': 'Ninja', 'gender': 'Male'}, 'abilities': {'mainActive': {'name': 'Throw', 'learned': [{'name': 'Bomb'}, {'name': 'Wand'}, {'name': 'Shuriken'}, {'name': 'Staff'}]}, 'subActive': {'name': 'White Magic', 'learned': [{'name': 'Esuna'}, {'name': 'Wall'}, {'name': 'Regen'}, {'name': 'Protect 2'}, {'name': 'Cure 4'}, {'name': 'Cure 3'}]}, 'react': {'name': 'Counter'}, 'support': {'name': 'Equip Sword'}, 'move': {'name': 'Jump+3'}}, 'equipment': [{'name': 'Rune Blade'}, {'name': 'Dagger'}, {'name': 'Thief Hat'}, {'name': 'Power Sleeve'}, {'name': 'N-Kai Armlet'}]}, {'name': 'Wackyzachyy', 'gender': 'Female', 'brave': '64', 'zodiac': 'Serpentarius', 'faith': '73', 'tournamentId': 'tournament_1585281512719', 'teamName': 'champion', 'class': {'name': 'Mediator', 'gender': 'Female'}, 'abilities': {'mainActive': {'name': 'Talk Skill', 'learned': [{'name': 'Insult'}, {'name': 'Refute'}]}, 'subActive': {'name': 'White Magic', 'learned': [{'name': 'Esuna'}, {'name': 'Shell 2'}, {'name': 'Raise'}, {'name': 'Holy'}, {'name': 'Cure'}, {'name': 'Shell'}, {'name': 'Cure 2'}, {'name': 'Cure 3'}]}, 'react': {'name': 'Abandon'}, 'support': {'name': 'Dual Wield'}, 'move': {'name': 'Ignore Height'}}, 'equipment': [{'name': 'Bestiary'}, {'name': 'Bestiary'}, {'name': 'Green Beret'}, {'name': 'Chain Vest'}, {'name': 'Cursed Ring'}]}, {'name': 'SerumD', 'gender': 'Female', 'brave': '59', 'zodiac': 'Scorpio', 'faith': '54', 'tournamentId': 'tournament_1585281512719', 'teamName': 'champion', 'class': {'name': 'Knight', 'gender': 'Female'}, 'abilities': {'mainActive': {'name': 'Battle Skill', 'learned': [{'name': 'Dark Sword'}, {'name': 'Power Break'}, {'name': 'Head Break'}, {'name': 'Shield Break'}, {'name': 'Justice Sword'}]}, 'subActive': {'name': 'Summon Magic', 'learned': [{'name': 'Shiva'}, {'name': 'Golem'}, {'name': 'Ramuh'}, {'name': 'Odin'}, {'name': 'Salamander'}, {'name': 'Carbunkle'}, {'name': 'Leviathan'}, {'name': 'Fairy'}]}, 'react': {'name': 'Mana Shield'}, 'support': {'name': 'Dual Wield'}, 'move': {'name': 'Move+2'}}, 'equipment': [{'name': 'Defender'}, {'name': 'Blood Sword'}, {'name': 'Crystal Helmet'}, {'name': 'Plate Mail'}, {'name': 'N-Kai Armlet'}]}]}]}\n",
      "http://mustadio-staging.herokuapp.com/api/tournaments/tournament_1585278462400\n"
     ]
    },
    {
     "name": "stdout",
     "output_type": "stream",
     "text": [
      "{'id': 'tournament_1585278462400', 'teams': [{'tournamentId': 'tournament_1585278462400', 'teamName': 'red', 'units': [{'name': 'CorpusCav', 'gender': 'Female', 'brave': '57', 'zodiac': 'Scorpio', 'faith': '69', 'tournamentId': 'tournament_1585278462400', 'teamName': 'red', 'class': {'name': 'Mediator', 'gender': 'Female'}, 'abilities': {'mainActive': {'name': 'Talk Skill', 'learned': [{'name': 'Refute'}, {'name': 'Invitation'}, {'name': 'Rehabilitate'}, {'name': 'Threaten'}, {'name': 'Preach'}, {'name': 'Insult'}, {'name': 'Negotiate'}, {'name': 'Persuade'}, {'name': 'Mimic Daravon'}]}, 'subActive': {'name': 'Black Magic', 'learned': [{'name': 'Fire 3'}, {'name': 'Fire'}, {'name': 'Ice 3'}, {'name': 'Death'}, {'name': 'Bolt'}]}, 'react': {'name': 'Counter'}, 'support': {'name': 'Long Status'}, 'move': {'name': 'Ignore Height'}}, 'equipment': [{'name': 'Mythril Gun'}, {'name': 'Flash Hat'}, {'name': 'Light Robe'}, {'name': 'Defense Armlet'}]}, {'name': 'Purpleyoshii', 'gender': 'Female', 'brave': '68', 'zodiac': 'Sagittarius', 'faith': '59', 'tournamentId': 'tournament_1585278462400', 'teamName': 'red', 'class': {'name': 'Knight', 'gender': 'Female'}, 'abilities': {'mainActive': {'name': 'Battle Skill', 'learned': [{'name': 'Magic Break'}, {'name': 'Power Break'}, {'name': 'Stasis Sword'}, {'name': 'Justice Sword'}, {'name': 'Surging Sword'}]}, 'subActive': {'name': 'Draw Out', 'learned': [{'name': 'Asura'}, {'name': 'Murasame'}, {'name': \"Heaven's Cloud\"}, {'name': 'Muramasa'}, {'name': 'Masamune'}]}, 'react': {'name': 'PA Save'}, 'support': {'name': 'Defend'}, 'move': {'name': 'Waterbreathing'}}, 'equipment': [{'name': 'Rune Blade'}, {'name': 'Bronze Shield'}, {'name': 'Mythril Helmet'}, {'name': 'Chain Mail'}, {'name': 'Rubber Shoes'}]}, {'name': 'Truestrike', 'gender': 'Male', 'brave': '58', 'zodiac': 'Cancer', 'faith': '50', 'tournamentId': 'tournament_1585278462400', 'teamName': 'red', 'class': {'name': 'Thief', 'gender': 'Male'}, 'abilities': {'mainActive': {'name': 'Steal', 'learned': [{'name': 'Steal Accessory'}, {'name': 'Steal Helmet'}, {'name': 'Steal Armor'}, {'name': 'Steal Heart'}]}, 'subActive': {'name': 'Charge', 'learned': [{'name': 'Charge+10'}, {'name': 'Charge+2'}, {'name': 'Charge+1'}]}, 'react': {'name': 'Speed Save'}, 'support': {'name': 'Equip Sword'}, 'move': {'name': 'Teleport'}}, 'equipment': [{'name': 'Defender'}, {'name': 'Leather Hat'}, {'name': 'Wizard Outfit'}, {'name': 'N-Kai Armlet'}]}, {'name': 'ApplesauceBoss', 'gender': 'Female', 'brave': '79', 'zodiac': 'Libra', 'faith': '56', 'tournamentId': 'tournament_1585278462400', 'teamName': 'red', 'class': {'name': 'Mime', 'gender': 'Female'}, 'abilities': {'mainActive': {'name': 'Mimic', 'learned': [{'name': 'Mimic'}]}, 'subActive': {'name': '', 'learned': []}, 'react': {'name': 'MA Save'}, 'support': {'name': 'Doublehand'}, 'move': {'name': 'Ignore Height'}}, 'equipment': [{'name': 'Red Hood'}, {'name': 'Secret Clothes'}, {'name': 'Germinas Boots'}]}]}, {'tournamentId': 'tournament_1585278462400', 'teamName': 'blue', 'units': [{'name': 'Slatios', 'gender': 'Monster', 'brave': '64', 'zodiac': 'Leo', 'faith': '60', 'tournamentId': 'tournament_1585278462400', 'teamName': 'blue', 'class': {'name': 'Trent', 'gender': 'Monster'}, 'abilities': {}, 'equipment': []}, {'name': 'Sociallubricant1', 'gender': 'Monster', 'brave': '63', 'zodiac': 'Gemini', 'faith': '67', 'tournamentId': 'tournament_1585278462400', 'teamName': 'blue', 'class': {'name': 'Juravis', 'gender': 'Monster'}, 'abilities': {}, 'equipment': []}, {'name': 'RjA0zcOQ96', 'gender': 'Female', 'brave': '41', 'zodiac': 'Leo', 'faith': '62', 'tournamentId': 'tournament_1585278462400', 'teamName': 'blue', 'class': {'name': 'Oracle', 'gender': 'Female'}, 'abilities': {'mainActive': {'name': 'Yin Yang Magic', 'learned': [{'name': 'Paralyze'}, {'name': 'Spell Absorb'}, {'name': 'Dispel Magic'}, {'name': 'Petrify'}]}, 'subActive': {'name': 'Basic Skill', 'learned': [{'name': 'Fury'}, {'name': 'Scream'}, {'name': 'Heal'}]}, 'react': {'name': 'Auto Potion'}, 'support': {'name': 'Dual Wield'}, 'move': {'name': 'Move-MP Up'}}, 'equipment': [{'name': 'Cypress Rod'}, {'name': 'Ivory Rod'}, {'name': 'Golden Hairpin'}, {'name': 'Black Costume'}, {'name': 'Wizard Mantle'}]}, {'name': 'ZephyrTempest', 'gender': 'Female', 'brave': '67', 'zodiac': 'Aquarius', 'faith': '65', 'tournamentId': 'tournament_1585278462400', 'teamName': 'blue', 'class': {'name': 'Monk', 'gender': 'Female'}, 'abilities': {'mainActive': {'name': 'Punch Art', 'learned': [{'name': 'Wave Fist'}, {'name': 'Earth Slash'}, {'name': 'Secret Fist'}, {'name': 'Purification'}, {'name': 'Revive'}, {'name': 'Seal Evil'}]}, 'subActive': {'name': 'Jump', 'learned': [{'name': 'Level Jump8'}, {'name': 'Vertical Jump7'}]}, 'react': {'name': 'Absorb Used MP'}, 'support': {'name': 'Dual Wield'}, 'move': {'name': 'Jump+1'}}, 'equipment': [{'name': 'Leather Hat'}, {'name': 'Wizard Outfit'}, {'name': 'Small Mantle'}]}]}, {'tournamentId': 'tournament_1585278462400', 'teamName': 'green', 'units': [{'name': 'Alacor', 'gender': 'Male', 'brave': '48', 'zodiac': 'Cancer', 'faith': '62', 'tournamentId': 'tournament_1585278462400', 'teamName': 'green', 'class': {'name': 'Knight', 'gender': 'Male'}, 'abilities': {'mainActive': {'name': 'Battle Skill', 'learned': [{'name': 'Power Break'}, {'name': 'Magic Break'}, {'name': 'Justice Sword'}, {'name': 'Shield Break'}, {'name': 'Speed Break'}, {'name': 'Head Break'}]}, 'subActive': {'name': 'Summon Magic', 'learned': [{'name': 'Salamander'}, {'name': 'Lich'}, {'name': 'Carbunkle'}, {'name': 'Leviathan'}, {'name': 'Golem'}]}, 'react': {'name': 'Arrow Guard'}, 'support': {'name': 'Short Charge'}, 'move': {'name': 'Swim'}}, 'equipment': [{'name': 'Broad Sword'}, {'name': 'Crystal Shield'}, {'name': 'Circlet'}, {'name': 'Bronze Armor'}, {'name': 'Cursed Ring'}]}, {'name': 'BenYuPoker', 'gender': 'Male', 'brave': '71', 'zodiac': 'Scorpio', 'faith': '62', 'tournamentId': 'tournament_1585278462400', 'teamName': 'green', 'class': {'name': 'Mediator', 'gender': 'Male'}, 'abilities': {'mainActive': {'name': 'Talk Skill', 'learned': [{'name': 'Threaten'}, {'name': 'Preach'}, {'name': 'Praise'}, {'name': 'Rehabilitate'}]}, 'subActive': {'name': 'Throw', 'learned': [{'name': 'Shuriken'}]}, 'react': {'name': 'Speed Save'}, 'support': {'name': 'Dual Wield'}, 'move': {'name': 'Teleport'}}, 'equipment': [{'name': 'Mage Masher'}, {'name': 'Cultist Dagger'}, {'name': 'Twist Headband'}, {'name': 'Wizard Robe'}, {'name': 'Red Shoes'}]}, {'name': 'Axelrod', 'gender': 'Male', 'brave': '54', 'zodiac': 'Cancer', 'faith': '58', 'tournamentId': 'tournament_1585278462400', 'teamName': 'green', 'class': {'name': 'Samurai', 'gender': 'Male'}, 'abilities': {'mainActive': {'name': 'Draw Out', 'learned': [{'name': 'Bizen Boat'}, {'name': 'Murasame'}]}, 'subActive': {'name': 'Black Magic', 'learned': [{'name': 'Fire'}, {'name': 'Bolt 4'}, {'name': 'Bolt'}, {'name': 'Bolt 2'}]}, 'react': {'name': 'PA Save'}, 'support': {'name': 'Attack UP'}, 'move': {'name': 'Ignore Height'}}, 'equipment': [{'name': \"Heaven's Cloud\"}, {'name': 'Circlet'}, {'name': 'Maximillian'}, {'name': 'Wizard Mantle'}]}, {'name': 'Sect Cor', 'gender': 'Male', 'brave': '77', 'zodiac': 'Taurus', 'faith': '57', 'tournamentId': 'tournament_1585278462400', 'teamName': 'green', 'class': {'name': 'Archer', 'gender': 'Male'}, 'abilities': {'mainActive': {'name': 'Charge', 'learned': [{'name': 'Charge+5'}, {'name': 'Charge+7'}, {'name': 'Charge+2'}, {'name': 'Charge+10'}]}, 'subActive': {'name': 'Summon Magic', 'learned': [{'name': 'Carbunkle'}, {'name': 'Odin'}, {'name': 'Lich'}, {'name': 'Moogle'}]}, 'react': {'name': 'Dragon Spirit'}, 'support': {'name': 'Concentrate'}, 'move': {'name': 'Move-MP Up'}}, 'equipment': [{'name': 'Lightning Bow'}, {'name': 'Feather Hat'}, {'name': 'Judo Outfit'}, {'name': 'Magic Ring'}]}]}, {'tournamentId': 'tournament_1585278462400', 'teamName': 'yellow', 'units': [{'name': 'ZZ Yoshi', 'gender': 'Male', 'brave': '77', 'zodiac': 'Taurus', 'faith': '75', 'tournamentId': 'tournament_1585278462400', 'teamName': 'yellow', 'class': {'name': 'Bard', 'gender': 'Male'}, 'abilities': {'mainActive': {'name': 'Sing', 'learned': [{'name': 'Life Song'}, {'name': 'Last Song'}, {'name': 'Sky Demon'}]}, 'subActive': {'name': 'Yin Yang Magic', 'learned': [{'name': 'Foxbird'}, {'name': 'Silence Song'}, {'name': 'Confusion Song'}, {'name': 'Life Drain'}, {'name': 'Poison'}]}, 'react': {'name': 'Damage Split'}, 'support': {'name': 'Equip Armor'}, 'move': {'name': 'Fly'}}, 'equipment': [{'name': 'Fairy Harp'}, {'name': 'Mythril Helmet'}, {'name': 'Silk Robe'}, {'name': 'Leather Mantle'}]}, {'name': 'Bad1dea', 'gender': 'Male', 'brave': '42', 'zodiac': 'Virgo', 'faith': '70', 'tournamentId': 'tournament_1585278462400', 'teamName': 'yellow', 'class': {'name': 'Ninja', 'gender': 'Male'}, 'abilities': {'mainActive': {'name': 'Throw', 'learned': [{'name': 'Bomb'}, {'name': 'Wand'}, {'name': 'Shuriken'}, {'name': 'Staff'}]}, 'subActive': {'name': 'White Magic', 'learned': [{'name': 'Esuna'}, {'name': 'Wall'}, {'name': 'Regen'}, {'name': 'Protect 2'}, {'name': 'Cure 4'}, {'name': 'Cure 3'}]}, 'react': {'name': 'Counter'}, 'support': {'name': 'Equip Sword'}, 'move': {'name': 'Jump+3'}}, 'equipment': [{'name': 'Rune Blade'}, {'name': 'Dagger'}, {'name': 'Thief Hat'}, {'name': 'Power Sleeve'}, {'name': 'N-Kai Armlet'}]}, {'name': 'Wackyzachyy', 'gender': 'Female', 'brave': '64', 'zodiac': 'Serpentarius', 'faith': '73', 'tournamentId': 'tournament_1585278462400', 'teamName': 'yellow', 'class': {'name': 'Mediator', 'gender': 'Female'}, 'abilities': {'mainActive': {'name': 'Talk Skill', 'learned': [{'name': 'Insult'}, {'name': 'Refute'}]}, 'subActive': {'name': 'White Magic', 'learned': [{'name': 'Esuna'}, {'name': 'Shell 2'}, {'name': 'Raise'}, {'name': 'Holy'}, {'name': 'Cure'}, {'name': 'Shell'}, {'name': 'Cure 2'}, {'name': 'Cure 3'}]}, 'react': {'name': 'Abandon'}, 'support': {'name': 'Dual Wield'}, 'move': {'name': 'Ignore Height'}}, 'equipment': [{'name': 'Bestiary'}, {'name': 'Bestiary'}, {'name': 'Green Beret'}, {'name': 'Chain Vest'}, {'name': 'Cursed Ring'}]}, {'name': 'SerumD', 'gender': 'Female', 'brave': '59', 'zodiac': 'Scorpio', 'faith': '54', 'tournamentId': 'tournament_1585278462400', 'teamName': 'yellow', 'class': {'name': 'Knight', 'gender': 'Female'}, 'abilities': {'mainActive': {'name': 'Battle Skill', 'learned': [{'name': 'Dark Sword'}, {'name': 'Power Break'}, {'name': 'Head Break'}, {'name': 'Shield Break'}, {'name': 'Justice Sword'}]}, 'subActive': {'name': 'Summon Magic', 'learned': [{'name': 'Shiva'}, {'name': 'Golem'}, {'name': 'Ramuh'}, {'name': 'Odin'}, {'name': 'Salamander'}, {'name': 'Carbunkle'}, {'name': 'Leviathan'}, {'name': 'Fairy'}]}, 'react': {'name': 'Mana Shield'}, 'support': {'name': 'Dual Wield'}, 'move': {'name': 'Move+2'}}, 'equipment': [{'name': 'Defender'}, {'name': 'Blood Sword'}, {'name': 'Crystal Helmet'}, {'name': 'Plate Mail'}, {'name': 'N-Kai Armlet'}]}]}, {'tournamentId': 'tournament_1585278462400', 'teamName': 'white', 'units': [{'name': 'StealthModeLocke', 'gender': 'Monster', 'brave': '50', 'zodiac': 'Leo', 'faith': '64', 'tournamentId': 'tournament_1585278462400', 'teamName': 'white', 'class': {'name': 'Apanda', 'gender': 'Monster'}, 'abilities': {}, 'equipment': []}, {'name': 'TheGuesty', 'gender': 'Female', 'brave': '77', 'zodiac': 'Libra', 'faith': '37', 'tournamentId': 'tournament_1585278462400', 'teamName': 'white', 'class': {'name': 'Samurai', 'gender': 'Female'}, 'abilities': {'mainActive': {'name': 'Draw Out', 'learned': [{'name': 'Bizen Boat'}, {'name': 'Kikuichimoji'}]}, 'subActive': {'name': 'Elemental', 'learned': [{'name': 'Sand Storm'}, {'name': 'Blizzard'}, {'name': 'Gusty Wind'}, {'name': 'Pitfall'}, {'name': 'Hell Ivy'}, {'name': 'Hallowed Ground'}, {'name': 'Local Quake'}, {'name': 'Quicksand'}]}, 'react': {'name': 'Auto Potion'}, 'support': {'name': 'Equip Knife'}, 'move': {'name': 'Move-MP Up'}}, 'equipment': [{'name': 'Sasuke Knife'}, {'name': 'Cross Helmet'}, {'name': 'White Robe'}, {'name': 'Genji Gauntlet'}]}, {'name': 'Leakimiko', 'gender': 'Male', 'brave': '67', 'zodiac': 'Taurus', 'faith': '68', 'tournamentId': 'tournament_1585278462400', 'teamName': 'white', 'class': {'name': 'Lancer', 'gender': 'Male'}, 'abilities': {'mainActive': {'name': 'Jump', 'learned': [{'name': 'Level Jump5'}, {'name': 'Vertical Jump8'}]}, 'subActive': {'name': 'Time Magic', 'learned': [{'name': 'Immobilize'}, {'name': 'Haste'}, {'name': 'Reflect'}, {'name': 'Demi'}, {'name': 'Haste 2'}, {'name': 'Stop'}]}, 'react': {'name': 'Abandon'}, 'support': {'name': 'Doublehand'}, 'move': {'name': 'Waterwalking'}}, 'equipment': [{'name': 'Partisan'}, {'name': 'Bronze Helmet'}, {'name': 'Gold Armor'}, {'name': 'Leather Mantle'}]}, {'name': 'Go2sleepTV', 'gender': 'Monster', 'brave': '67', 'zodiac': 'Taurus', 'faith': '76', 'tournamentId': 'tournament_1585278462400', 'teamName': 'white', 'class': {'name': 'BullDemon', 'gender': 'Monster'}, 'abilities': {}, 'equipment': []}]}, {'tournamentId': 'tournament_1585278462400', 'teamName': 'black', 'units': [{'name': 'ShanksMcShiv', 'gender': 'Male', 'brave': '59', 'zodiac': 'Leo', 'faith': '73', 'tournamentId': 'tournament_1585278462400', 'teamName': 'black', 'class': {'name': 'Chemist', 'gender': 'Male'}, 'abilities': {'mainActive': {'name': 'Item', 'learned': [{'name': 'Potion'}, {'name': 'Ether'}, {'name': 'Phoenix Down'}, {'name': 'Soft'}, {'name': 'X-Potion'}]}, 'subActive': {'name': 'Basic Skill', 'learned': [{'name': 'Tickle'}, {'name': 'Heal'}, {'name': 'Cheer Up'}, {'name': 'Dash'}, {'name': 'Accumulate'}]}, 'react': {'name': 'Meatbone Slash'}, 'support': {'name': 'Short Charge'}, 'move': {'name': 'Waterwalking'}}, 'equipment': [{'name': 'Blind Knife'}, {'name': 'Barette'}, {'name': 'Black Costume'}, {'name': 'Red Shoes'}]}, {'name': 'Manc0', 'gender': 'Monster', 'brave': '71', 'zodiac': 'Aquarius', 'faith': '75', 'tournamentId': 'tournament_1585278462400', 'teamName': 'black', 'class': {'name': 'Serpentarius', 'gender': 'Monster'}, 'abilities': {}, 'equipment': []}, {'name': 'Keibai', 'gender': 'Female', 'brave': '65', 'zodiac': 'Libra', 'faith': '57', 'tournamentId': 'tournament_1585278462400', 'teamName': 'black', 'class': {'name': 'Mime', 'gender': 'Female'}, 'abilities': {'mainActive': {'name': 'Mimic', 'learned': [{'name': 'Mimic'}]}, 'subActive': {'name': '', 'learned': []}, 'react': {'name': 'PA Save'}, 'support': {'name': 'Equip Armor'}, 'move': {'name': 'Teleport'}}, 'equipment': [{'name': 'Mythril Helmet'}, {'name': 'Light Robe'}, {'name': 'Elf Mantle'}]}, {'name': 'Mechapope1', 'gender': 'Monster', 'brave': '45', 'zodiac': 'Libra', 'faith': '73', 'tournamentId': 'tournament_1585278462400', 'teamName': 'black', 'class': {'name': 'Coeurl', 'gender': 'Monster'}, 'abilities': {}, 'equipment': []}]}, {'tournamentId': 'tournament_1585278462400', 'teamName': 'purple', 'units': [{'name': 'RongRongArts', 'gender': 'Male', 'brave': '74', 'zodiac': 'Aries', 'faith': '51', 'tournamentId': 'tournament_1585278462400', 'teamName': 'purple', 'class': {'name': 'Chemist', 'gender': 'Male'}, 'abilities': {'mainActive': {'name': 'Item', 'learned': [{'name': 'Remedy'}, {'name': 'Antidote'}, {'name': 'Phoenix Down'}, {'name': 'X-Potion'}, {'name': 'Echo Grass'}, {'name': 'Potion'}]}, 'subActive': {'name': 'Sing', 'learned': [{'name': 'Last Song'}, {'name': 'Diamond Blade'}, {'name': 'Cheer Song'}, {'name': 'Magic Song'}, {'name': 'Angel Song'}]}, 'react': {'name': 'Counter Magic'}, 'support': {'name': 'Dual Wield'}, 'move': {'name': 'Swim'}}, 'equipment': [{'name': 'Cute Bag'}, {'name': 'Mage Masher'}, {'name': 'Golden Hairpin'}, {'name': 'Brigandine'}, {'name': 'Cursed Ring'}]}, {'name': 'Laserman1000', 'gender': 'Male', 'brave': '43', 'zodiac': 'Libra', 'faith': '58', 'tournamentId': 'tournament_1585278462400', 'teamName': 'purple', 'class': {'name': 'Calculator', 'gender': 'Male'}, 'abilities': {'mainActive': {'name': 'Math Skill', 'learned': [{'name': 'Blue Magic'}]}, 'subActive': {'name': 'Mighty Sword', 'learned': [{'name': 'Icewolf Bite'}, {'name': 'Blastar Punch'}, {'name': 'Hellcry Punch'}, {'name': 'Shellburst Stab'}]}, 'react': {'name': 'Regenerator'}, 'support': {'name': 'Equip Gun'}, 'move': {'name': 'Waterbreathing'}}, 'equipment': [{'name': 'Bestiary'}, {'name': 'Cross Helmet'}, {'name': 'Reflect Mail'}, {'name': 'Germinas Boots'}]}, {'name': 'Urieltheflameofgod', 'gender': 'Male', 'brave': '51', 'zodiac': 'Pisces', 'faith': '72', 'tournamentId': 'tournament_1585278462400', 'teamName': 'purple', 'class': {'name': 'Archer', 'gender': 'Male'}, 'abilities': {'mainActive': {'name': 'Charge', 'learned': [{'name': 'Charge+4'}, {'name': 'Charge+5'}]}, 'subActive': {'name': 'Time Magic', 'learned': [{'name': 'Stop'}, {'name': 'Stabilize Time'}, {'name': 'Haste'}, {'name': 'Demi 2'}, {'name': 'Demi'}, {'name': 'Float'}, {'name': 'Slow 2'}, {'name': 'Quick'}]}, 'react': {'name': 'Abandon'}, 'support': {'name': 'Dual Wield'}, 'move': {'name': 'Waterwalking'}}, 'equipment': [{'name': 'Silver Bow'}, {'name': 'Headgear'}, {'name': 'Black Costume'}, {'name': 'Jade Armlet'}]}, {'name': 'DeliciousSub', 'gender': 'Male', 'brave': '63', 'zodiac': 'Gemini', 'faith': '71', 'tournamentId': 'tournament_1585278462400', 'teamName': 'purple', 'class': {'name': 'Mime', 'gender': 'Male'}, 'abilities': {'mainActive': {'name': 'Mimic', 'learned': [{'name': 'Mimic'}]}, 'subActive': {'name': '', 'learned': []}, 'react': {'name': 'Caution'}, 'support': {'name': 'Monster Talk'}, 'move': {'name': 'Move+3'}}, 'equipment': [{'name': 'Ribbon'}, {'name': 'Mystic Vest'}, {'name': 'Bracer'}]}]}, {'tournamentId': 'tournament_1585278462400', 'teamName': 'brown', 'units': [{'name': 'Samtimemc', 'gender': 'Monster', 'brave': '41', 'zodiac': 'Leo', 'faith': '60', 'tournamentId': 'tournament_1585278462400', 'teamName': 'brown', 'class': {'name': 'BlueDragon', 'gender': 'Monster'}, 'abilities': {}, 'equipment': []}, {'name': 'Cougboi', 'gender': 'Female', 'brave': '59', 'zodiac': 'Leo', 'faith': '67', 'tournamentId': 'tournament_1585278462400', 'teamName': 'brown', 'class': {'name': 'Archer', 'gender': 'Female'}, 'abilities': {'mainActive': {'name': 'Charge', 'learned': [{'name': 'Charge+7'}, {'name': 'Charge+2'}]}, 'subActive': {'name': 'Summon Magic', 'learned': [{'name': 'Lich'}, {'name': 'Carbunkle'}, {'name': 'Golem'}, {'name': 'Ifrit'}]}, 'react': {'name': 'Auto Potion'}, 'support': {'name': 'Dual Wield'}, 'move': {'name': 'Ignore Height'}}, 'equipment': [{'name': 'Poison Bow'}, {'name': 'Night Killer'}, {'name': 'Leather Hat'}, {'name': 'Brigandine'}, {'name': 'Angel Ring'}]}, {'name': 'Gooseyourself', 'gender': 'Male', 'brave': '57', 'zodiac': 'Pisces', 'faith': '69', 'tournamentId': 'tournament_1585278462400', 'teamName': 'brown', 'class': {'name': 'Monk', 'gender': 'Male'}, 'abilities': {'mainActive': {'name': 'Punch Art', 'learned': [{'name': 'Secret Fist'}, {'name': 'Spin Fist'}, {'name': 'Pummel'}, {'name': 'Purification'}, {'name': 'Revive'}]}, 'subActive': {'name': 'Item', 'learned': [{'name': 'Potion'}, {'name': 'Antidote'}, {'name': \"Maiden's Kiss\"}, {'name': 'Remedy'}, {'name': 'Phoenix Down'}]}, 'react': {'name': 'Damage Split'}, 'support': {'name': 'Throw Item'}, 'move': {'name': 'Move+3'}}, 'equipment': [{'name': 'Leather Hat'}, {'name': 'Secret Clothes'}, {'name': 'Diamond Armlet'}]}, {'name': 'Wargles', 'gender': 'Female', 'brave': '60', 'zodiac': 'Aquarius', 'faith': '73', 'tournamentId': 'tournament_1585278462400', 'teamName': 'brown', 'class': {'name': 'Calculator', 'gender': 'Female'}, 'abilities': {'mainActive': {'name': 'Math Skill', 'learned': [{'name': 'Prime Number'}, {'name': 'Height'}, {'name': '5'}, {'name': '4'}, {'name': '3'}]}, 'subActive': {'name': 'Black Magic', 'learned': [{'name': 'Bolt 4'}, {'name': 'Fire 2'}, {'name': 'Bolt 2'}, {'name': 'Ice 4'}, {'name': 'Death'}]}, 'react': {'name': 'Auto Potion'}, 'support': {'name': 'Long Status'}, 'move': {'name': 'Waterwalking'}}, 'equipment': [{'name': 'Ice Rod'}, {'name': 'Triangle Hat'}, {'name': 'Mythril Vest'}, {'name': 'Power Wrist'}]}]}, {'tournamentId': 'tournament_1585278462400', 'teamName': 'champion', 'units': [{'name': 'Mtueni', 'gender': 'Male', 'brave': '71', 'zodiac': 'Aquarius', 'faith': '57', 'tournamentId': 'tournament_1585278462400', 'teamName': 'champion', 'class': {'name': 'Chemist', 'gender': 'Male'}, 'abilities': {'mainActive': {'name': 'Item', 'learned': [{'name': 'Holy Water'}, {'name': 'Phoenix Down'}, {'name': 'Antidote'}, {'name': 'Potion'}, {'name': 'Echo Grass'}, {'name': \"Maiden's Kiss\"}]}, 'subActive': {'name': 'Elemental', 'learned': [{'name': 'Hell Ivy'}, {'name': 'Water Ball'}, {'name': 'Blizzard'}, {'name': 'Pitfall'}, {'name': 'Lava Ball'}, {'name': 'Quicksand'}, {'name': 'Static Shock'}, {'name': 'Local Quake'}, {'name': 'Hallowed Ground'}, {'name': 'Gusty Wind'}]}, 'react': {'name': 'Catch'}, 'support': {'name': 'Defend'}, 'move': {'name': 'Move+3'}}, 'equipment': [{'name': 'Assassin Dagger'}, {'name': 'Feather Hat'}, {'name': 'Chain Vest'}, {'name': 'Magic Gauntlet'}]}, {'name': 'Tougou', 'gender': 'Male', 'brave': '79', 'zodiac': 'Gemini', 'faith': '56', 'tournamentId': 'tournament_1585278462400', 'teamName': 'champion', 'class': {'name': 'Archer', 'gender': 'Male'}, 'abilities': {'mainActive': {'name': 'Charge', 'learned': [{'name': 'Charge+2'}]}, 'subActive': {'name': 'Draw Out', 'learned': [{'name': 'Murasame'}, {'name': \"Heaven's Cloud\"}, {'name': 'Muramasa'}]}, 'react': {'name': 'Sunken State'}, 'support': {'name': 'Dual Wield'}, 'move': {'name': 'Move+2'}}, 'equipment': [{'name': 'Romanda Gun'}, {'name': 'Glacier Gun'}, {'name': 'Platinum Helmet'}, {'name': 'Wizard Outfit'}, {'name': 'N-Kai Armlet'}]}, {'name': 'Pandasforsale', 'gender': 'Female', 'brave': '38', 'zodiac': 'Pisces', 'faith': '42', 'tournamentId': 'tournament_1585278462400', 'teamName': 'champion', 'class': {'name': 'Archer', 'gender': 'Female'}, 'abilities': {'mainActive': {'name': 'Charge', 'learned': [{'name': 'Charge+4'}, {'name': 'Charge+10'}, {'name': 'Charge+5'}, {'name': 'Charge+7'}]}, 'subActive': {'name': 'Summon Magic', 'learned': [{'name': 'Carbunkle'}, {'name': 'Bahamut'}, {'name': 'Salamander'}, {'name': 'Golem'}, {'name': 'Odin'}]}, 'react': {'name': 'Parry'}, 'support': {'name': 'Dual Wield'}, 'move': {'name': 'Jump+2'}}, 'equipment': [{'name': 'Hunting Bow'}, {'name': 'Cross Bow'}, {'name': 'Cross Helmet'}, {'name': 'Wizard Outfit'}, {'name': 'Genji Gauntlet'}]}, {'name': 'Bryan792', 'gender': 'Male', 'brave': '79', 'zodiac': 'Leo', 'faith': '75', 'tournamentId': 'tournament_1585278462400', 'teamName': 'champion', 'class': {'name': 'Ninja', 'gender': 'Male'}, 'abilities': {'mainActive': {'name': 'Throw', 'learned': [{'name': 'Shuriken'}, {'name': 'Knife'}, {'name': 'Spear'}]}, 'subActive': {'name': 'Black Magic', 'learned': [{'name': 'Ice'}, {'name': 'Flare'}, {'name': 'Fire 4'}, {'name': 'Bolt'}, {'name': 'Bolt 2'}, {'name': 'Bolt 3'}, {'name': 'Bolt 4'}, {'name': 'Death'}]}, 'react': {'name': 'Parry'}, 'support': {'name': 'Equip Gun'}, 'move': {'name': 'Levitate'}}, 'equipment': [{'name': 'Bestiary'}, {'name': 'Madlemgen'}, {'name': 'Leather Hat'}, {'name': 'Chain Vest'}, {'name': 'Reflect Ring'}]}]}]}\n",
      "http://mustadio-staging.herokuapp.com/api/tournaments/tournament_1585274941186\n"
     ]
    },
    {
     "name": "stdout",
     "output_type": "stream",
     "text": [
      "{'id': 'tournament_1585274941186', 'teams': [{'tournamentId': 'tournament_1585274941186', 'teamName': 'red', 'units': [{'name': 'DeathTaxesAndAnime', 'gender': 'Female', 'brave': '77', 'zodiac': 'Libra', 'faith': '75', 'tournamentId': 'tournament_1585274941186', 'teamName': 'red', 'class': {'name': 'Priest', 'gender': 'Female'}, 'abilities': {'mainActive': {'name': 'White Magic', 'learned': [{'name': 'Raise'}, {'name': 'Cure 2'}, {'name': 'Regen'}, {'name': 'Wall'}, {'name': 'Esuna'}, {'name': 'Holy'}]}, 'subActive': {'name': 'Math Skill', 'learned': [{'name': 'Prime Number'}, {'name': '5'}, {'name': '4'}, {'name': 'CT'}, {'name': 'Height'}]}, 'react': {'name': 'Counter Flood'}, 'support': {'name': 'Short Status'}, 'move': {'name': 'Ignore Terrain'}}, 'equipment': [{'name': 'Flail'}, {'name': 'Ribbon'}, {'name': 'Black Robe'}, {'name': 'Germinas Boots'}]}, {'name': 'HASTERIOUS', 'gender': 'Male', 'brave': '51', 'zodiac': 'Capricorn', 'faith': '62', 'tournamentId': 'tournament_1585274941186', 'teamName': 'red', 'class': {'name': 'Squire', 'gender': 'Male'}, 'abilities': {'mainActive': {'name': 'Basic Skill', 'learned': [{'name': 'Dash'}, {'name': 'Yell'}, {'name': 'Cheer Up'}, {'name': 'Fury'}]}, 'subActive': {'name': 'White Magic', 'learned': [{'name': 'Raise'}, {'name': 'Cure 2'}, {'name': 'Shell'}, {'name': 'Protect'}, {'name': 'Regen'}, {'name': 'Wall'}]}, 'react': {'name': 'Auto Potion'}, 'support': {'name': 'Equip Knife'}, 'move': {'name': 'Move+3'}}, 'equipment': [{'name': 'Wizard Rod'}, {'name': 'Buckler'}, {'name': 'Iron Helmet'}, {'name': 'Brigandine'}, {'name': 'Dracula Mantle'}]}, {'name': 'Lodrak', 'gender': 'Male', 'brave': '55', 'zodiac': 'Virgo', 'faith': '80', 'tournamentId': 'tournament_1585274941186', 'teamName': 'red', 'class': {'name': 'Knight', 'gender': 'Male'}, 'abilities': {'mainActive': {'name': 'Battle Skill', 'learned': [{'name': 'Head Break'}]}, 'subActive': {'name': 'Throw', 'learned': [{'name': 'Shuriken'}, {'name': 'Axe'}]}, 'react': {'name': 'Parry'}, 'support': {'name': 'Defense UP'}, 'move': {'name': 'Move+3'}}, 'equipment': [{'name': 'Battle Axe'}, {'name': 'Mythril Shield'}, {'name': 'Diamond Helmet'}, {'name': 'Plate Mail'}, {'name': 'Genji Gauntlet'}]}, {'name': 'Denamda', 'gender': 'Female', 'brave': '73', 'zodiac': 'Aries', 'faith': '76', 'tournamentId': 'tournament_1585274941186', 'teamName': 'red', 'class': {'name': 'Chemist', 'gender': 'Female'}, 'abilities': {'mainActive': {'name': 'Item', 'learned': [{'name': 'Potion'}, {'name': 'Remedy'}, {'name': 'Echo Grass'}, {'name': 'Phoenix Down'}, {'name': 'Holy Water'}]}, 'subActive': {'name': 'Throw', 'learned': [{'name': 'Staff'}]}, 'react': {'name': 'Abandon'}, 'support': {'name': 'Attack UP'}, 'move': {'name': 'Ignore Terrain'}}, 'equipment': [{'name': 'Mythril Gun'}, {'name': 'Green Beret'}, {'name': 'Mystic Vest'}, {'name': 'Battle Boots'}]}]}, {'tournamentId': 'tournament_1585274941186', 'teamName': 'blue', 'units': [{'name': 'Chuckolator', 'gender': 'Male', 'brave': '50', 'zodiac': 'Sagittarius', 'faith': '44', 'tournamentId': 'tournament_1585274941186', 'teamName': 'blue', 'class': {'name': 'Priest', 'gender': 'Male'}, 'abilities': {'mainActive': {'name': 'White Magic', 'learned': [{'name': 'Raise'}, {'name': 'Protect 2'}, {'name': 'Shell'}, {'name': 'Cure'}, {'name': 'Esuna'}]}, 'subActive': {'name': 'Battle Skill', 'learned': [{'name': 'Mind Break'}, {'name': 'Stasis Sword'}, {'name': 'Speed Break'}, {'name': 'Shield Break'}]}, 'react': {'name': 'HP Restore'}, 'support': {'name': 'Magic Defense UP'}, 'move': {'name': 'Jump+2'}}, 'equipment': [{'name': 'Flame Whip'}, {'name': 'Triangle Hat'}, {'name': 'Mystic Vest'}, {'name': 'Chantage'}]}, {'name': 'Gyarz', 'gender': 'Female', 'brave': '68', 'zodiac': 'Libra', 'faith': '60', 'tournamentId': 'tournament_1585274941186', 'teamName': 'blue', 'class': {'name': 'Ninja', 'gender': 'Female'}, 'abilities': {'mainActive': {'name': 'Throw', 'learned': [{'name': 'Bomb'}, {'name': 'Wand'}]}, 'subActive': {'name': 'Item', 'learned': [{'name': 'Potion'}, {'name': 'Remedy'}, {'name': 'Hi-Potion'}, {'name': 'Hi-Ether'}, {'name': 'Phoenix Down'}]}, 'react': {'name': 'Dragon Spirit'}, 'support': {'name': 'Halve MP'}, 'move': {'name': 'Move+3'}}, 'equipment': [{'name': 'Morning Star'}, {'name': 'Morning Star'}, {'name': 'Black Hood'}, {'name': 'Leather Outfit'}, {'name': 'Power Wrist'}]}, {'name': 'Red Lancer', 'gender': 'Male', 'brave': '73', 'zodiac': 'Taurus', 'faith': '75', 'tournamentId': 'tournament_1585274941186', 'teamName': 'blue', 'class': {'name': 'Geomancer', 'gender': 'Male'}, 'abilities': {'mainActive': {'name': 'Elemental', 'learned': [{'name': 'Local Quake'}, {'name': 'Water Ball'}, {'name': 'Blizzard'}, {'name': 'Hell Ivy'}, {'name': 'Lava Ball'}, {'name': 'Static Shock'}, {'name': 'Sand Storm'}, {'name': 'Will-O-Wisp'}, {'name': 'Quicksand'}]}, 'subActive': {'name': 'Black Magic', 'learned': [{'name': 'Fire 3'}, {'name': 'Flare'}, {'name': 'Frog'}, {'name': 'Ice'}, {'name': 'Bolt 3'}, {'name': 'Bolt 2'}, {'name': 'Bolt'}]}, 'react': {'name': 'Parry'}, 'support': {'name': 'Defense UP'}, 'move': {'name': 'Waterbreathing'}}, 'equipment': [{'name': 'Slasher'}, {'name': 'Ice Shield'}, {'name': 'Barette'}, {'name': 'Clothes'}, {'name': 'Dracula Mantle'}]}, {'name': 'Melbraega', 'gender': 'Female', 'brave': '50', 'zodiac': 'Aquarius', 'faith': '52', 'tournamentId': 'tournament_1585274941186', 'teamName': 'blue', 'class': {'name': 'Geomancer', 'gender': 'Female'}, 'abilities': {'mainActive': {'name': 'Elemental', 'learned': [{'name': 'Hallowed Ground'}, {'name': 'Lava Ball'}, {'name': 'Pitfall'}, {'name': 'Water Ball'}, {'name': 'Hell Ivy'}, {'name': 'Local Quake'}, {'name': 'Static Shock'}, {'name': 'Quicksand'}, {'name': 'Sand Storm'}, {'name': 'Blizzard'}, {'name': 'Gusty Wind'}]}, 'subActive': {'name': 'White Magic', 'learned': [{'name': 'Cure'}, {'name': 'Cure 2'}, {'name': 'Esuna'}, {'name': 'Wall'}, {'name': 'Raise'}, {'name': 'Cure 4'}]}, 'react': {'name': 'Mana Shield'}, 'support': {'name': 'Concentrate'}, 'move': {'name': 'Jump+2'}}, 'equipment': [{'name': 'Chirijiraden'}, {'name': 'Flame Shield'}, {'name': 'Headgear'}, {'name': 'Power Sleeve'}, {'name': 'Genji Gauntlet'}]}]}, {'tournamentId': 'tournament_1585274941186', 'teamName': 'green', 'units': [{'name': 'Rolodex', 'gender': 'Female', 'brave': '54', 'zodiac': 'Aquarius', 'faith': '66', 'tournamentId': 'tournament_1585274941186', 'teamName': 'green', 'class': {'name': 'Wizard', 'gender': 'Female'}, 'abilities': {'mainActive': {'name': 'Black Magic', 'learned': [{'name': 'Bolt 2'}, {'name': 'Fire 2'}, {'name': 'Bolt 4'}, {'name': 'Flare'}]}, 'subActive': {'name': 'Talk Skill', 'learned': [{'name': 'Rehabilitate'}, {'name': 'Invitation'}, {'name': 'Praise'}, {'name': 'Refute'}, {'name': 'Mimic Daravon'}]}, 'react': {'name': 'Counter Tackle'}, 'support': {'name': 'Equip Gun'}, 'move': {'name': 'Ignore Terrain'}}, 'equipment': [{'name': 'Bloody Strings'}, {'name': 'Cachusha'}, {'name': 'Leather Outfit'}, {'name': 'Angel Ring'}]}, {'name': 'Gooseyourself', 'gender': 'Male', 'brave': '45', 'zodiac': 'Leo', 'faith': '47', 'tournamentId': 'tournament_1585274941186', 'teamName': 'green', 'class': {'name': 'Samurai', 'gender': 'Male'}, 'abilities': {'mainActive': {'name': 'Draw Out', 'learned': [{'name': 'Murasame'}, {'name': 'Kiyomori'}]}, 'subActive': {'name': 'Yin Yang Magic', 'learned': [{'name': 'Sleep'}, {'name': 'Paralyze'}, {'name': 'Spell Absorb'}, {'name': 'Foxbird'}, {'name': 'Blind Rage'}, {'name': 'Dispel Magic'}, {'name': 'Zombie'}]}, 'react': {'name': 'Mana Shield'}, 'support': {'name': 'Sicken'}, 'move': {'name': 'Ignore Terrain'}}, 'equipment': [{'name': 'Murasame'}, {'name': 'Genji Helmet'}, {'name': 'Chameleon Robe'}, {'name': 'Cursed Ring'}]}, {'name': 'Phi Sig', 'gender': 'Male', 'brave': '52', 'zodiac': 'Taurus', 'faith': '77', 'tournamentId': 'tournament_1585274941186', 'teamName': 'green', 'class': {'name': 'Oracle', 'gender': 'Male'}, 'abilities': {'mainActive': {'name': 'Yin Yang Magic', 'learned': [{'name': 'Spell Absorb'}, {'name': 'Silence Song'}, {'name': 'Blind Rage'}, {'name': 'Foxbird'}, {'name': 'Dispel Magic'}, {'name': 'Paralyze'}, {'name': 'Sleep'}]}, 'subActive': {'name': 'White Magic', 'learned': [{'name': 'Raise'}, {'name': 'Cure 4'}, {'name': 'Raise 2'}, {'name': 'Reraise'}, {'name': 'Protect 2'}, {'name': 'Shell'}, {'name': 'Esuna'}]}, 'react': {'name': 'Speed Save'}, 'support': {'name': 'Magic Defense UP'}, 'move': {'name': 'Move+1'}}, 'equipment': [{'name': 'Cypress Rod'}, {'name': 'Green Beret'}, {'name': 'White Robe'}, {'name': 'N-Kai Armlet'}]}, {'name': 'TheMurkGnome', 'gender': 'Female', 'brave': '56', 'zodiac': 'Libra', 'faith': '78', 'tournamentId': 'tournament_1585274941186', 'teamName': 'green', 'class': {'name': 'Summoner', 'gender': 'Female'}, 'abilities': {'mainActive': {'name': 'Summon Magic', 'learned': [{'name': 'Moogle'}, {'name': 'Shiva'}, {'name': 'Ramuh'}, {'name': 'Golem'}, {'name': 'Carbunkle'}, {'name': 'Leviathan'}, {'name': 'Salamander'}]}, 'subActive': {'name': 'Steal', 'learned': [{'name': 'Steal Armor'}, {'name': 'Steal Shield'}, {'name': 'Steal Accessory'}, {'name': 'Arm Aim'}]}, 'react': {'name': 'Critical Quick'}, 'support': {'name': 'Halve MP'}, 'move': {'name': 'Fly'}}, 'equipment': [{'name': 'Wizard Staff'}, {'name': 'Red Hood'}, {'name': 'Silk Robe'}, {'name': 'Feather Mantle'}]}]}, {'tournamentId': 'tournament_1585274941186', 'teamName': 'yellow', 'units': [{'name': 'DudeMonkey77', 'gender': 'Monster', 'brave': '39', 'zodiac': 'Gemini', 'faith': '80', 'tournamentId': 'tournament_1585274941186', 'teamName': 'yellow', 'class': {'name': 'Coeurl', 'gender': 'Monster'}, 'abilities': {}, 'equipment': []}, {'name': 'MantisFinch', 'gender': 'Male', 'brave': '79', 'zodiac': 'Libra', 'faith': '37', 'tournamentId': 'tournament_1585274941186', 'teamName': 'yellow', 'class': {'name': 'Wizard', 'gender': 'Male'}, 'abilities': {'mainActive': {'name': 'Black Magic', 'learned': [{'name': 'Bolt 3'}, {'name': 'Ice'}, {'name': 'Bolt 4'}, {'name': 'Death'}, {'name': 'Fire 4'}, {'name': 'Frog'}, {'name': 'Fire 2'}, {'name': 'Empower'}]}, 'subActive': {'name': 'Sing', 'learned': [{'name': 'Hydra Pit'}]}, 'react': {'name': 'Damage Split'}, 'support': {'name': 'Martial Arts'}, 'move': {'name': 'Levitate'}}, 'equipment': [{'name': 'Zorlin Shape'}, {'name': 'Headgear'}, {'name': 'Silk Robe'}, {'name': 'Germinas Boots'}]}, {'name': 'Oogthecaveman', 'gender': 'Female', 'brave': '66', 'zodiac': 'Pisces', 'faith': '62', 'tournamentId': 'tournament_1585274941186', 'teamName': 'yellow', 'class': {'name': 'Wizard', 'gender': 'Female'}, 'abilities': {'mainActive': {'name': 'Black Magic', 'learned': [{'name': 'Death'}, {'name': 'Bolt 2'}, {'name': 'Frog'}, {'name': 'Fire'}, {'name': 'Bolt 3'}]}, 'subActive': {'name': 'Throw', 'learned': [{'name': 'Shuriken'}]}, 'react': {'name': 'PA Save'}, 'support': {'name': 'Magic Defense UP'}, 'move': {'name': 'Jump+2'}}, 'equipment': [{'name': 'Poison Rod'}, {'name': 'Feather Hat'}, {'name': 'Clothes'}, {'name': 'Jade Armlet'}]}, {'name': 'Maeveen', 'gender': 'Female', 'brave': '63', 'zodiac': 'Pisces', 'faith': '57', 'tournamentId': 'tournament_1585274941186', 'teamName': 'yellow', 'class': {'name': 'Wizard', 'gender': 'Female'}, 'abilities': {'mainActive': {'name': 'Black Magic', 'learned': [{'name': 'Bolt 4'}, {'name': 'Fire 2'}, {'name': 'Bolt'}, {'name': 'Bolt 3'}, {'name': 'Ice 3'}, {'name': 'Ice 4'}]}, 'subActive': {'name': 'Elemental', 'learned': [{'name': 'Pitfall'}, {'name': 'Hell Ivy'}, {'name': 'Hallowed Ground'}, {'name': 'Local Quake'}, {'name': 'Static Shock'}, {'name': 'Quicksand'}, {'name': 'Sand Storm'}, {'name': 'Blizzard'}, {'name': 'Lava Ball'}]}, 'react': {'name': 'Earplug'}, 'support': {'name': 'Short Charge'}, 'move': {'name': 'Ignore Height'}}, 'equipment': [{'name': 'Ice Rod'}, {'name': 'Barette'}, {'name': 'Linen Robe'}, {'name': 'Leather Mantle'}]}]}, {'tournamentId': 'tournament_1585274941186', 'teamName': 'white', 'units': [{'name': 'Galkife', 'gender': 'Male', 'brave': '58', 'zodiac': 'Aries', 'faith': '63', 'tournamentId': 'tournament_1585274941186', 'teamName': 'white', 'class': {'name': 'Priest', 'gender': 'Male'}, 'abilities': {'mainActive': {'name': 'White Magic', 'learned': [{'name': 'Raise'}, {'name': 'Reraise'}, {'name': 'Esuna'}, {'name': 'Cure 3'}, {'name': 'Cure 4'}, {'name': 'Protect'}, {'name': 'Regen'}]}, 'subActive': {'name': 'Throw', 'learned': [{'name': 'Axe'}, {'name': 'Sword'}, {'name': 'Bomb'}]}, 'react': {'name': 'MP Restore'}, 'support': {'name': 'Concentrate'}, 'move': {'name': 'Move+1'}}, 'equipment': [{'name': 'Hydra Bag'}, {'name': 'Feather Hat'}, {'name': 'Linen Robe'}, {'name': 'Elf Mantle'}]}, {'name': 'Meridian75W', 'gender': 'Male', 'brave': '44', 'zodiac': 'Serpentarius', 'faith': '59', 'tournamentId': 'tournament_1585274941186', 'teamName': 'white', 'class': {'name': 'Squire', 'gender': 'Male'}, 'abilities': {'mainActive': {'name': 'Basic Skill', 'learned': [{'name': 'Throw Stone'}, {'name': 'Wish'}, {'name': 'Accumulate'}, {'name': 'Heal'}, {'name': 'Scream'}]}, 'subActive': {'name': 'Summon Magic', 'learned': [{'name': 'Lich'}, {'name': 'Carbunkle'}, {'name': 'Silf'}, {'name': 'Leviathan'}, {'name': 'Shiva'}, {'name': 'Titan'}]}, 'react': {'name': 'Faith Up'}, 'support': {'name': 'Equip Sword'}, 'move': {'name': 'Jump+3'}}, 'equipment': [{'name': 'Save the Queen'}, {'name': 'Mythril Helmet'}, {'name': 'Leather Outfit'}, {'name': 'N-Kai Armlet'}]}, {'name': 'Rastanar', 'gender': 'Male', 'brave': '72', 'zodiac': 'Sagittarius', 'faith': '69', 'tournamentId': 'tournament_1585274941186', 'teamName': 'white', 'class': {'name': 'Squire', 'gender': 'Male'}, 'abilities': {'mainActive': {'name': 'Basic Skill', 'learned': [{'name': 'Accumulate'}, {'name': 'Heal'}, {'name': 'Yell'}]}, 'subActive': {'name': 'Throw', 'learned': [{'name': 'Shuriken'}]}, 'react': {'name': 'MP Restore'}, 'support': {'name': 'Maintenance'}, 'move': {'name': 'Move-HP Up'}}, 'equipment': [{'name': 'Cross Bow'}, {'name': 'Aegis Shield'}, {'name': 'Holy Miter'}, {'name': 'Judo Outfit'}, {'name': 'Diamond Armlet'}]}, {'name': 'Oshimi12', 'gender': 'Female', 'brave': '52', 'zodiac': 'Aquarius', 'faith': '61', 'tournamentId': 'tournament_1585274941186', 'teamName': 'white', 'class': {'name': 'Priest', 'gender': 'Female'}, 'abilities': {'mainActive': {'name': 'White Magic', 'learned': [{'name': 'Wall'}, {'name': 'Cure 2'}, {'name': 'Cure 3'}, {'name': 'Raise'}, {'name': 'Regen'}, {'name': 'Holy'}]}, 'subActive': {'name': 'Throw', 'learned': [{'name': 'Wand'}]}, 'react': {'name': 'Earplug'}, 'support': {'name': 'Magic Attack UP'}, 'move': {'name': 'Move+2'}}, 'equipment': [{'name': 'White Staff'}, {'name': 'Red Hood'}, {'name': 'Robe of Lords'}, {'name': 'Jade Armlet'}]}]}, {'tournamentId': 'tournament_1585274941186', 'teamName': 'black', 'units': [{'name': 'Evdoggity', 'gender': 'Female', 'brave': '52', 'zodiac': 'Sagittarius', 'faith': '74', 'tournamentId': 'tournament_1585274941186', 'teamName': 'black', 'class': {'name': 'Archer', 'gender': 'Female'}, 'abilities': {'mainActive': {'name': 'Charge', 'learned': [{'name': 'Charge+4'}, {'name': 'Charge+5'}]}, 'subActive': {'name': 'Item', 'learned': [{'name': 'Holy Water'}, {'name': 'Phoenix Down'}, {'name': 'Antidote'}, {'name': 'Eye Drop'}, {'name': 'Ether'}, {'name': 'Hi-Potion'}]}, 'react': {'name': 'Abandon'}, 'support': {'name': 'Short Status'}, 'move': {'name': 'Move+1'}}, 'equipment': [{'name': 'Blast Gun'}, {'name': 'Platinum Shield'}, {'name': 'Thief Hat'}, {'name': 'Power Sleeve'}, {'name': 'Bracer'}]}, {'name': 'Mirapoix', 'gender': 'Male', 'brave': '46', 'zodiac': 'Aquarius', 'faith': '40', 'tournamentId': 'tournament_1585274941186', 'teamName': 'black', 'class': {'name': 'Mediator', 'gender': 'Male'}, 'abilities': {'mainActive': {'name': 'Talk Skill', 'learned': [{'name': 'Persuade'}, {'name': 'Invitation'}, {'name': 'Death Sentence'}, {'name': 'Mimic Daravon'}, {'name': 'Refute'}]}, 'subActive': {'name': 'Steal', 'learned': [{'name': 'Arm Aim'}, {'name': 'Steal Status'}, {'name': 'Steal Helmet'}, {'name': 'Steal Heart'}, {'name': 'Gil Taking'}]}, 'react': {'name': 'Mana Shield'}, 'support': {'name': 'Concentrate'}, 'move': {'name': 'Waterwalking'}}, 'equipment': [{'name': 'Romanda Gun'}, {'name': 'Headgear'}, {'name': 'Black Costume'}, {'name': 'Defense Armlet'}]}, {'name': 'Pandasforsale', 'gender': 'Female', 'brave': '39', 'zodiac': 'Virgo', 'faith': '60', 'tournamentId': 'tournament_1585274941186', 'teamName': 'black', 'class': {'name': 'TimeMage', 'gender': 'Female'}, 'abilities': {'mainActive': {'name': 'Time Magic', 'learned': [{'name': 'Stabilize Time'}, {'name': 'Haste'}, {'name': 'Meteor'}]}, 'subActive': {'name': 'Yin Yang Magic', 'learned': [{'name': 'Paralyze'}, {'name': 'Dispel Magic'}, {'name': 'Pray Faith'}, {'name': 'Zombie'}, {'name': 'Dark Holy'}]}, 'react': {'name': 'HP Restore'}, 'support': {'name': 'Equip Shield'}, 'move': {'name': 'Ignore Terrain'}}, 'equipment': [{'name': 'Rainbow Staff'}, {'name': 'Escutcheon'}, {'name': 'Triangle Hat'}, {'name': 'Secret Clothes'}, {'name': 'Dracula Mantle'}]}, {'name': 'RughSontos', 'gender': 'Female', 'brave': '79', 'zodiac': 'Aries', 'faith': '55', 'tournamentId': 'tournament_1585274941186', 'teamName': 'black', 'class': {'name': 'Mime', 'gender': 'Female'}, 'abilities': {'mainActive': {'name': 'Mimic', 'learned': [{'name': 'Mimic'}]}, 'subActive': {'name': '', 'learned': []}, 'react': {'name': 'HP Restore'}, 'support': {'name': 'Secret Hunt'}, 'move': {'name': 'Lava Walking'}}, 'equipment': [{'name': 'Bronze Shield'}, {'name': 'Holy Miter'}, {'name': 'Clothes'}, {'name': 'Elf Mantle'}]}]}, {'tournamentId': 'tournament_1585274941186', 'teamName': 'purple', 'units': [{'name': 'LanseDM', 'gender': 'Male', 'brave': '36', 'zodiac': 'Gemini', 'faith': '59', 'tournamentId': 'tournament_1585274941186', 'teamName': 'purple', 'class': {'name': 'Samurai', 'gender': 'Male'}, 'abilities': {'mainActive': {'name': 'Draw Out', 'learned': [{'name': 'Chirijiraden'}, {'name': \"Heaven's Cloud\"}, {'name': 'Koutetsu'}]}, 'subActive': {'name': 'Jump', 'learned': [{'name': 'Vertical Jump6'}, {'name': 'Level Jump4'}]}, 'react': {'name': 'Auto Potion'}, 'support': {'name': 'Sicken'}, 'move': {'name': 'Levitate'}}, 'equipment': [{'name': 'Bizen Boat'}, {'name': 'Bronze Helmet'}, {'name': 'Crystal Mail'}, {'name': 'Defense Armlet'}]}, {'name': 'L2 Sentinel', 'gender': 'Male', 'brave': '68', 'zodiac': 'Serpentarius', 'faith': '45', 'tournamentId': 'tournament_1585274941186', 'teamName': 'purple', 'class': {'name': 'Monk', 'gender': 'Male'}, 'abilities': {'mainActive': {'name': 'Punch Art', 'learned': [{'name': 'Spin Fist'}, {'name': 'Secret Fist'}, {'name': 'Purification'}]}, 'subActive': {'name': 'White Magic', 'learned': [{'name': 'Regen'}, {'name': 'Cure 2'}, {'name': 'Cure 3'}, {'name': 'Raise'}, {'name': 'Raise 2'}, {'name': 'Reraise'}, {'name': 'Protect'}, {'name': 'Shell'}, {'name': 'Esuna'}]}, 'react': {'name': 'Parry'}, 'support': {'name': 'Defense UP'}, 'move': {'name': 'Ignore Terrain'}}, 'equipment': [{'name': 'Golden Hairpin'}, {'name': 'Power Sleeve'}, {'name': 'Feather Boots'}]}, {'name': 'I Nod My Head When I Lose', 'gender': 'Female', 'brave': '41', 'zodiac': 'Capricorn', 'faith': '65', 'tournamentId': 'tournament_1585274941186', 'teamName': 'purple', 'class': {'name': 'Archer', 'gender': 'Female'}, 'abilities': {'mainActive': {'name': 'Charge', 'learned': [{'name': 'Charge+7'}]}, 'subActive': {'name': 'Draw Out', 'learned': [{'name': 'Kikuichimoji'}, {'name': \"Heaven's Cloud\"}, {'name': 'Kiyomori'}, {'name': 'Koutetsu'}]}, 'react': {'name': 'Counter Flood'}, 'support': {'name': 'Doublehand'}, 'move': {'name': 'Ignore Height'}}, 'equipment': [{'name': 'Silver Bow'}, {'name': 'Flash Hat'}, {'name': 'Adaman Vest'}, {'name': 'Wizard Mantle'}]}, {'name': 'SkylerBunny', 'gender': 'Male', 'brave': '48', 'zodiac': 'Libra', 'faith': '56', 'tournamentId': 'tournament_1585274941186', 'teamName': 'purple', 'class': {'name': 'Chemist', 'gender': 'Male'}, 'abilities': {'mainActive': {'name': 'Item', 'learned': [{'name': 'Ether'}, {'name': 'Eye Drop'}, {'name': 'Phoenix Down'}, {'name': 'Hi-Potion'}]}, 'subActive': {'name': 'Elemental', 'learned': [{'name': 'Water Ball'}, {'name': 'Quicksand'}, {'name': 'Pitfall'}, {'name': 'Will-O-Wisp'}, {'name': 'Static Shock'}, {'name': 'Lava Ball'}, {'name': 'Hallowed Ground'}, {'name': 'Hell Ivy'}, {'name': 'Sand Storm'}]}, 'react': {'name': 'Earplug'}, 'support': {'name': 'Dual Wield'}, 'move': {'name': 'Swim'}}, 'equipment': [{'name': 'Dagger'}, {'name': 'Panther Bag'}, {'name': 'Cachusha'}, {'name': 'Judo Outfit'}, {'name': 'Elf Mantle'}]}]}, {'tournamentId': 'tournament_1585274941186', 'teamName': 'brown', 'units': [{'name': 'Omegasuspekt', 'gender': 'Male', 'brave': '43', 'zodiac': 'Cancer', 'faith': '45', 'tournamentId': 'tournament_1585274941186', 'teamName': 'brown', 'class': {'name': 'Ninja', 'gender': 'Male'}, 'abilities': {'mainActive': {'name': 'Throw', 'learned': [{'name': 'Shuriken'}, {'name': 'Bomb'}, {'name': 'Wand'}]}, 'subActive': {'name': 'Jump', 'learned': [{'name': 'Level Jump4'}, {'name': 'Vertical Jump8'}]}, 'react': {'name': 'Blade Grasp'}, 'support': {'name': 'Equip Axe'}, 'move': {'name': 'Waterwalking'}}, 'equipment': [{'name': 'Giant Axe'}, {'name': 'Gold Staff'}, {'name': 'Green Beret'}, {'name': 'Wizard Outfit'}, {'name': 'Diamond Armlet'}]}, {'name': 'Amadmet', 'gender': 'Female', 'brave': '59', 'zodiac': 'Taurus', 'faith': '61', 'tournamentId': 'tournament_1585274941186', 'teamName': 'brown', 'class': {'name': 'Summoner', 'gender': 'Female'}, 'abilities': {'mainActive': {'name': 'Summon Magic', 'learned': [{'name': 'Fairy'}, {'name': 'Moogle'}, {'name': 'Silf'}, {'name': 'Ifrit'}, {'name': 'Bahamut'}, {'name': 'Carbunkle'}]}, 'subActive': {'name': 'Black Magic', 'learned': [{'name': 'Fire 2'}, {'name': 'Ice'}]}, 'react': {'name': 'Mana Shield'}, 'support': {'name': 'Short Charge'}, 'move': {'name': 'Lava Walking'}}, 'equipment': [{'name': 'Flame Rod'}, {'name': 'Feather Hat'}, {'name': 'Light Robe'}, {'name': 'Diamond Armlet'}]}, {'name': 'Rogueain', 'gender': 'Monster', 'brave': '67', 'zodiac': 'Capricorn', 'faith': '75', 'tournamentId': 'tournament_1585274941186', 'teamName': 'brown', 'class': {'name': 'Revenant', 'gender': 'Monster'}, 'abilities': {}, 'equipment': []}, {'name': 'CorpusCav', 'gender': 'Female', 'brave': '59', 'zodiac': 'Capricorn', 'faith': '53', 'tournamentId': 'tournament_1585274941186', 'teamName': 'brown', 'class': {'name': 'Wizard', 'gender': 'Female'}, 'abilities': {'mainActive': {'name': 'Black Magic', 'learned': [{'name': 'Bolt 2'}, {'name': 'Bolt 4'}, {'name': 'Ice 2'}, {'name': 'Ice 3'}, {'name': 'Empower'}]}, 'subActive': {'name': 'Steal', 'learned': [{'name': 'Steal Helmet'}, {'name': 'Steal Status'}, {'name': 'Steal Heart'}]}, 'react': {'name': 'Abandon'}, 'support': {'name': 'Equip Armor'}, 'move': {'name': 'Move-HP Up'}}, 'equipment': [{'name': 'Mythril Knife'}, {'name': 'Leather Helmet'}, {'name': 'Wizard Robe'}, {'name': 'Dracula Mantle'}]}]}, {'tournamentId': 'tournament_1585274941186', 'teamName': 'champion', 'units': [{'name': 'Mtueni', 'gender': 'Male', 'brave': '71', 'zodiac': 'Aquarius', 'faith': '57', 'tournamentId': 'tournament_1585274941186', 'teamName': 'champion', 'class': {'name': 'Chemist', 'gender': 'Male'}, 'abilities': {'mainActive': {'name': 'Item', 'learned': [{'name': 'Holy Water'}, {'name': 'Phoenix Down'}, {'name': 'Antidote'}, {'name': 'Potion'}, {'name': 'Echo Grass'}, {'name': \"Maiden's Kiss\"}]}, 'subActive': {'name': 'Elemental', 'learned': [{'name': 'Hell Ivy'}, {'name': 'Water Ball'}, {'name': 'Blizzard'}, {'name': 'Pitfall'}, {'name': 'Lava Ball'}, {'name': 'Quicksand'}, {'name': 'Static Shock'}, {'name': 'Local Quake'}, {'name': 'Hallowed Ground'}, {'name': 'Gusty Wind'}]}, 'react': {'name': 'Catch'}, 'support': {'name': 'Defend'}, 'move': {'name': 'Move+3'}}, 'equipment': [{'name': 'Assassin Dagger'}, {'name': 'Feather Hat'}, {'name': 'Chain Vest'}, {'name': 'Magic Gauntlet'}]}, {'name': 'Tougou', 'gender': 'Male', 'brave': '79', 'zodiac': 'Gemini', 'faith': '56', 'tournamentId': 'tournament_1585274941186', 'teamName': 'champion', 'class': {'name': 'Archer', 'gender': 'Male'}, 'abilities': {'mainActive': {'name': 'Charge', 'learned': [{'name': 'Charge+2'}]}, 'subActive': {'name': 'Draw Out', 'learned': [{'name': 'Murasame'}, {'name': \"Heaven's Cloud\"}, {'name': 'Muramasa'}]}, 'react': {'name': 'Sunken State'}, 'support': {'name': 'Dual Wield'}, 'move': {'name': 'Move+2'}}, 'equipment': [{'name': 'Romanda Gun'}, {'name': 'Glacier Gun'}, {'name': 'Platinum Helmet'}, {'name': 'Wizard Outfit'}, {'name': 'N-Kai Armlet'}]}, {'name': 'Pandasforsale', 'gender': 'Female', 'brave': '38', 'zodiac': 'Pisces', 'faith': '42', 'tournamentId': 'tournament_1585274941186', 'teamName': 'champion', 'class': {'name': 'Archer', 'gender': 'Female'}, 'abilities': {'mainActive': {'name': 'Charge', 'learned': [{'name': 'Charge+4'}, {'name': 'Charge+10'}, {'name': 'Charge+5'}, {'name': 'Charge+7'}]}, 'subActive': {'name': 'Summon Magic', 'learned': [{'name': 'Carbunkle'}, {'name': 'Bahamut'}, {'name': 'Salamander'}, {'name': 'Golem'}, {'name': 'Odin'}]}, 'react': {'name': 'Parry'}, 'support': {'name': 'Dual Wield'}, 'move': {'name': 'Jump+2'}}, 'equipment': [{'name': 'Hunting Bow'}, {'name': 'Cross Bow'}, {'name': 'Cross Helmet'}, {'name': 'Wizard Outfit'}, {'name': 'Genji Gauntlet'}]}, {'name': 'Bryan792', 'gender': 'Male', 'brave': '79', 'zodiac': 'Leo', 'faith': '75', 'tournamentId': 'tournament_1585274941186', 'teamName': 'champion', 'class': {'name': 'Ninja', 'gender': 'Male'}, 'abilities': {'mainActive': {'name': 'Throw', 'learned': [{'name': 'Shuriken'}, {'name': 'Knife'}, {'name': 'Spear'}]}, 'subActive': {'name': 'Black Magic', 'learned': [{'name': 'Ice'}, {'name': 'Flare'}, {'name': 'Fire 4'}, {'name': 'Bolt'}, {'name': 'Bolt 2'}, {'name': 'Bolt 3'}, {'name': 'Bolt 4'}, {'name': 'Death'}]}, 'react': {'name': 'Parry'}, 'support': {'name': 'Equip Gun'}, 'move': {'name': 'Levitate'}}, 'equipment': [{'name': 'Bestiary'}, {'name': 'Madlemgen'}, {'name': 'Leather Hat'}, {'name': 'Chain Vest'}, {'name': 'Reflect Ring'}]}]}]}\n",
      "http://mustadio-staging.herokuapp.com/api/tournaments/tournament_1585272319005\n"
     ]
    },
    {
     "name": "stdout",
     "output_type": "stream",
     "text": [
      "{'id': 'tournament_1585272319005', 'teams': [{'tournamentId': 'tournament_1585272319005', 'teamName': 'red', 'units': [{'name': 'Shalloween', 'gender': 'Male', 'brave': '51', 'zodiac': 'Aquarius', 'faith': '70', 'tournamentId': 'tournament_1585272319005', 'teamName': 'red', 'class': {'name': 'Archer', 'gender': 'Male'}, 'abilities': {'mainActive': {'name': 'Charge', 'learned': [{'name': 'Charge+3'}, {'name': 'Charge+5'}, {'name': 'Charge+4'}, {'name': 'Charge+1'}, {'name': 'Charge+2'}]}, 'subActive': {'name': 'Time Magic', 'learned': [{'name': 'Demi'}, {'name': 'Immobilize'}, {'name': 'Slow 2'}, {'name': 'Haste 2'}, {'name': 'Haste'}, {'name': 'Stabilize Time'}]}, 'react': {'name': 'Counter'}, 'support': {'name': 'Dual Wield'}, 'move': {'name': 'Move+2'}}, 'equipment': [{'name': 'Ice Bow'}, {'name': 'Golden Hairpin'}, {'name': 'Judo Outfit'}, {'name': 'Cursed Ring'}]}, {'name': 'BuffaloCrunch', 'gender': 'Female', 'brave': '53', 'zodiac': 'Libra', 'faith': '62', 'tournamentId': 'tournament_1585272319005', 'teamName': 'red', 'class': {'name': 'Dancer', 'gender': 'Female'}, 'abilities': {'mainActive': {'name': 'Dance', 'learned': [{'name': 'Wiznaibus'}, {'name': 'Nether Demon'}, {'name': 'Witch Hunt'}, {'name': 'Last Dance'}]}, 'subActive': {'name': 'Battle Skill', 'learned': [{'name': 'Armor Break'}, {'name': 'Mind Break'}, {'name': 'Head Break'}, {'name': 'Power Break'}]}, 'react': {'name': 'Counter'}, 'support': {'name': 'Equip Shield'}, 'move': {'name': 'Levitate'}}, 'equipment': [{'name': 'Cashmere'}, {'name': 'Bronze Shield'}, {'name': 'Leather Hat'}, {'name': 'Judo Outfit'}, {'name': 'Elf Mantle'}]}, {'name': 'TrogdorTheMemeinator', 'gender': 'Female', 'brave': '59', 'zodiac': 'Scorpio', 'faith': '71', 'tournamentId': 'tournament_1585272319005', 'teamName': 'red', 'class': {'name': 'Ninja', 'gender': 'Female'}, 'abilities': {'mainActive': {'name': 'Throw', 'learned': [{'name': 'Shuriken'}, {'name': 'Dictionary'}]}, 'subActive': {'name': 'Punch Art', 'learned': [{'name': 'Chakra'}, {'name': 'Secret Fist'}, {'name': 'Wave Fist'}, {'name': 'Spin Fist'}, {'name': 'Pummel'}]}, 'react': {'name': 'Earplug'}, 'support': {'name': 'Equip Axe'}, 'move': {'name': 'Move+2'}}, 'equipment': [{'name': 'Flame Whip'}, {'name': 'Flame Whip'}, {'name': 'Black Hood'}, {'name': 'Black Costume'}, {'name': 'Dracula Mantle'}]}, {'name': 'ANFz', 'gender': 'Male', 'brave': '55', 'zodiac': 'Taurus', 'faith': '74', 'tournamentId': 'tournament_1585272319005', 'teamName': 'red', 'class': {'name': 'Geomancer', 'gender': 'Male'}, 'abilities': {'mainActive': {'name': 'Elemental', 'learned': [{'name': 'Pitfall'}, {'name': 'Water Ball'}, {'name': 'Static Shock'}, {'name': 'Will-O-Wisp'}, {'name': 'Sand Storm'}, {'name': 'Blizzard'}, {'name': 'Gusty Wind'}, {'name': 'Lava Ball'}]}, 'subActive': {'name': 'White Magic', 'learned': [{'name': 'Cure 4'}, {'name': 'Esuna'}, {'name': 'Raise'}, {'name': 'Shell 2'}, {'name': 'Wall'}]}, 'react': {'name': 'Critical Quick'}, 'support': {'name': 'Magic Defense UP'}, 'move': {'name': 'Jump+1'}}, 'equipment': [{'name': 'Materia Blade'}, {'name': 'Hero Shield'}, {'name': 'Flash Hat'}, {'name': 'Secret Clothes'}, {'name': 'Power Wrist'}]}]}, {'tournamentId': 'tournament_1585272319005', 'teamName': 'blue', 'units': [{'name': 'Skarthe', 'gender': 'Female', 'brave': '78', 'zodiac': 'Gemini', 'faith': '48', 'tournamentId': 'tournament_1585272319005', 'teamName': 'blue', 'class': {'name': 'Summoner', 'gender': 'Female'}, 'abilities': {'mainActive': {'name': 'Summon Magic', 'learned': [{'name': 'Shiva'}, {'name': 'Lich'}, {'name': 'Golem'}, {'name': 'Moogle'}, {'name': 'Bahamut'}, {'name': 'Ramuh'}, {'name': 'Salamander'}, {'name': 'Fairy'}]}, 'subActive': {'name': 'Item', 'learned': [{'name': 'Hi-Ether'}, {'name': 'Hi-Potion'}, {'name': 'Phoenix Down'}, {'name': 'X-Potion'}, {'name': 'Elixir'}, {'name': 'Holy Water'}]}, 'react': {'name': 'Counter'}, 'support': {'name': 'Equip Axe'}, 'move': {'name': 'Jump+3'}}, 'equipment': [{'name': 'Battle Axe'}, {'name': 'Black Hood'}, {'name': 'Mythril Vest'}, {'name': 'Wizard Mantle'}]}, {'name': 'Lanryte', 'gender': 'Male', 'brave': '46', 'zodiac': 'Serpentarius', 'faith': '45', 'tournamentId': 'tournament_1585272319005', 'teamName': 'blue', 'class': {'name': 'Lancer', 'gender': 'Male'}, 'abilities': {'mainActive': {'name': 'Jump', 'learned': [{'name': 'Vertical Jump7'}, {'name': 'Level Jump3'}]}, 'subActive': {'name': 'Punch Art', 'learned': [{'name': 'Secret Fist'}, {'name': 'Purification'}, {'name': 'Chakra'}, {'name': 'Revive'}]}, 'react': {'name': 'Absorb Used MP'}, 'support': {'name': 'Secret Hunt'}, 'move': {'name': 'Swim'}}, 'equipment': [{'name': 'Gungnir'}, {'name': 'Ice Shield'}, {'name': 'Crystal Helmet'}, {'name': 'Chain Mail'}, {'name': 'Leather Mantle'}]}, {'name': 'Virilikus', 'gender': 'Female', 'brave': '73', 'zodiac': 'Scorpio', 'faith': '47', 'tournamentId': 'tournament_1585272319005', 'teamName': 'blue', 'class': {'name': 'Samurai', 'gender': 'Female'}, 'abilities': {'mainActive': {'name': 'Draw Out', 'learned': [{'name': 'Kiyomori'}, {'name': 'Muramasa'}, {'name': 'Kikuichimoji'}]}, 'subActive': {'name': 'Elemental', 'learned': [{'name': 'Will-O-Wisp'}, {'name': 'Pitfall'}, {'name': 'Hell Ivy'}, {'name': 'Static Shock'}, {'name': 'Quicksand'}, {'name': 'Sand Storm'}, {'name': 'Blizzard'}, {'name': 'Gusty Wind'}, {'name': 'Lava Ball'}]}, 'react': {'name': 'Meatbone Slash'}, 'support': {'name': 'Sicken'}, 'move': {'name': 'Waterwalking'}}, 'equipment': [{'name': 'Partisan'}, {'name': 'Diamond Helmet'}, {'name': 'Carabini Mail'}, {'name': 'Cursed Ring'}]}, {'name': 'TheRobbieRobster', 'gender': 'Female', 'brave': '70', 'zodiac': 'Pisces', 'faith': '47', 'tournamentId': 'tournament_1585272319005', 'teamName': 'blue', 'class': {'name': 'Thief', 'gender': 'Female'}, 'abilities': {'mainActive': {'name': 'Steal', 'learned': [{'name': 'Steal Helmet'}, {'name': 'Steal Weapon'}, {'name': 'Arm Aim'}]}, 'subActive': {'name': 'Summon Magic', 'learned': [{'name': 'Silf'}, {'name': 'Fairy'}, {'name': 'Lich'}, {'name': 'Moogle'}, {'name': 'Shiva'}, {'name': 'Titan'}, {'name': 'Carbunkle'}, {'name': 'Odin'}, {'name': 'Salamander'}]}, 'react': {'name': 'Counter Flood'}, 'support': {'name': 'Equip Bow'}, 'move': {'name': 'Move-MP Up'}}, 'equipment': [{'name': 'Silver Bow'}, {'name': 'Red Hood'}, {'name': 'Secret Clothes'}, {'name': 'Wizard Mantle'}]}]}, {'tournamentId': 'tournament_1585272319005', 'teamName': 'green', 'units': [{'name': 'Chronoxtrigger', 'gender': 'Male', 'brave': '66', 'zodiac': 'Capricorn', 'faith': '72', 'tournamentId': 'tournament_1585272319005', 'teamName': 'green', 'class': {'name': 'Lancer', 'gender': 'Male'}, 'abilities': {'mainActive': {'name': 'Jump', 'learned': [{'name': 'Vertical Jump6'}, {'name': 'Level Jump8'}]}, 'subActive': {'name': 'Elemental', 'learned': [{'name': 'Lava Ball'}, {'name': 'Static Shock'}, {'name': 'Quicksand'}, {'name': 'Gusty Wind'}, {'name': 'Hell Ivy'}, {'name': 'Hallowed Ground'}]}, 'react': {'name': 'MA Save'}, 'support': {'name': 'Dual Wield'}, 'move': {'name': 'Fly'}}, 'equipment': [{'name': 'Cypress Rod'}, {'name': 'Dragon Whisker'}, {'name': 'Iron Helmet'}, {'name': 'Linen Cuirass'}, {'name': 'Defense Armlet'}]}, {'name': 'BenYuPoker', 'gender': 'Female', 'brave': '69', 'zodiac': 'Taurus', 'faith': '57', 'tournamentId': 'tournament_1585272319005', 'teamName': 'green', 'class': {'name': 'Calculator', 'gender': 'Female'}, 'abilities': {'mainActive': {'name': 'Math Skill', 'learned': [{'name': 'CT'}, {'name': 'Height'}, {'name': 'Prime Number'}, {'name': '4'}]}, 'subActive': {'name': 'Yin Yang Magic', 'learned': [{'name': 'Dispel Magic'}, {'name': 'Doubt Faith'}, {'name': 'Silence Song'}, {'name': 'Blind Rage'}]}, 'react': {'name': 'Mana Shield'}, 'support': {'name': 'Equip Sword'}, 'move': {'name': 'Waterwalking'}}, 'equipment': [{'name': 'Rune Blade'}, {'name': 'Headgear'}, {'name': 'Clothes'}, {'name': 'Magic Ring'}]}, {'name': 'ELzukkor', 'gender': 'Female', 'brave': '68', 'zodiac': 'Scorpio', 'faith': '72', 'tournamentId': 'tournament_1585272319005', 'teamName': 'green', 'class': {'name': 'Knight', 'gender': 'Female'}, 'abilities': {'mainActive': {'name': 'Battle Skill', 'learned': [{'name': 'Justice Sword'}, {'name': 'Head Break'}, {'name': 'Speed Break'}, {'name': 'Dark Sword'}, {'name': 'Surging Sword'}]}, 'subActive': {'name': 'Throw', 'learned': [{'name': 'Shuriken'}, {'name': 'Sword'}]}, 'react': {'name': 'Counter Magic'}, 'support': {'name': 'Defense UP'}, 'move': {'name': 'Levitate'}}, 'equipment': [{'name': 'Blood Sword'}, {'name': 'Round Shield'}, {'name': 'Bronze Helmet'}, {'name': 'Chameleon Robe'}, {'name': 'Power Wrist'}]}, {'name': 'BadBlanket', 'gender': 'Male', 'brave': '49', 'zodiac': 'Virgo', 'faith': '78', 'tournamentId': 'tournament_1585272319005', 'teamName': 'green', 'class': {'name': 'Squire', 'gender': 'Male'}, 'abilities': {'mainActive': {'name': 'Basic Skill', 'learned': [{'name': 'Scream'}, {'name': 'Accumulate'}, {'name': 'Cheer Up'}]}, 'subActive': {'name': 'Elemental', 'learned': [{'name': 'Static Shock'}, {'name': 'Will-O-Wisp'}, {'name': 'Hell Ivy'}, {'name': 'Sand Storm'}, {'name': 'Local Quake'}, {'name': 'Quicksand'}, {'name': 'Water Ball'}, {'name': 'Blizzard'}, {'name': 'Hallowed Ground'}, {'name': 'Gusty Wind'}]}, 'react': {'name': 'Catch'}, 'support': {'name': 'Equip Axe'}, 'move': {'name': 'Move-MP Up'}}, 'equipment': [{'name': 'Wizard Staff'}, {'name': 'Flame Shield'}, {'name': 'Iron Helmet'}, {'name': 'Plate Mail'}, {'name': 'Reflect Ring'}]}]}, {'tournamentId': 'tournament_1585272319005', 'teamName': 'yellow', 'units': [{'name': 'Tone T', 'gender': 'Female', 'brave': '49', 'zodiac': 'Virgo', 'faith': '52', 'tournamentId': 'tournament_1585272319005', 'teamName': 'yellow', 'class': {'name': 'Summoner', 'gender': 'Female'}, 'abilities': {'mainActive': {'name': 'Summon Magic', 'learned': [{'name': 'Carbunkle'}, {'name': 'Silf'}, {'name': 'Odin'}, {'name': 'Ramuh'}, {'name': 'Ifrit'}, {'name': 'Moogle'}]}, 'subActive': {'name': 'White Magic', 'learned': [{'name': 'Esuna'}, {'name': 'Shell 2'}, {'name': 'Protect 2'}, {'name': 'Regen'}, {'name': 'Reraise'}, {'name': 'Raise 2'}, {'name': 'Raise'}, {'name': 'Cure 3'}, {'name': 'Cure'}]}, 'react': {'name': 'Sunken State'}, 'support': {'name': 'Equip Axe'}, 'move': {'name': 'Teleport'}}, 'equipment': [{'name': 'Battle Axe'}, {'name': 'Green Beret'}, {'name': 'Light Robe'}, {'name': 'Bracer'}]}, {'name': 'KasugaiRoastedPeas', 'gender': 'Female', 'brave': '47', 'zodiac': 'Aries', 'faith': '54', 'tournamentId': 'tournament_1585272319005', 'teamName': 'yellow', 'class': {'name': 'Wizard', 'gender': 'Female'}, 'abilities': {'mainActive': {'name': 'Black Magic', 'learned': [{'name': 'Ice 3'}, {'name': 'Bolt 4'}, {'name': 'Fire 3'}, {'name': 'Fire 4'}, {'name': 'Bolt'}, {'name': 'Death'}, {'name': 'Fire 2'}, {'name': 'Empower'}, {'name': 'Ice'}]}, 'subActive': {'name': 'Throw', 'learned': [{'name': 'Bomb'}, {'name': 'Stick'}]}, 'react': {'name': 'PA Save'}, 'support': {'name': 'Beastmaster'}, 'move': {'name': 'Ignore Height'}}, 'equipment': [{'name': 'Mythril Knife'}, {'name': 'Thief Hat'}, {'name': 'Black Robe'}, {'name': 'N-Kai Armlet'}]}, {'name': 'Humble Fabio', 'gender': 'Male', 'brave': '45', 'zodiac': 'Libra', 'faith': '45', 'tournamentId': 'tournament_1585272319005', 'teamName': 'yellow', 'class': {'name': 'Thief', 'gender': 'Male'}, 'abilities': {'mainActive': {'name': 'Steal', 'learned': [{'name': 'Steal Status'}, {'name': 'Steal Heart'}, {'name': 'Steal Weapon'}, {'name': 'Steal Accessory'}, {'name': 'Steal Helmet'}, {'name': 'Leg Aim'}]}, 'subActive': {'name': 'Basic Skill', 'learned': [{'name': 'Throw Stone'}, {'name': 'Accumulate'}, {'name': 'Tickle'}]}, 'react': {'name': 'Counter'}, 'support': {'name': 'Attack UP'}, 'move': {'name': 'Jump+3'}}, 'equipment': [{'name': 'Orichalcum'}, {'name': 'Twist Headband'}, {'name': 'Leather Outfit'}, {'name': 'N-Kai Armlet'}]}, {'name': 'Lionhermit', 'gender': 'Male', 'brave': '43', 'zodiac': 'Aries', 'faith': '54', 'tournamentId': 'tournament_1585272319005', 'teamName': 'yellow', 'class': {'name': 'Mediator', 'gender': 'Male'}, 'abilities': {'mainActive': {'name': 'Talk Skill', 'learned': [{'name': 'Mimic Daravon'}, {'name': 'Invitation'}, {'name': 'Praise'}, {'name': 'Death Sentence'}, {'name': 'Insult'}, {'name': 'Negotiate'}, {'name': 'Refute'}]}, 'subActive': {'name': 'Punch Art', 'learned': [{'name': 'Pummel'}, {'name': 'Purification'}, {'name': 'Revive'}, {'name': 'Seal Evil'}]}, 'react': {'name': 'Meatbone Slash'}, 'support': {'name': 'Long Status'}, 'move': {'name': 'Swim'}}, 'equipment': [{'name': 'Mythril Gun'}, {'name': 'Headgear'}, {'name': 'Mystic Vest'}, {'name': 'Angel Ring'}]}]}, {'tournamentId': 'tournament_1585272319005', 'teamName': 'white', 'units': [{'name': 'SolarisFall', 'gender': 'Female', 'brave': '59', 'zodiac': 'Sagittarius', 'faith': '65', 'tournamentId': 'tournament_1585272319005', 'teamName': 'white', 'class': {'name': 'Wizard', 'gender': 'Female'}, 'abilities': {'mainActive': {'name': 'Black Magic', 'learned': [{'name': 'Ice 3'}, {'name': 'Fire'}, {'name': 'Bolt 4'}, {'name': 'Empower'}, {'name': 'Fire 3'}, {'name': 'Frog'}, {'name': 'Ice'}]}, 'subActive': {'name': 'Item', 'learned': [{'name': 'Hi-Ether'}, {'name': 'Antidote'}, {'name': 'Echo Grass'}, {'name': 'Soft'}, {'name': 'Holy Water'}, {'name': 'Phoenix Down'}, {'name': \"Maiden's Kiss\"}, {'name': 'Ether'}, {'name': 'Potion'}]}, 'react': {'name': 'Arrow Guard'}, 'support': {'name': 'Short Status'}, 'move': {'name': 'Fly'}}, 'equipment': [{'name': 'Wizard Rod'}, {'name': 'Black Hood'}, {'name': 'Judo Outfit'}, {'name': 'Magic Gauntlet'}]}, {'name': 'Shakarak', 'gender': 'Male', 'brave': '49', 'zodiac': 'Capricorn', 'faith': '79', 'tournamentId': 'tournament_1585272319005', 'teamName': 'white', 'class': {'name': 'Thief', 'gender': 'Male'}, 'abilities': {'mainActive': {'name': 'Steal', 'learned': [{'name': 'Gil Taking'}, {'name': 'Steal Weapon'}, {'name': 'Steal Status'}]}, 'subActive': {'name': 'Basic Skill', 'learned': [{'name': 'Heal'}, {'name': 'Dash'}, {'name': 'Tickle'}]}, 'react': {'name': 'Parry'}, 'support': {'name': 'Maintenance'}, 'move': {'name': 'Swim'}}, 'equipment': [{'name': 'Sasuke Knife'}, {'name': 'Thief Hat'}, {'name': 'Leather Outfit'}, {'name': 'Vanish Mantle'}]}, {'name': 'Loveyouallfriends', 'gender': 'Male', 'brave': '69', 'zodiac': 'Leo', 'faith': '51', 'tournamentId': 'tournament_1585272319005', 'teamName': 'white', 'class': {'name': 'Squire', 'gender': 'Male'}, 'abilities': {'mainActive': {'name': 'Basic Skill', 'learned': [{'name': 'Yell'}, {'name': 'Accumulate'}, {'name': 'Dash'}, {'name': 'Throw Stone'}, {'name': 'Heal'}, {'name': 'Tickle'}]}, 'subActive': {'name': 'Punch Art', 'learned': [{'name': 'Spin Fist'}, {'name': 'Seal Evil'}]}, 'react': {'name': 'Hamedo'}, 'support': {'name': 'Short Charge'}, 'move': {'name': 'Levitate'}}, 'equipment': [{'name': 'Rune Blade'}, {'name': 'Escutcheon'}, {'name': 'Cross Helmet'}, {'name': 'Earth Clothes'}, {'name': 'Vanish Mantle'}]}, {'name': 'Lali Lulelo', 'gender': 'Female', 'brave': '58', 'zodiac': 'Capricorn', 'faith': '79', 'tournamentId': 'tournament_1585272319005', 'teamName': 'white', 'class': {'name': 'Archer', 'gender': 'Female'}, 'abilities': {'mainActive': {'name': 'Charge', 'learned': [{'name': 'Charge+7'}, {'name': 'Charge+1'}, {'name': 'Charge+3'}, {'name': 'Charge+2'}, {'name': 'Charge+5'}]}, 'subActive': {'name': 'White Magic', 'learned': [{'name': 'Cure'}, {'name': 'Cure 2'}, {'name': 'Cure 3'}, {'name': 'Regen'}, {'name': 'Raise'}, {'name': 'Wall'}, {'name': 'Esuna'}]}, 'react': {'name': 'Caution'}, 'support': {'name': 'Maintenance'}, 'move': {'name': 'Jump+2'}}, 'equipment': [{'name': 'Cross Bow'}, {'name': 'Flame Shield'}, {'name': 'Feather Hat'}, {'name': 'Adaman Vest'}, {'name': 'Jade Armlet'}]}]}, {'tournamentId': 'tournament_1585272319005', 'teamName': 'black', 'units': [{'name': 'Mtueni', 'gender': 'Male', 'brave': '71', 'zodiac': 'Aquarius', 'faith': '57', 'tournamentId': 'tournament_1585272319005', 'teamName': 'black', 'class': {'name': 'Chemist', 'gender': 'Male'}, 'abilities': {'mainActive': {'name': 'Item', 'learned': [{'name': 'Holy Water'}, {'name': 'Phoenix Down'}, {'name': 'Antidote'}, {'name': 'Potion'}, {'name': 'Echo Grass'}, {'name': \"Maiden's Kiss\"}]}, 'subActive': {'name': 'Elemental', 'learned': [{'name': 'Hell Ivy'}, {'name': 'Water Ball'}, {'name': 'Blizzard'}, {'name': 'Pitfall'}, {'name': 'Lava Ball'}, {'name': 'Quicksand'}, {'name': 'Static Shock'}, {'name': 'Local Quake'}, {'name': 'Hallowed Ground'}, {'name': 'Gusty Wind'}]}, 'react': {'name': 'Catch'}, 'support': {'name': 'Defend'}, 'move': {'name': 'Move+3'}}, 'equipment': [{'name': 'Assassin Dagger'}, {'name': 'Feather Hat'}, {'name': 'Chain Vest'}, {'name': 'Magic Gauntlet'}]}, {'name': 'Tougou', 'gender': 'Male', 'brave': '79', 'zodiac': 'Gemini', 'faith': '56', 'tournamentId': 'tournament_1585272319005', 'teamName': 'black', 'class': {'name': 'Archer', 'gender': 'Male'}, 'abilities': {'mainActive': {'name': 'Charge', 'learned': [{'name': 'Charge+2'}]}, 'subActive': {'name': 'Draw Out', 'learned': [{'name': 'Murasame'}, {'name': \"Heaven's Cloud\"}, {'name': 'Muramasa'}]}, 'react': {'name': 'Sunken State'}, 'support': {'name': 'Dual Wield'}, 'move': {'name': 'Move+2'}}, 'equipment': [{'name': 'Romanda Gun'}, {'name': 'Glacier Gun'}, {'name': 'Platinum Helmet'}, {'name': 'Wizard Outfit'}, {'name': 'N-Kai Armlet'}]}, {'name': 'Pandasforsale', 'gender': 'Female', 'brave': '38', 'zodiac': 'Pisces', 'faith': '42', 'tournamentId': 'tournament_1585272319005', 'teamName': 'black', 'class': {'name': 'Archer', 'gender': 'Female'}, 'abilities': {'mainActive': {'name': 'Charge', 'learned': [{'name': 'Charge+4'}, {'name': 'Charge+10'}, {'name': 'Charge+5'}, {'name': 'Charge+7'}]}, 'subActive': {'name': 'Summon Magic', 'learned': [{'name': 'Carbunkle'}, {'name': 'Bahamut'}, {'name': 'Salamander'}, {'name': 'Golem'}, {'name': 'Odin'}]}, 'react': {'name': 'Parry'}, 'support': {'name': 'Dual Wield'}, 'move': {'name': 'Jump+2'}}, 'equipment': [{'name': 'Hunting Bow'}, {'name': 'Cross Bow'}, {'name': 'Cross Helmet'}, {'name': 'Wizard Outfit'}, {'name': 'Genji Gauntlet'}]}, {'name': 'Bryan792', 'gender': 'Male', 'brave': '79', 'zodiac': 'Leo', 'faith': '75', 'tournamentId': 'tournament_1585272319005', 'teamName': 'black', 'class': {'name': 'Ninja', 'gender': 'Male'}, 'abilities': {'mainActive': {'name': 'Throw', 'learned': [{'name': 'Shuriken'}, {'name': 'Knife'}, {'name': 'Spear'}]}, 'subActive': {'name': 'Black Magic', 'learned': [{'name': 'Ice'}, {'name': 'Flare'}, {'name': 'Fire 4'}, {'name': 'Bolt'}, {'name': 'Bolt 2'}, {'name': 'Bolt 3'}, {'name': 'Bolt 4'}, {'name': 'Death'}]}, 'react': {'name': 'Parry'}, 'support': {'name': 'Equip Gun'}, 'move': {'name': 'Levitate'}}, 'equipment': [{'name': 'Bestiary'}, {'name': 'Madlemgen'}, {'name': 'Leather Hat'}, {'name': 'Chain Vest'}, {'name': 'Reflect Ring'}]}]}, {'tournamentId': 'tournament_1585272319005', 'teamName': 'purple', 'units': [{'name': 'HaplessOne', 'gender': 'Male', 'brave': '54', 'zodiac': 'Aries', 'faith': '55', 'tournamentId': 'tournament_1585272319005', 'teamName': 'purple', 'class': {'name': 'Monk', 'gender': 'Male'}, 'abilities': {'mainActive': {'name': 'Punch Art', 'learned': [{'name': 'Purification'}, {'name': 'Pummel'}, {'name': 'Revive'}, {'name': 'Seal Evil'}, {'name': 'Wave Fist'}]}, 'subActive': {'name': 'Yin Yang Magic', 'learned': [{'name': 'Blind Rage'}, {'name': 'Dispel Magic'}, {'name': 'Paralyze'}, {'name': 'Petrify'}]}, 'react': {'name': 'Counter Tackle'}, 'support': {'name': 'Magic Defense UP'}, 'move': {'name': 'Lava Walking'}}, 'equipment': [{'name': 'Golden Hairpin'}, {'name': 'Judo Outfit'}, {'name': 'Bracer'}]}, {'name': 'Tyerenex', 'gender': 'Female', 'brave': '56', 'zodiac': 'Aquarius', 'faith': '48', 'tournamentId': 'tournament_1585272319005', 'teamName': 'purple', 'class': {'name': 'Mime', 'gender': 'Female'}, 'abilities': {'mainActive': {'name': 'Mimic', 'learned': [{'name': 'Mimic'}]}, 'subActive': {'name': '', 'learned': []}, 'react': {'name': 'Counter'}, 'support': {'name': 'Magic Defense UP'}, 'move': {'name': 'Jump+3'}}, 'equipment': [{'name': 'Leather Hat'}, {'name': 'Chain Vest'}, {'name': 'Bracer'}]}, {'name': 'Sairentozon7', 'gender': 'Male', 'brave': '73', 'zodiac': 'Gemini', 'faith': '64', 'tournamentId': 'tournament_1585272319005', 'teamName': 'purple', 'class': {'name': 'Bard', 'gender': 'Male'}, 'abilities': {'mainActive': {'name': 'Sing', 'learned': [{'name': 'Battle Song'}, {'name': 'Nameless Song'}, {'name': 'Space Storage'}]}, 'subActive': {'name': 'White Magic', 'learned': [{'name': 'Cure 4'}, {'name': 'Raise'}, {'name': 'Reraise'}, {'name': 'Esuna'}, {'name': 'Shell 2'}, {'name': 'Cure'}, {'name': 'Regen'}]}, 'react': {'name': 'Counter Magic'}, 'support': {'name': 'Equip Gun'}, 'move': {'name': 'Waterbreathing'}}, 'equipment': [{'name': 'Romanda Gun'}, {'name': 'Golden Hairpin'}, {'name': 'Chain Vest'}, {'name': 'Power Wrist'}]}, {'name': 'Cryptopsy70', 'gender': 'Female', 'brave': '48', 'zodiac': 'Serpentarius', 'faith': '71', 'tournamentId': 'tournament_1585272319005', 'teamName': 'purple', 'class': {'name': 'Ninja', 'gender': 'Female'}, 'abilities': {'mainActive': {'name': 'Throw', 'learned': [{'name': 'Shuriken'}, {'name': 'Staff'}]}, 'subActive': {'name': 'Talk Skill', 'learned': [{'name': 'Persuade'}, {'name': 'Threaten'}, {'name': 'Rehabilitate'}, {'name': 'Mimic Daravon'}, {'name': 'Solution'}, {'name': 'Invitation'}, {'name': 'Preach'}]}, 'react': {'name': 'Regenerator'}, 'support': {'name': 'Attack UP'}, 'move': {'name': 'Ignore Terrain'}}, 'equipment': [{'name': 'Ninja Edge'}, {'name': 'Sasuke Knife'}, {'name': 'Golden Hairpin'}, {'name': 'Leather Outfit'}, {'name': 'Leather Mantle'}]}]}, {'tournamentId': 'tournament_1585272319005', 'teamName': 'brown', 'units': [{'name': 'YaBoy125', 'gender': 'Male', 'brave': '40', 'zodiac': 'Taurus', 'faith': '69', 'tournamentId': 'tournament_1585272319005', 'teamName': 'brown', 'class': {'name': 'Knight', 'gender': 'Male'}, 'abilities': {'mainActive': {'name': 'Battle Skill', 'learned': [{'name': 'Armor Break'}, {'name': 'Speed Break'}, {'name': 'Power Break'}, {'name': 'Dark Sword'}]}, 'subActive': {'name': 'Throw', 'learned': [{'name': 'Shuriken'}]}, 'react': {'name': 'Brave Up'}, 'support': {'name': 'Doublehand'}, 'move': {'name': 'Ignore Terrain'}}, 'equipment': [{'name': 'Save the Queen'}, {'name': 'Genji Helmet'}, {'name': 'Bronze Armor'}, {'name': 'Setiemson'}]}, {'name': 'Zeroroute', 'gender': 'Female', 'brave': '65', 'zodiac': 'Scorpio', 'faith': '56', 'tournamentId': 'tournament_1585272319005', 'teamName': 'brown', 'class': {'name': 'Calculator', 'gender': 'Female'}, 'abilities': {'mainActive': {'name': 'Math Skill', 'learned': [{'name': '3'}, {'name': '5'}, {'name': 'CT'}]}, 'subActive': {'name': 'White Magic', 'learned': [{'name': 'Reraise'}, {'name': 'Raise 2'}, {'name': 'Cure 3'}, {'name': 'Raise'}, {'name': 'Cure 2'}, {'name': 'Esuna'}, {'name': 'Shell'}]}, 'react': {'name': 'Parry'}, 'support': {'name': 'Magic Attack UP'}, 'move': {'name': 'Jump+1'}}, 'equipment': [{'name': 'Papyrus Codex'}, {'name': 'Golden Hairpin'}, {'name': 'Silk Robe'}, {'name': 'Feather Boots'}]}, {'name': 'Dantetouhou', 'gender': 'Monster', 'brave': '56', 'zodiac': 'Capricorn', 'faith': '73', 'tournamentId': 'tournament_1585272319005', 'teamName': 'brown', 'class': {'name': 'DarkBehemoth', 'gender': 'Monster'}, 'abilities': {}, 'equipment': []}, {'name': 'AM3P Batman', 'gender': 'Male', 'brave': '58', 'zodiac': 'Gemini', 'faith': '55', 'tournamentId': 'tournament_1585272319005', 'teamName': 'brown', 'class': {'name': 'Geomancer', 'gender': 'Male'}, 'abilities': {'mainActive': {'name': 'Elemental', 'learned': [{'name': 'Will-O-Wisp'}, {'name': 'Pitfall'}, {'name': 'Water Ball'}, {'name': 'Hell Ivy'}, {'name': 'Hallowed Ground'}, {'name': 'Local Quake'}, {'name': 'Static Shock'}, {'name': 'Sand Storm'}, {'name': 'Lava Ball'}]}, 'subActive': {'name': 'Throw', 'learned': [{'name': 'Sword'}]}, 'react': {'name': 'Meatbone Slash'}, 'support': {'name': 'Long Status'}, 'move': {'name': 'Swim'}}, 'equipment': [{'name': 'Blood Sword'}, {'name': 'Genji Shield'}, {'name': 'Red Hood'}, {'name': 'Mystic Vest'}, {'name': 'N-Kai Armlet'}]}]}, {'tournamentId': 'tournament_1585272319005', 'teamName': 'champion', 'units': [{'name': 'Fallenmagi', 'gender': 'Male', 'brave': '79', 'zodiac': 'Cancer', 'faith': '72', 'tournamentId': 'tournament_1585272319005', 'teamName': 'champion', 'class': {'name': 'Chemist', 'gender': 'Male'}, 'abilities': {'mainActive': {'name': 'Item', 'learned': [{'name': 'Echo Grass'}, {'name': 'Remedy'}, {'name': 'Hi-Ether'}, {'name': 'Antidote'}, {'name': 'Eye Drop'}, {'name': 'Phoenix Down'}]}, 'subActive': {'name': 'Black Magic', 'learned': [{'name': 'Bolt'}, {'name': 'Fire 3'}, {'name': 'Fire'}, {'name': 'Ice 4'}]}, 'react': {'name': 'Faith Up'}, 'support': {'name': 'Equip Shield'}, 'move': {'name': 'Jump+3'}}, 'equipment': [{'name': 'Panther Bag'}, {'name': 'Escutcheon'}, {'name': 'Black Hood'}, {'name': 'Brigandine'}, {'name': 'Dracula Mantle'}]}, {'name': 'CorpusCav', 'gender': 'Female', 'brave': '71', 'zodiac': 'Libra', 'faith': '51', 'tournamentId': 'tournament_1585272319005', 'teamName': 'champion', 'class': {'name': 'Thief', 'gender': 'Female'}, 'abilities': {'mainActive': {'name': 'Steal', 'learned': [{'name': 'Gil Taking'}, {'name': 'Leg Aim'}, {'name': 'Steal Heart'}, {'name': 'Steal Helmet'}, {'name': 'Steal Accessory'}, {'name': 'Steal Status'}]}, 'subActive': {'name': 'Summon Magic', 'learned': [{'name': 'Fairy'}, {'name': 'Carbunkle'}, {'name': 'Silf'}, {'name': 'Odin'}, {'name': 'Leviathan'}, {'name': 'Moogle'}]}, 'react': {'name': 'Caution'}, 'support': {'name': 'Short Status'}, 'move': {'name': 'Move+1'}}, 'equipment': [{'name': 'Hidden Knife'}, {'name': 'Thief Hat'}, {'name': 'Judo Outfit'}, {'name': 'N-Kai Armlet'}]}, {'name': 'YaBoy125', 'gender': 'Monster', 'brave': '76', 'zodiac': 'Taurus', 'faith': '40', 'tournamentId': 'tournament_1585272319005', 'teamName': 'champion', 'class': {'name': 'HolyDragon', 'gender': 'Monster'}, 'abilities': {}, 'equipment': []}, {'name': 'Mirapoix', 'gender': 'Monster', 'brave': '43', 'zodiac': 'Aquarius', 'faith': '47', 'tournamentId': 'tournament_1585272319005', 'teamName': 'champion', 'class': {'name': 'GreatMalboro', 'gender': 'Monster'}, 'abilities': {}, 'equipment': []}]}]}\n",
      "http://mustadio-staging.herokuapp.com/api/tournaments/tournament_1585268958220\n"
     ]
    },
    {
     "name": "stdout",
     "output_type": "stream",
     "text": [
      "{'id': 'tournament_1585268958220', 'teams': [{'tournamentId': 'tournament_1585268958220', 'teamName': 'red', 'units': [{'name': 'Aislingeach', 'gender': 'Female', 'brave': '63', 'zodiac': 'Aquarius', 'faith': '47', 'tournamentId': 'tournament_1585268958220', 'teamName': 'red', 'class': {'name': 'Archer', 'gender': 'Female'}, 'abilities': {'mainActive': {'name': 'Charge', 'learned': [{'name': 'Charge+20'}, {'name': 'Charge+10'}, {'name': 'Charge+1'}, {'name': 'Charge+7'}]}, 'subActive': {'name': 'Punch Art', 'learned': [{'name': 'Purification'}, {'name': 'Revive'}, {'name': 'Chakra'}]}, 'react': {'name': 'Damage Split'}, 'support': {'name': 'Concentrate'}, 'move': {'name': 'Move+2'}}, 'equipment': [{'name': 'Long Bow'}, {'name': 'Holy Miter'}, {'name': 'Mystic Vest'}, {'name': 'Feather Mantle'}]}, {'name': 'Kingchadking', 'gender': 'Male', 'brave': '40', 'zodiac': 'Scorpio', 'faith': '60', 'tournamentId': 'tournament_1585268958220', 'teamName': 'red', 'class': {'name': 'Oracle', 'gender': 'Male'}, 'abilities': {'mainActive': {'name': 'Yin Yang Magic', 'learned': [{'name': 'Blind'}, {'name': 'Life Drain'}, {'name': 'Silence Song'}, {'name': 'Confusion Song'}, {'name': 'Dispel Magic'}, {'name': 'Paralyze'}]}, 'subActive': {'name': 'Talk Skill', 'learned': [{'name': 'Praise'}, {'name': 'Threaten'}, {'name': 'Refute'}]}, 'react': {'name': 'Caution'}, 'support': {'name': 'Equip Axe'}, 'move': {'name': 'Retreat'}}, 'equipment': [{'name': 'Morning Star'}, {'name': 'Black Hood'}, {'name': 'Linen Robe'}, {'name': 'Feather Boots'}]}, {'name': 'Kai Shee', 'gender': 'Male', 'brave': '42', 'zodiac': 'Scorpio', 'faith': '66', 'tournamentId': 'tournament_1585268958220', 'teamName': 'red', 'class': {'name': 'Chemist', 'gender': 'Male'}, 'abilities': {'mainActive': {'name': 'Item', 'learned': [{'name': 'Phoenix Down'}, {'name': \"Maiden's Kiss\"}, {'name': 'Soft'}, {'name': 'Hi-Potion'}, {'name': 'Potion'}, {'name': 'X-Potion'}, {'name': 'Hi-Ether'}, {'name': 'Echo Grass'}]}, 'subActive': {'name': 'Basic Skill', 'learned': [{'name': 'Heal'}, {'name': 'Wish'}]}, 'react': {'name': 'Damage Split'}, 'support': {'name': 'Martial Arts'}, 'move': {'name': 'Move-HP Up'}}, 'equipment': [{'name': 'Stone Gun'}, {'name': 'Triangle Hat'}, {'name': 'Earth Clothes'}, {'name': 'Vanish Mantle'}]}, {'name': 'Powergems', 'gender': 'Monster', 'brave': '57', 'zodiac': 'Taurus', 'faith': '52', 'tournamentId': 'tournament_1585268958220', 'teamName': 'red', 'class': {'name': 'Minotaur', 'gender': 'Monster'}, 'abilities': {}, 'equipment': []}]}, {'tournamentId': 'tournament_1585268958220', 'teamName': 'blue', 'units': [{'name': 'Technominari', 'gender': 'Female', 'brave': '72', 'zodiac': 'Gemini', 'faith': '53', 'tournamentId': 'tournament_1585268958220', 'teamName': 'blue', 'class': {'name': 'Priest', 'gender': 'Female'}, 'abilities': {'mainActive': {'name': 'White Magic', 'learned': [{'name': 'Wall'}, {'name': 'Esuna'}, {'name': 'Cure 3'}, {'name': 'Cure 2'}, {'name': 'Raise'}, {'name': 'Raise 2'}, {'name': 'Protect'}]}, 'subActive': {'name': 'Steal', 'learned': [{'name': 'Steal Heart'}, {'name': 'Steal Weapon'}, {'name': 'Steal Shield'}, {'name': 'Steal Helmet'}, {'name': 'Steal Status'}]}, 'react': {'name': 'Catch'}, 'support': {'name': 'Short Charge'}, 'move': {'name': 'Move+1'}}, 'equipment': [{'name': 'White Staff'}, {'name': 'Flash Hat'}, {'name': 'Brigandine'}, {'name': 'Reflect Ring'}]}, {'name': 'Faplo', 'gender': 'Male', 'brave': '70', 'zodiac': 'Pisces', 'faith': '54', 'tournamentId': 'tournament_1585268958220', 'teamName': 'blue', 'class': {'name': 'Priest', 'gender': 'Male'}, 'abilities': {'mainActive': {'name': 'White Magic', 'learned': [{'name': 'Raise'}, {'name': 'Cure 2'}, {'name': 'Esuna'}]}, 'subActive': {'name': 'Steal', 'learned': [{'name': 'Steal Accessory'}, {'name': 'Steal Shield'}, {'name': 'Leg Aim'}, {'name': 'Gil Taking'}]}, 'react': {'name': 'Speed Save'}, 'support': {'name': 'Defense UP'}, 'move': {'name': 'Jump+2'}}, 'equipment': [{'name': 'Hydra Bag'}, {'name': 'Feather Hat'}, {'name': 'Silk Robe'}, {'name': '108 Gems'}]}, {'name': 'Inzo24', 'gender': 'Female', 'brave': '66', 'zodiac': 'Gemini', 'faith': '62', 'tournamentId': 'tournament_1585268958220', 'teamName': 'blue', 'class': {'name': 'Lancer', 'gender': 'Female'}, 'abilities': {'mainActive': {'name': 'Jump', 'learned': [{'name': 'Level Jump4'}, {'name': 'Vertical Jump6'}]}, 'subActive': {'name': 'Draw Out', 'learned': [{'name': 'Koutetsu'}, {'name': 'Murasame'}]}, 'react': {'name': 'Mana Shield'}, 'support': {'name': 'Short Status'}, 'move': {'name': 'Move-MP Up'}}, 'equipment': [{'name': 'Spear'}, {'name': 'Gold Shield'}, {'name': 'Gold Helmet'}, {'name': 'Linen Cuirass'}, {'name': 'Dracula Mantle'}]}, {'name': 'HaplessOne', 'gender': 'Male', 'brave': '61', 'zodiac': 'Scorpio', 'faith': '46', 'tournamentId': 'tournament_1585268958220', 'teamName': 'blue', 'class': {'name': 'Knight', 'gender': 'Male'}, 'abilities': {'mainActive': {'name': 'Battle Skill', 'learned': [{'name': 'Magic Break'}, {'name': 'Shield Break'}, {'name': 'Speed Break'}, {'name': 'Head Break'}, {'name': 'Weapon Break'}]}, 'subActive': {'name': 'Steal', 'learned': [{'name': 'Steal Shield'}]}, 'react': {'name': 'Arrow Guard'}, 'support': {'name': 'Equip Gun'}, 'move': {'name': 'Move+3'}}, 'equipment': [{'name': 'Blast Gun'}, {'name': 'Ice Shield'}, {'name': 'Circlet'}, {'name': 'Chameleon Robe'}, {'name': 'Elf Mantle'}]}]}, {'tournamentId': 'tournament_1585268958220', 'teamName': 'green', 'units': [{'name': 'AM3P Batman', 'gender': 'Male', 'brave': '48', 'zodiac': 'Capricorn', 'faith': '66', 'tournamentId': 'tournament_1585268958220', 'teamName': 'green', 'class': {'name': 'Geomancer', 'gender': 'Male'}, 'abilities': {'mainActive': {'name': 'Elemental', 'learned': [{'name': 'Blizzard'}, {'name': 'Hell Ivy'}, {'name': 'Water Ball'}, {'name': 'Pitfall'}, {'name': 'Gusty Wind'}, {'name': 'Sand Storm'}, {'name': 'Quicksand'}, {'name': 'Will-O-Wisp'}, {'name': 'Static Shock'}, {'name': 'Hallowed Ground'}]}, 'subActive': {'name': 'Jump', 'learned': [{'name': 'Vertical Jump7'}, {'name': 'Level Jump2'}]}, 'react': {'name': 'Counter'}, 'support': {'name': 'Halve MP'}, 'move': {'name': 'Levitate'}}, 'equipment': [{'name': 'Giant Axe'}, {'name': 'Aegis Shield'}, {'name': 'Headgear'}, {'name': 'Wizard Robe'}, {'name': 'Defense Ring'}]}, {'name': 'Basmal', 'gender': 'Male', 'brave': '40', 'zodiac': 'Sagittarius', 'faith': '60', 'tournamentId': 'tournament_1585268958220', 'teamName': 'green', 'class': {'name': 'Ninja', 'gender': 'Male'}, 'abilities': {'mainActive': {'name': 'Throw', 'learned': [{'name': 'Shuriken'}, {'name': 'Sword'}]}, 'subActive': {'name': 'Punch Art', 'learned': [{'name': 'Spin Fist'}, {'name': 'Pummel'}]}, 'react': {'name': 'Meatbone Slash'}, 'support': {'name': 'Equip Knife'}, 'move': {'name': 'Retreat'}}, 'equipment': [{'name': 'Kunai'}, {'name': 'Ice Rod'}, {'name': 'Flash Hat'}, {'name': 'Earth Clothes'}, {'name': 'Jade Armlet'}]}, {'name': 'Hales Bopp It', 'gender': 'Female', 'brave': '57', 'zodiac': 'Aquarius', 'faith': '56', 'tournamentId': 'tournament_1585268958220', 'teamName': 'green', 'class': {'name': 'TimeMage', 'gender': 'Female'}, 'abilities': {'mainActive': {'name': 'Time Magic', 'learned': [{'name': 'Haste'}, {'name': 'Slow'}, {'name': 'Slow 2'}, {'name': 'Stop'}, {'name': 'Immobilize'}, {'name': 'Reflect'}, {'name': 'Stabilize Time'}]}, 'subActive': {'name': 'Summon Magic', 'learned': [{'name': 'Cyclops'}, {'name': 'Fairy'}, {'name': 'Silf'}, {'name': 'Moogle'}, {'name': 'Golem'}, {'name': 'Bahamut'}]}, 'react': {'name': 'Damage Split'}, 'support': {'name': 'Equip Sword'}, 'move': {'name': 'Move-MP Up'}}, 'equipment': [{'name': 'Ice Brand'}, {'name': 'Flash Hat'}, {'name': 'Chain Vest'}, {'name': 'Wizard Mantle'}]}, {'name': 'Maakur', 'gender': 'Female', 'brave': '58', 'zodiac': 'Libra', 'faith': '53', 'tournamentId': 'tournament_1585268958220', 'teamName': 'green', 'class': {'name': 'TimeMage', 'gender': 'Female'}, 'abilities': {'mainActive': {'name': 'Time Magic', 'learned': [{'name': 'Immobilize'}, {'name': 'Demi 2'}, {'name': 'Reflect'}, {'name': 'Float'}, {'name': 'Haste 2'}, {'name': 'Haste'}, {'name': 'Slow'}, {'name': 'Galaxy Stop'}, {'name': 'Meteor'}]}, 'subActive': {'name': 'Battle Skill', 'learned': [{'name': 'Surging Sword'}, {'name': 'Justice Sword'}, {'name': 'Explosion Sword'}, {'name': 'Magic Break'}, {'name': 'Weapon Break'}, {'name': 'Head Break'}]}, 'react': {'name': 'Arrow Guard'}, 'support': {'name': 'Maintenance'}, 'move': {'name': 'Move-HP Up'}}, 'equipment': [{'name': 'Star Bag'}, {'name': 'Leather Hat'}, {'name': 'Wizard Robe'}, {'name': 'Battle Boots'}]}]}, {'tournamentId': 'tournament_1585268958220', 'teamName': 'yellow', 'units': [{'name': 'Fallenmagi', 'gender': 'Male', 'brave': '79', 'zodiac': 'Cancer', 'faith': '72', 'tournamentId': 'tournament_1585268958220', 'teamName': 'yellow', 'class': {'name': 'Chemist', 'gender': 'Male'}, 'abilities': {'mainActive': {'name': 'Item', 'learned': [{'name': 'Echo Grass'}, {'name': 'Remedy'}, {'name': 'Hi-Ether'}, {'name': 'Antidote'}, {'name': 'Eye Drop'}, {'name': 'Phoenix Down'}]}, 'subActive': {'name': 'Black Magic', 'learned': [{'name': 'Bolt'}, {'name': 'Fire 3'}, {'name': 'Fire'}, {'name': 'Ice 4'}]}, 'react': {'name': 'Faith Up'}, 'support': {'name': 'Equip Shield'}, 'move': {'name': 'Jump+3'}}, 'equipment': [{'name': 'Panther Bag'}, {'name': 'Escutcheon'}, {'name': 'Black Hood'}, {'name': 'Brigandine'}, {'name': 'Dracula Mantle'}]}, {'name': 'CorpusCav', 'gender': 'Female', 'brave': '71', 'zodiac': 'Libra', 'faith': '51', 'tournamentId': 'tournament_1585268958220', 'teamName': 'yellow', 'class': {'name': 'Thief', 'gender': 'Female'}, 'abilities': {'mainActive': {'name': 'Steal', 'learned': [{'name': 'Gil Taking'}, {'name': 'Leg Aim'}, {'name': 'Steal Heart'}, {'name': 'Steal Helmet'}, {'name': 'Steal Accessory'}, {'name': 'Steal Status'}]}, 'subActive': {'name': 'Summon Magic', 'learned': [{'name': 'Fairy'}, {'name': 'Carbunkle'}, {'name': 'Silf'}, {'name': 'Odin'}, {'name': 'Leviathan'}, {'name': 'Moogle'}]}, 'react': {'name': 'Caution'}, 'support': {'name': 'Short Status'}, 'move': {'name': 'Move+1'}}, 'equipment': [{'name': 'Hidden Knife'}, {'name': 'Thief Hat'}, {'name': 'Judo Outfit'}, {'name': 'N-Kai Armlet'}]}, {'name': 'YaBoy125', 'gender': 'Monster', 'brave': '76', 'zodiac': 'Taurus', 'faith': '40', 'tournamentId': 'tournament_1585268958220', 'teamName': 'yellow', 'class': {'name': 'HolyDragon', 'gender': 'Monster'}, 'abilities': {}, 'equipment': []}, {'name': 'Mirapoix', 'gender': 'Monster', 'brave': '43', 'zodiac': 'Aquarius', 'faith': '47', 'tournamentId': 'tournament_1585268958220', 'teamName': 'yellow', 'class': {'name': 'GreatMalboro', 'gender': 'Monster'}, 'abilities': {}, 'equipment': []}]}, {'tournamentId': 'tournament_1585268958220', 'teamName': 'white', 'units': [{'name': 'JonnyCue', 'gender': 'Male', 'brave': '56', 'zodiac': 'Gemini', 'faith': '50', 'tournamentId': 'tournament_1585268958220', 'teamName': 'white', 'class': {'name': 'Monk', 'gender': 'Male'}, 'abilities': {'mainActive': {'name': 'Punch Art', 'learned': [{'name': 'Purification'}, {'name': 'Revive'}, {'name': 'Wave Fist'}]}, 'subActive': {'name': 'Battle Skill', 'learned': [{'name': 'Power Break'}, {'name': 'Mind Break'}, {'name': 'Dark Sword'}, {'name': 'Shield Break'}, {'name': 'Weapon Break'}]}, 'react': {'name': 'Parry'}, 'support': {'name': 'Equip Polearm'}, 'move': {'name': 'Move+1'}}, 'equipment': [{'name': 'Battle Bamboo'}, {'name': 'Feather Hat'}, {'name': 'Leather Outfit'}, {'name': 'Wizard Mantle'}]}, {'name': 'Zeroroute', 'gender': 'Monster', 'brave': '74', 'zodiac': 'Aries', 'faith': '70', 'tournamentId': 'tournament_1585268958220', 'teamName': 'white', 'class': {'name': 'RedChocobo', 'gender': 'Monster'}, 'abilities': {}, 'equipment': []}, {'name': 'ZephyrTempest', 'gender': 'Female', 'brave': '60', 'zodiac': 'Capricorn', 'faith': '60', 'tournamentId': 'tournament_1585268958220', 'teamName': 'white', 'class': {'name': 'Geomancer', 'gender': 'Female'}, 'abilities': {'mainActive': {'name': 'Elemental', 'learned': [{'name': 'Pitfall'}, {'name': 'Water Ball'}, {'name': 'Hell Ivy'}, {'name': 'Hallowed Ground'}, {'name': 'Static Shock'}, {'name': 'Sand Storm'}, {'name': 'Blizzard'}, {'name': 'Gusty Wind'}, {'name': 'Lava Ball'}]}, 'subActive': {'name': 'Item', 'learned': [{'name': 'Holy Water'}, {'name': 'Potion'}, {'name': 'Hi-Potion'}, {'name': 'X-Potion'}, {'name': 'Phoenix Down'}]}, 'react': {'name': 'Arrow Guard'}, 'support': {'name': 'Maintenance'}, 'move': {'name': 'Retreat'}}, 'equipment': [{'name': 'Slasher'}, {'name': 'Flame Shield'}, {'name': 'Red Hood'}, {'name': 'Judo Outfit'}, {'name': 'Rubber Shoes'}]}, {'name': 'Samtimemc', 'gender': 'Male', 'brave': '75', 'zodiac': 'Libra', 'faith': '67', 'tournamentId': 'tournament_1585268958220', 'teamName': 'white', 'class': {'name': 'Monk', 'gender': 'Male'}, 'abilities': {'mainActive': {'name': 'Punch Art', 'learned': [{'name': 'Seal Evil'}, {'name': 'Purification'}, {'name': 'Secret Fist'}, {'name': 'Pummel'}, {'name': 'Spin Fist'}, {'name': 'Revive'}]}, 'subActive': {'name': 'Jump', 'learned': [{'name': 'Vertical Jump8'}, {'name': 'Level Jump4'}]}, 'react': {'name': 'Arrow Guard'}, 'support': {'name': 'Concentrate'}, 'move': {'name': 'Jump+2'}}, 'equipment': [{'name': 'Golden Hairpin'}, {'name': 'Judo Outfit'}, {'name': 'Sprint Shoes'}]}]}, {'tournamentId': 'tournament_1585268958220', 'teamName': 'black', 'units': [{'name': 'RunicMagus', 'gender': 'Female', 'brave': '43', 'zodiac': 'Gemini', 'faith': '63', 'tournamentId': 'tournament_1585268958220', 'teamName': 'black', 'class': {'name': 'Mime', 'gender': 'Female'}, 'abilities': {'mainActive': {'name': 'Mimic', 'learned': [{'name': 'Mimic'}]}, 'subActive': {'name': '', 'learned': []}, 'react': {'name': 'Absorb Used MP'}, 'support': {'name': 'Defense UP'}, 'move': {'name': 'Jump+3'}}, 'equipment': [{'name': 'Flash Hat'}, {'name': 'Brigandine'}, {'name': 'Vanish Mantle'}]}, {'name': 'Volgrathemoose', 'gender': 'Female', 'brave': '61', 'zodiac': 'Taurus', 'faith': '67', 'tournamentId': 'tournament_1585268958220', 'teamName': 'black', 'class': {'name': 'Ninja', 'gender': 'Female'}, 'abilities': {'mainActive': {'name': 'Throw', 'learned': [{'name': 'Shuriken'}, {'name': 'Dictionary'}]}, 'subActive': {'name': 'Summon Magic', 'learned': [{'name': 'Titan'}, {'name': 'Fairy'}, {'name': 'Carbunkle'}, {'name': 'Leviathan'}, {'name': 'Lich'}, {'name': 'Salamander'}, {'name': 'Odin'}]}, 'react': {'name': 'MP Restore'}, 'support': {'name': 'Equip Gun'}, 'move': {'name': 'Ignore Terrain'}}, 'equipment': [{'name': 'Papyrus Codex'}, {'name': 'Battle Folio'}, {'name': 'Leather Hat'}, {'name': 'Black Costume'}, {'name': '108 Gems'}]}, {'name': 'Bad1dea', 'gender': 'Female', 'brave': '51', 'zodiac': 'Libra', 'faith': '61', 'tournamentId': 'tournament_1585268958220', 'teamName': 'black', 'class': {'name': 'Squire', 'gender': 'Female'}, 'abilities': {'mainActive': {'name': 'Basic Skill', 'learned': [{'name': 'Accumulate'}, {'name': 'Heal'}, {'name': 'Fury'}]}, 'subActive': {'name': 'Elemental', 'learned': [{'name': 'Will-O-Wisp'}, {'name': 'Lava Ball'}, {'name': 'Static Shock'}, {'name': 'Blizzard'}, {'name': 'Water Ball'}, {'name': 'Sand Storm'}, {'name': 'Quicksand'}, {'name': 'Pitfall'}]}, 'react': {'name': 'Speed Save'}, 'support': {'name': 'Concentrate'}, 'move': {'name': 'Ignore Terrain'}}, 'equipment': [{'name': 'Night Killer'}, {'name': 'Bronze Shield'}, {'name': 'Black Hood'}, {'name': 'Crystal Mail'}, {'name': 'Germinas Boots'}]}, {'name': 'Chuckolator', 'gender': 'Female', 'brave': '60', 'zodiac': 'Scorpio', 'faith': '78', 'tournamentId': 'tournament_1585268958220', 'teamName': 'black', 'class': {'name': 'Monk', 'gender': 'Female'}, 'abilities': {'mainActive': {'name': 'Punch Art', 'learned': [{'name': 'Secret Fist'}, {'name': 'Seal Evil'}]}, 'subActive': {'name': 'Basic Skill', 'learned': [{'name': 'Heal'}, {'name': 'Scream'}, {'name': 'Accumulate'}, {'name': 'Tickle'}, {'name': 'Cheer Up'}]}, 'react': {'name': 'Counter Tackle'}, 'support': {'name': 'Equip Polearm'}, 'move': {'name': 'Move+3'}}, 'equipment': [{'name': 'Musk Rod'}, {'name': 'Holy Miter'}, {'name': 'Leather Outfit'}, {'name': 'Leather Mantle'}]}]}, {'tournamentId': 'tournament_1585268958220', 'teamName': 'purple', 'units': [{'name': 'ANFz', 'gender': 'Male', 'brave': '80', 'zodiac': 'Cancer', 'faith': '40', 'tournamentId': 'tournament_1585268958220', 'teamName': 'purple', 'class': {'name': 'Geomancer', 'gender': 'Male'}, 'abilities': {'mainActive': {'name': 'Elemental', 'learned': [{'name': 'Static Shock'}, {'name': 'Local Quake'}, {'name': 'Hallowed Ground'}, {'name': 'Water Ball'}, {'name': 'Lava Ball'}, {'name': 'Gusty Wind'}, {'name': 'Blizzard'}, {'name': 'Sand Storm'}, {'name': 'Quicksand'}, {'name': 'Pitfall'}, {'name': 'Hell Ivy'}, {'name': 'Will-O-Wisp'}]}, 'subActive': {'name': 'Item', 'learned': [{'name': 'Phoenix Down'}, {'name': 'Soft'}, {'name': 'Antidote'}, {'name': 'Ether'}]}, 'react': {'name': 'MP Restore'}, 'support': {'name': 'Defend'}, 'move': {'name': 'Move+2'}}, 'equipment': [{'name': 'Slasher'}, {'name': 'Bronze Shield'}, {'name': 'Feather Hat'}, {'name': 'Black Robe'}, {'name': 'Defense Ring'}]}, {'name': 'Dreadnxught', 'gender': 'Female', 'brave': '41', 'zodiac': 'Sagittarius', 'faith': '53', 'tournamentId': 'tournament_1585268958220', 'teamName': 'purple', 'class': {'name': 'Geomancer', 'gender': 'Female'}, 'abilities': {'mainActive': {'name': 'Elemental', 'learned': [{'name': 'Pitfall'}, {'name': 'Gusty Wind'}, {'name': 'Quicksand'}, {'name': 'Sand Storm'}, {'name': 'Lava Ball'}, {'name': 'Water Ball'}, {'name': 'Hallowed Ground'}, {'name': 'Local Quake'}, {'name': 'Static Shock'}, {'name': 'Blizzard'}, {'name': 'Will-O-Wisp'}]}, 'subActive': {'name': 'Battle Skill', 'learned': [{'name': 'Explosion Sword'}, {'name': 'Surging Sword'}, {'name': 'Magic Break'}, {'name': 'Weapon Break'}, {'name': 'Shield Break'}, {'name': 'Armor Break'}, {'name': 'Head Break'}]}, 'react': {'name': 'Parry'}, 'support': {'name': 'Beastmaster'}, 'move': {'name': 'Move+2'}}, 'equipment': [{'name': 'Giant Axe'}, {'name': 'Buckler'}, {'name': 'Thief Hat'}, {'name': 'Mystic Vest'}, {'name': 'Spike Shoes'}]}, {'name': 'Alrightbye', 'gender': 'Female', 'brave': '45', 'zodiac': 'Aries', 'faith': '71', 'tournamentId': 'tournament_1585268958220', 'teamName': 'purple', 'class': {'name': 'Geomancer', 'gender': 'Female'}, 'abilities': {'mainActive': {'name': 'Elemental', 'learned': [{'name': 'Quicksand'}, {'name': 'Lava Ball'}, {'name': 'Pitfall'}, {'name': 'Hallowed Ground'}, {'name': 'Water Ball'}, {'name': 'Static Shock'}, {'name': 'Gusty Wind'}, {'name': 'Hell Ivy'}, {'name': 'Sand Storm'}]}, 'subActive': {'name': 'Throw', 'learned': [{'name': 'Shuriken'}]}, 'react': {'name': 'Counter Magic'}, 'support': {'name': 'Secret Hunt'}, 'move': {'name': 'Levitate'}}, 'equipment': [{'name': 'Battle Axe'}, {'name': 'Escutcheon'}, {'name': 'Feather Hat'}, {'name': 'Chain Vest'}, {'name': 'Genji Gauntlet'}]}, {'name': 'MrDiggs49', 'gender': 'Monster', 'brave': '75', 'zodiac': 'Pisces', 'faith': '71', 'tournamentId': 'tournament_1585268958220', 'teamName': 'purple', 'class': {'name': 'HolyDragon', 'gender': 'Monster'}, 'abilities': {}, 'equipment': []}]}, {'tournamentId': 'tournament_1585268958220', 'teamName': 'brown', 'units': [{'name': 'Purpleyoshii', 'gender': 'Female', 'brave': '58', 'zodiac': 'Gemini', 'faith': '73', 'tournamentId': 'tournament_1585268958220', 'teamName': 'brown', 'class': {'name': 'Calculator', 'gender': 'Female'}, 'abilities': {'mainActive': {'name': 'Math Skill', 'learned': [{'name': 'Blue Magic'}]}, 'subActive': {'name': 'Bio', 'learned': [{'name': 'Bio Immortuos'}, {'name': 'Bio Insanis'}, {'name': 'Bio Lapis'}, {'name': 'Bio Venenum'}, {'name': 'Bio Mortem'}, {'name': 'Bio Oleum'}, {'name': 'Bio Silentium'}, {'name': 'Bio Ranae'}, {'name': 'Bio Tenebris'}, {'name': 'Bio Sanctus'}]}, 'react': {'name': 'Counter'}, 'support': {'name': 'Equip Polearm'}, 'move': {'name': 'Levitate'}}, 'equipment': [{'name': 'Mythril Spear'}, {'name': 'Bronze Shield'}, {'name': 'Genji Helmet'}, {'name': 'Wizard Outfit'}, {'name': 'Feather Mantle'}]}, {'name': 'Laserman1000', 'gender': 'Monster', 'brave': '53', 'zodiac': 'Pisces', 'faith': '71', 'tournamentId': 'tournament_1585268958220', 'teamName': 'brown', 'class': {'name': 'Chocobo', 'gender': 'Monster'}, 'abilities': {}, 'equipment': []}, {'name': 'TheKillerNacho', 'gender': 'Male', 'brave': '66', 'zodiac': 'Capricorn', 'faith': '74', 'tournamentId': 'tournament_1585268958220', 'teamName': 'brown', 'class': {'name': 'Monk', 'gender': 'Male'}, 'abilities': {'mainActive': {'name': 'Punch Art', 'learned': [{'name': 'Spin Fist'}, {'name': 'Pummel'}, {'name': 'Chakra'}, {'name': 'Revive'}]}, 'subActive': {'name': 'Sing', 'learned': [{'name': 'Space Storage'}, {'name': 'Angel Song'}, {'name': 'Life Song'}, {'name': 'Battle Song'}, {'name': 'Nameless Song'}]}, 'react': {'name': 'Earplug'}, 'support': {'name': 'Beastmaster'}, 'move': {'name': 'Lava Walking'}}, 'equipment': [{'name': 'Black Hood'}, {'name': 'Chain Vest'}, {'name': 'Wizard Mantle'}]}, {'name': 'SpaZmodeus', 'gender': 'Male', 'brave': '82', 'zodiac': 'Aquarius', 'faith': '67', 'tournamentId': 'tournament_1585268958220', 'teamName': 'brown', 'class': {'name': 'Summoner', 'gender': 'Male'}, 'abilities': {'mainActive': {'name': 'Summon Magic', 'learned': [{'name': 'Moogle'}, {'name': 'Carbunkle'}, {'name': 'Fairy'}, {'name': 'Salamander'}, {'name': 'Golem'}, {'name': 'Ifrit'}]}, 'subActive': {'name': 'Basic Skill', 'learned': [{'name': 'Cheer Up'}, {'name': 'Fury'}, {'name': 'Throw Stone'}, {'name': 'Heal'}, {'name': 'Yell'}, {'name': 'Wish'}]}, 'react': {'name': 'Distribute'}, 'support': {'name': 'Equip Bow'}, 'move': {'name': 'Move-HP Up'}}, 'equipment': [{'name': 'Ultimus Bow'}, {'name': 'Flash Hat'}, {'name': 'Silk Robe'}, {'name': 'Defense Ring'}]}]}, {'tournamentId': 'tournament_1585268958220', 'teamName': 'champion', 'units': [{'name': 'Rubenflonne', 'gender': 'Female', 'brave': '54', 'zodiac': 'Leo', 'faith': '56', 'tournamentId': 'tournament_1585268958220', 'teamName': 'champion', 'class': {'name': 'Wizard', 'gender': 'Female'}, 'abilities': {'mainActive': {'name': 'Black Magic', 'learned': [{'name': 'Death'}, {'name': 'Fire 4'}, {'name': 'Bolt 2'}, {'name': 'Ice'}, {'name': 'Fire 2'}, {'name': 'Ice 2'}, {'name': 'Ice 4'}, {'name': 'Fire 3'}]}, 'subActive': {'name': 'Battle Skill', 'learned': [{'name': 'Mind Break'}, {'name': 'Head Break'}, {'name': 'Armor Break'}, {'name': 'Shield Break'}, {'name': 'Justice Sword'}, {'name': 'Speed Break'}, {'name': 'Magic Break'}, {'name': 'Weapon Break'}]}, 'react': {'name': 'MA Save'}, 'support': {'name': 'Short Charge'}, 'move': {'name': 'Ignore Terrain'}}, 'equipment': [{'name': 'Ice Rod'}, {'name': 'Triangle Hat'}, {'name': 'White Robe'}, {'name': 'Genji Gauntlet'}]}, {'name': 'Technominari', 'gender': 'Female', 'brave': '53', 'zodiac': 'Leo', 'faith': '79', 'tournamentId': 'tournament_1585268958220', 'teamName': 'champion', 'class': {'name': 'Priest', 'gender': 'Female'}, 'abilities': {'mainActive': {'name': 'White Magic', 'learned': [{'name': 'Protect'}, {'name': 'Raise'}, {'name': 'Cure 4'}, {'name': 'Esuna'}, {'name': 'Cure'}, {'name': 'Cure 2'}]}, 'subActive': {'name': 'Draw Out', 'learned': [{'name': 'Murasame'}, {'name': 'Kikuichimoji'}, {'name': \"Heaven's Cloud\"}]}, 'react': {'name': 'MA Save'}, 'support': {'name': 'Concentrate'}, 'move': {'name': 'Waterwalking'}}, 'equipment': [{'name': 'Healing Staff'}, {'name': 'Ribbon'}, {'name': 'Leather Outfit'}, {'name': 'Diamond Armlet'}]}, {'name': 'HaplessOne', 'gender': 'Female', 'brave': '64', 'zodiac': 'Libra', 'faith': '66', 'tournamentId': 'tournament_1585268958220', 'teamName': 'champion', 'class': {'name': 'Oracle', 'gender': 'Female'}, 'abilities': {'mainActive': {'name': 'Yin Yang Magic', 'learned': [{'name': 'Life Drain'}, {'name': 'Blind Rage'}, {'name': 'Confusion Song'}, {'name': 'Dispel Magic'}, {'name': 'Sleep'}, {'name': 'Dark Holy'}]}, 'subActive': {'name': 'Time Magic', 'learned': [{'name': 'Quick'}, {'name': 'Reflect'}, {'name': 'Stabilize Time'}, {'name': 'Haste'}, {'name': 'Float'}]}, 'react': {'name': 'Damage Split'}, 'support': {'name': 'Doublehand'}, 'move': {'name': 'Move+1'}}, 'equipment': [{'name': 'Ivory Rod'}, {'name': 'Flash Hat'}, {'name': 'Wizard Outfit'}, {'name': 'Bracer'}]}, {'name': 'Blain Cooper', 'gender': 'Female', 'brave': '69', 'zodiac': 'Libra', 'faith': '57', 'tournamentId': 'tournament_1585268958220', 'teamName': 'champion', 'class': {'name': 'Knight', 'gender': 'Female'}, 'abilities': {'mainActive': {'name': 'Battle Skill', 'learned': [{'name': 'Head Break'}, {'name': 'Magic Break'}, {'name': 'Speed Break'}, {'name': 'Shield Break'}, {'name': 'Weapon Break'}]}, 'subActive': {'name': 'Charge', 'learned': [{'name': 'Charge+10'}, {'name': 'Charge+7'}, {'name': 'Charge+5'}, {'name': 'Charge+1'}]}, 'react': {'name': 'Absorb Used MP'}, 'support': {'name': 'Dual Wield'}, 'move': {'name': 'Move-HP Up'}}, 'equipment': [{'name': 'Defender'}, {'name': 'Giant Axe'}, {'name': 'Platinum Helmet'}, {'name': 'Genji Armor'}, {'name': 'Feather Mantle'}]}]}]}\n",
      "http://mustadio-staging.herokuapp.com/api/tournaments/tournament_1585265825270\n"
     ]
    },
    {
     "ename": "JSONDecodeError",
     "evalue": "Expecting value: line 1 column 1 (char 0)",
     "output_type": "error",
     "traceback": [
      "\u001b[0;31m---------------------------------------------------------------------------\u001b[0m",
      "\u001b[0;31mJSONDecodeError\u001b[0m                           Traceback (most recent call last)",
      "\u001b[0;32m<ipython-input-8-3f86d1ef2f6d>\u001b[0m in \u001b[0;36m<module>\u001b[0;34m()\u001b[0m\n\u001b[1;32m      8\u001b[0m     \u001b[0mprint\u001b[0m\u001b[0;34m(\u001b[0m\u001b[0munit_url\u001b[0m\u001b[0;34m)\u001b[0m\u001b[0;34m\u001b[0m\u001b[0;34m\u001b[0m\u001b[0m\n\u001b[1;32m      9\u001b[0m     \u001b[0mr\u001b[0m \u001b[0;34m=\u001b[0m \u001b[0mrequests\u001b[0m\u001b[0;34m.\u001b[0m\u001b[0mget\u001b[0m\u001b[0;34m(\u001b[0m\u001b[0murl\u001b[0m\u001b[0;34m=\u001b[0m\u001b[0munit_url\u001b[0m\u001b[0;34m,\u001b[0m \u001b[0mparams\u001b[0m\u001b[0;34m=\u001b[0m\u001b[0;34m{\u001b[0m\u001b[0;34m}\u001b[0m\u001b[0;34m)\u001b[0m\u001b[0;34m\u001b[0m\u001b[0;34m\u001b[0m\u001b[0m\n\u001b[0;32m---> 10\u001b[0;31m     \u001b[0mprint\u001b[0m\u001b[0;34m(\u001b[0m\u001b[0mr\u001b[0m\u001b[0;34m.\u001b[0m\u001b[0mjson\u001b[0m\u001b[0;34m(\u001b[0m\u001b[0;34m)\u001b[0m\u001b[0;34m)\u001b[0m\u001b[0;34m\u001b[0m\u001b[0;34m\u001b[0m\u001b[0m\n\u001b[0m",
      "\u001b[0;32m~/.local/lib/python3.6/site-packages/requests/models.py\u001b[0m in \u001b[0;36mjson\u001b[0;34m(self, **kwargs)\u001b[0m\n\u001b[1;32m    895\u001b[0m                     \u001b[0;31m# used.\u001b[0m\u001b[0;34m\u001b[0m\u001b[0;34m\u001b[0m\u001b[0;34m\u001b[0m\u001b[0m\n\u001b[1;32m    896\u001b[0m                     \u001b[0;32mpass\u001b[0m\u001b[0;34m\u001b[0m\u001b[0;34m\u001b[0m\u001b[0m\n\u001b[0;32m--> 897\u001b[0;31m         \u001b[0;32mreturn\u001b[0m \u001b[0mcomplexjson\u001b[0m\u001b[0;34m.\u001b[0m\u001b[0mloads\u001b[0m\u001b[0;34m(\u001b[0m\u001b[0mself\u001b[0m\u001b[0;34m.\u001b[0m\u001b[0mtext\u001b[0m\u001b[0;34m,\u001b[0m \u001b[0;34m**\u001b[0m\u001b[0mkwargs\u001b[0m\u001b[0;34m)\u001b[0m\u001b[0;34m\u001b[0m\u001b[0;34m\u001b[0m\u001b[0m\n\u001b[0m\u001b[1;32m    898\u001b[0m \u001b[0;34m\u001b[0m\u001b[0m\n\u001b[1;32m    899\u001b[0m     \u001b[0;34m@\u001b[0m\u001b[0mproperty\u001b[0m\u001b[0;34m\u001b[0m\u001b[0;34m\u001b[0m\u001b[0m\n",
      "\u001b[0;32m/usr/lib/python3.6/json/__init__.py\u001b[0m in \u001b[0;36mloads\u001b[0;34m(s, encoding, cls, object_hook, parse_float, parse_int, parse_constant, object_pairs_hook, **kw)\u001b[0m\n\u001b[1;32m    352\u001b[0m             \u001b[0mparse_int\u001b[0m \u001b[0;32mis\u001b[0m \u001b[0;32mNone\u001b[0m \u001b[0;32mand\u001b[0m \u001b[0mparse_float\u001b[0m \u001b[0;32mis\u001b[0m \u001b[0;32mNone\u001b[0m \u001b[0;32mand\u001b[0m\u001b[0;34m\u001b[0m\u001b[0;34m\u001b[0m\u001b[0m\n\u001b[1;32m    353\u001b[0m             parse_constant is None and object_pairs_hook is None and not kw):\n\u001b[0;32m--> 354\u001b[0;31m         \u001b[0;32mreturn\u001b[0m \u001b[0m_default_decoder\u001b[0m\u001b[0;34m.\u001b[0m\u001b[0mdecode\u001b[0m\u001b[0;34m(\u001b[0m\u001b[0ms\u001b[0m\u001b[0;34m)\u001b[0m\u001b[0;34m\u001b[0m\u001b[0;34m\u001b[0m\u001b[0m\n\u001b[0m\u001b[1;32m    355\u001b[0m     \u001b[0;32mif\u001b[0m \u001b[0mcls\u001b[0m \u001b[0;32mis\u001b[0m \u001b[0;32mNone\u001b[0m\u001b[0;34m:\u001b[0m\u001b[0;34m\u001b[0m\u001b[0;34m\u001b[0m\u001b[0m\n\u001b[1;32m    356\u001b[0m         \u001b[0mcls\u001b[0m \u001b[0;34m=\u001b[0m \u001b[0mJSONDecoder\u001b[0m\u001b[0;34m\u001b[0m\u001b[0;34m\u001b[0m\u001b[0m\n",
      "\u001b[0;32m/usr/lib/python3.6/json/decoder.py\u001b[0m in \u001b[0;36mdecode\u001b[0;34m(self, s, _w)\u001b[0m\n\u001b[1;32m    337\u001b[0m \u001b[0;34m\u001b[0m\u001b[0m\n\u001b[1;32m    338\u001b[0m         \"\"\"\n\u001b[0;32m--> 339\u001b[0;31m         \u001b[0mobj\u001b[0m\u001b[0;34m,\u001b[0m \u001b[0mend\u001b[0m \u001b[0;34m=\u001b[0m \u001b[0mself\u001b[0m\u001b[0;34m.\u001b[0m\u001b[0mraw_decode\u001b[0m\u001b[0;34m(\u001b[0m\u001b[0ms\u001b[0m\u001b[0;34m,\u001b[0m \u001b[0midx\u001b[0m\u001b[0;34m=\u001b[0m\u001b[0m_w\u001b[0m\u001b[0;34m(\u001b[0m\u001b[0ms\u001b[0m\u001b[0;34m,\u001b[0m \u001b[0;36m0\u001b[0m\u001b[0;34m)\u001b[0m\u001b[0;34m.\u001b[0m\u001b[0mend\u001b[0m\u001b[0;34m(\u001b[0m\u001b[0;34m)\u001b[0m\u001b[0;34m)\u001b[0m\u001b[0;34m\u001b[0m\u001b[0;34m\u001b[0m\u001b[0m\n\u001b[0m\u001b[1;32m    340\u001b[0m         \u001b[0mend\u001b[0m \u001b[0;34m=\u001b[0m \u001b[0m_w\u001b[0m\u001b[0;34m(\u001b[0m\u001b[0ms\u001b[0m\u001b[0;34m,\u001b[0m \u001b[0mend\u001b[0m\u001b[0;34m)\u001b[0m\u001b[0;34m.\u001b[0m\u001b[0mend\u001b[0m\u001b[0;34m(\u001b[0m\u001b[0;34m)\u001b[0m\u001b[0;34m\u001b[0m\u001b[0;34m\u001b[0m\u001b[0m\n\u001b[1;32m    341\u001b[0m         \u001b[0;32mif\u001b[0m \u001b[0mend\u001b[0m \u001b[0;34m!=\u001b[0m \u001b[0mlen\u001b[0m\u001b[0;34m(\u001b[0m\u001b[0ms\u001b[0m\u001b[0;34m)\u001b[0m\u001b[0;34m:\u001b[0m\u001b[0;34m\u001b[0m\u001b[0;34m\u001b[0m\u001b[0m\n",
      "\u001b[0;32m/usr/lib/python3.6/json/decoder.py\u001b[0m in \u001b[0;36mraw_decode\u001b[0;34m(self, s, idx)\u001b[0m\n\u001b[1;32m    355\u001b[0m             \u001b[0mobj\u001b[0m\u001b[0;34m,\u001b[0m \u001b[0mend\u001b[0m \u001b[0;34m=\u001b[0m \u001b[0mself\u001b[0m\u001b[0;34m.\u001b[0m\u001b[0mscan_once\u001b[0m\u001b[0;34m(\u001b[0m\u001b[0ms\u001b[0m\u001b[0;34m,\u001b[0m \u001b[0midx\u001b[0m\u001b[0;34m)\u001b[0m\u001b[0;34m\u001b[0m\u001b[0;34m\u001b[0m\u001b[0m\n\u001b[1;32m    356\u001b[0m         \u001b[0;32mexcept\u001b[0m \u001b[0mStopIteration\u001b[0m \u001b[0;32mas\u001b[0m \u001b[0merr\u001b[0m\u001b[0;34m:\u001b[0m\u001b[0;34m\u001b[0m\u001b[0;34m\u001b[0m\u001b[0m\n\u001b[0;32m--> 357\u001b[0;31m             \u001b[0;32mraise\u001b[0m \u001b[0mJSONDecodeError\u001b[0m\u001b[0;34m(\u001b[0m\u001b[0;34m\"Expecting value\"\u001b[0m\u001b[0;34m,\u001b[0m \u001b[0ms\u001b[0m\u001b[0;34m,\u001b[0m \u001b[0merr\u001b[0m\u001b[0;34m.\u001b[0m\u001b[0mvalue\u001b[0m\u001b[0;34m)\u001b[0m \u001b[0;32mfrom\u001b[0m \u001b[0;32mNone\u001b[0m\u001b[0;34m\u001b[0m\u001b[0;34m\u001b[0m\u001b[0m\n\u001b[0m\u001b[1;32m    358\u001b[0m         \u001b[0;32mreturn\u001b[0m \u001b[0mobj\u001b[0m\u001b[0;34m,\u001b[0m \u001b[0mend\u001b[0m\u001b[0;34m\u001b[0m\u001b[0;34m\u001b[0m\u001b[0m\n",
      "\u001b[0;31mJSONDecodeError\u001b[0m: Expecting value: line 1 column 1 (char 0)"
     ]
    }
   ],
   "source": [
    "n = 1000\n",
    "params = {\"limit\" : n}\n",
    "r = requests.get(url=tournaments_url, params=params)\n",
    "tournaments = r.json()\n",
    "tournaments[0]\n",
    "for t in tournaments:\n",
    "    unit_url = mustadio_url.format(t[\"ID\"])\n",
    "    print(unit_url)\n",
    "    r = requests.get(url=unit_url, params={})\n",
    "    print(r.json())"
   ]
  },
  {
   "cell_type": "code",
   "execution_count": 91,
   "metadata": {},
   "outputs": [],
   "source": [
    "def get_latest_data(n):\n",
    "    tournaments_url = \"https://fftbg.com/api/tournaments\"\n",
    "    mustadio_url = \"http://mustadio-staging.herokuapp.com/api/tournaments/tournament_{}\"\n",
    "    params = {\"limit\" : n}\n",
    "    r = requests.get(url=tournaments_url, params=params)\n",
    "    tournaments = r.json()\n",
    "    units = []\n",
    "    out_tournaments = []\n",
    "    for t in tournaments:\n",
    "        unit_url = mustadio_url.format(t[\"ID\"])\n",
    "        print(unit_url)\n",
    "        r = requests.get(url=unit_url, params={})\n",
    "        try:\n",
    "            units.append(r.json())\n",
    "            out_tournaments.append(t)\n",
    "        except ValueError as e:\n",
    "            print(\"ValueError\")\n",
    "    return out_tournaments, units"
   ]
  },
  {
   "cell_type": "code",
   "execution_count": 21,
   "metadata": {},
   "outputs": [
    {
     "data": {
      "text/plain": [
       "dict_keys(['Item', 'ItemLastMod', 'Ability', 'AbilityLastMod', 'UserSkill', 'UserSkillLastMod', 'Zodiac', 'ZodiacLastMod', 'Class', 'ClassLastMod', 'MonsterSkills', 'MonsterLastMod'])"
      ]
     },
     "execution_count": 21,
     "metadata": {},
     "output_type": "execute_result"
    }
   ],
   "source": [
    "l.keys()"
   ]
  },
  {
   "cell_type": "code",
   "execution_count": 159,
   "metadata": {},
   "outputs": [],
   "source": [
    "def ungender(classes):\n",
    "    u_classes = set()\n",
    "    for c in classes:\n",
    "        s = c.split(\" \")\n",
    "        if len(s) == 1:\n",
    "            u_classes.add(c)\n",
    "        if len(s) == 2:\n",
    "            u_classes.add(s[0])\n",
    "    return list(u_classes)"
   ]
  },
  {
   "cell_type": "code",
   "execution_count": 191,
   "metadata": {},
   "outputs": [],
   "source": [
    "items = list(l[\"Item\"].keys())\n",
    "abilities = list(l[\"Ability\"].keys())\n",
    "zodiacs = list(l[\"Zodiac\"].keys())\n",
    "classes = list(l[\"Class\"].keys())\n",
    "u_classes = ungender(classes)\n",
    "#print(u_classes)\n",
    "item_tag = \"_item\"\n",
    "ability_tag = \"_ability\"\n",
    "zodiac_tag = \"_zodiac\"\n",
    "i_tag = [i + item_tag for i in items]\n",
    "a_tag = [i + ability_tag for i in abilities]\n",
    "z_tag = [i + zodiac_tag for i in zodiacs]\n",
    "all_attributes = i_tag + a_tag + z_tag + u_classes + [\"Male\", \"Female\", \"Monster\"]\n",
    "# Canonical ordering for one-hot\n",
    "all_attributes_s = sorted(all_attributes)"
   ]
  },
  {
   "cell_type": "code",
   "execution_count": 163,
   "metadata": {},
   "outputs": [
    {
     "data": {
      "text/plain": [
       "814"
      ]
     },
     "execution_count": 163,
     "metadata": {},
     "output_type": "execute_result"
    }
   ],
   "source": [
    "len(all_attributes)"
   ]
  },
  {
   "cell_type": "code",
   "execution_count": null,
   "metadata": {},
   "outputs": [],
   "source": []
  },
  {
   "cell_type": "code",
   "execution_count": 165,
   "metadata": {},
   "outputs": [],
   "source": [
    "# Get an ordering for the attributes (and a reverse mapping)\n",
    "def mk_attrib_order(sorted_attributes):\n",
    "    order = {}\n",
    "    inv_order = {}\n",
    "    for i,a in enumerate(sorted_attributes):\n",
    "        assert a not in order, a\n",
    "        order[a] = i\n",
    "        inv_order[i] = a\n",
    "    return order, inv_order\n",
    "\n",
    "def mk_map_order(maps):\n",
    "    order = {}\n",
    "    inv_order = {}\n",
    "    for m in maps:\n",
    "        map_number, map_name = m.split(\")\")\n",
    "        map_number = int(map_number)\n",
    "        order[m] = map_number\n",
    "        inv_order[map_number] = m\n",
    "    return order, inv_order"
   ]
  },
  {
   "cell_type": "code",
   "execution_count": 193,
   "metadata": {},
   "outputs": [],
   "source": [
    "maps = get_maps()\n",
    "order, inv_order = mk_attrib_order(all_attributes_s)\n",
    "map_order, map_inv_order = mk_map_order(maps)"
   ]
  },
  {
   "cell_type": "code",
   "execution_count": 206,
   "metadata": {},
   "outputs": [],
   "source": [
    "def mk_map_vec(map_name, map_order):\n",
    "    n_maps = len(maps)\n",
    "    v = np.zeros(n_maps)\n",
    "    v[map_order[map_name]] = 1\n",
    "    return v\n",
    "\n",
    "def get_unit_attributes(json):\n",
    "    attributes = []\n",
    "    # Class\n",
    "    attributes.append(json[\"class\"][\"name\"])\n",
    "    #print(json[\"class\"][\"name\"])\n",
    "    # Abilities\n",
    "    abilities = json[\"abilities\"]\n",
    "    if \"mainActive\" in abilities:\n",
    "        for a in abilities[\"mainActive\"][\"learned\"]:\n",
    "            attributes.append(a[\"name\"] + ability_tag)\n",
    "    if \"subActive\" in abilities:\n",
    "        for a in abilities[\"subActive\"][\"learned\"]:\n",
    "            attributes.append(a[\"name\"] + ability_tag)\n",
    "    if \"react\" in abilities:\n",
    "        attributes.append(abilities[\"react\"][\"name\"] + ability_tag)\n",
    "    if \"support\" in abilities:\n",
    "        attributes.append(abilities[\"support\"][\"name\"] + ability_tag)\n",
    "    if \"move\" in abilities:\n",
    "        attributes.append(abilities[\"move\"][\"name\"] + ability_tag)\n",
    "    # Equipment\n",
    "    equipment = json[\"equipment\"]\n",
    "    for e in equipment:\n",
    "        attributes.append(e[\"name\"] + item_tag)\n",
    "    # Zodiac\n",
    "    attributes.append(json[\"zodiac\"] + zodiac_tag)\n",
    "    # Gender\n",
    "    attributes.append(json[\"gender\"])\n",
    "    return attributes\n",
    "\n",
    "# Vector for a unit's data, not a unit vector\n",
    "def mk_unit_vec(unit_json, order):\n",
    "    #print(unit_json)\n",
    "    n_attributes = len(order)\n",
    "    v = np.zeros(n_attributes)\n",
    "    unit_attributes = get_unit_attributes(unit_json)\n",
    "    for a in unit_attributes:\n",
    "        v[order[a]] = 1\n",
    "    # Brave / Faith\n",
    "    bf = np.zeros(2)\n",
    "    brave = int(unit_json[\"brave\"])\n",
    "    faith = int(unit_json[\"faith\"])\n",
    "    return np.concatenate([v, bf])\n",
    "\n",
    "def mk_team_vec(team_json, order):\n",
    "    uvecs = [mk_unit_vec(u, order) for u in team_json[\"units\"]]\n",
    "    # Team vec is (n_attributes x 4)\n",
    "    tvec = np.stack(uvecs, axis=1)\n",
    "    return tvec\n",
    "\n",
    "# Gets the json for the given team name\n",
    "def get_team(team_name, units_json):\n",
    "    return [i for i in units_json[\"teams\"] if i[\"teamName\"] == team_name][0]\n",
    "\n",
    "def mk_match_vec(match, units_json, order, map_order):\n",
    "    t1_s, t2_s, map_name, winner = match\n",
    "    t1_json = get_team(t1_s, units_json)\n",
    "    t2_json = get_team(t2_s, units_json)\n",
    "    t1 = mk_team_vec(t1_json, order)\n",
    "    t2 = mk_team_vec(t2_json, order)\n",
    "    m = mk_map_vec(map_name, map_order)\n",
    "    # Label is based on team order\n",
    "    if winner == t1_s:\n",
    "        w = 0\n",
    "    elif winner == t2_s:\n",
    "        w = 1\n",
    "    else:\n",
    "        assert False, \"NO WINNER!\"\n",
    "    return np.concatenate([t1.flatten(), t2.flatten(), m]), w\n",
    "\n",
    "init_tourney = [\"red\", \"blue\", \"green\", \"yellow\", \"white\", \"black\", \"purple\", \"brown\"]\n",
    "\n",
    "# Returns the matches for a tournament\n",
    "def get_matches(tourney):\n",
    "    matches = []\n",
    "    teams = init_tourney\n",
    "    offset = 0\n",
    "    winners = tourney[\"Winners\"]\n",
    "    maps = tourney[\"Maps\"]\n",
    "    assert len(winners) == 8\n",
    "    assert len(maps) == 8\n",
    "    assert tourney[\"Complete\"]\n",
    "    # Add each of the matches\n",
    "    while len(teams) > 1:\n",
    "        new_teams = []\n",
    "        for i in range(0, len(teams), 2):\n",
    "            t0 = teams[i]\n",
    "            t1 = teams[i+1]\n",
    "            w = winners[offset + (i//2)]\n",
    "            m = maps[offset + (i//2)]\n",
    "            matches.append((t0, t1, m, w))\n",
    "            new_teams.append(w)\n",
    "        offset = offset + (len(teams) // 2)\n",
    "        teams = new_teams\n",
    "    # And the champion match\n",
    "    matches.append((w,\"champion\",maps[-1],winners[-1]))\n",
    "    return matches\n",
    "\n",
    "#TODO: memoize the vectors so that we don't have to build the vectors for each team over and over?\n",
    "def mk_tournament_vecs(tournament_json, units_json, order, map_order):\n",
    "    # AssertionError means either the tournament hasn't finished or something weird happened in the tournament\n",
    "    try:\n",
    "        matches = get_matches(tournament_json)\n",
    "    except AssertionError as e:\n",
    "        return []\n",
    "    return [mk_match_vec(m, units_json, order, map_order) for m in matches]"
   ]
  },
  {
   "cell_type": "code",
   "execution_count": 32,
   "metadata": {},
   "outputs": [
    {
     "data": {
      "text/plain": [
       "{'ID': 1585274941186,\n",
       " 'LastMod': '2020-03-26T23:03:00-07:00',\n",
       " 'Maps': ['60) Underground Book Storage Fourth Floor',\n",
       "  '37) Ruins Outside Zaland',\n",
       "  '40) Slums in Goug',\n",
       "  '59) Underground Book Storage Third Floor',\n",
       "  '109) BRIDGE',\n",
       "  '24) Military Academy Auditorium',\n",
       "  '58) Underground Book Storage Second Floor',\n",
       "  '51) Office of St. Murond Temple'],\n",
       " 'Winners': ['blue',\n",
       "  'green',\n",
       "  'black',\n",
       "  'purple',\n",
       "  'green',\n",
       "  'purple',\n",
       "  'green',\n",
       "  'champion'],\n",
       " 'SkillDrop': 'Swine',\n",
       " 'Complete': True}"
      ]
     },
     "execution_count": 32,
     "metadata": {},
     "output_type": "execute_result"
    }
   ],
   "source": [
    "tournaments[2]\n",
    "#units[1]"
   ]
  },
  {
   "cell_type": "code",
   "execution_count": 54,
   "metadata": {},
   "outputs": [
    {
     "data": {
      "text/plain": [
       "[('red', 'blue', '60) Underground Book Storage Fourth Floor', 'blue'),\n",
       " ('green', 'yellow', '37) Ruins Outside Zaland', 'green'),\n",
       " ('white', 'black', '40) Slums in Goug', 'black'),\n",
       " ('purple', 'brown', '59) Underground Book Storage Third Floor', 'purple'),\n",
       " ('blue', 'green', '109) BRIDGE', 'green'),\n",
       " ('black', 'purple', '24) Military Academy Auditorium', 'purple'),\n",
       " ('green', 'purple', '58) Underground Book Storage Second Floor', 'green'),\n",
       " ('green', 'champion', '51) Office of St. Murond Temple', 'champion')]"
      ]
     },
     "execution_count": 54,
     "metadata": {},
     "output_type": "execute_result"
    }
   ],
   "source": [
    "get_matches(tournaments[2])"
   ]
  },
  {
   "cell_type": "code",
   "execution_count": 88,
   "metadata": {
    "scrolled": true
   },
   "outputs": [
    {
     "name": "stdout",
     "output_type": "stream",
     "text": [
      "http://mustadio-staging.herokuapp.com/api/tournaments/tournament_1585284052779\n",
      "http://mustadio-staging.herokuapp.com/api/tournaments/tournament_1585281512719\n",
      "http://mustadio-staging.herokuapp.com/api/tournaments/tournament_1585278462400\n",
      "http://mustadio-staging.herokuapp.com/api/tournaments/tournament_1585274941186\n",
      "http://mustadio-staging.herokuapp.com/api/tournaments/tournament_1585272319005\n",
      "ValueError\n",
      "http://mustadio-staging.herokuapp.com/api/tournaments/tournament_1585268958220\n",
      "ValueError\n",
      "http://mustadio-staging.herokuapp.com/api/tournaments/tournament_1585265825270\n",
      "ValueError\n",
      "http://mustadio-staging.herokuapp.com/api/tournaments/tournament_1585262638492\n",
      "ValueError\n",
      "http://mustadio-staging.herokuapp.com/api/tournaments/tournament_1585259678226\n",
      "ValueError\n",
      "http://mustadio-staging.herokuapp.com/api/tournaments/tournament_1585256518703\n",
      "ValueError\n"
     ]
    }
   ],
   "source": [
    "tournaments, units = get_latest_data(10)"
   ]
  },
  {
   "cell_type": "code",
   "execution_count": 145,
   "metadata": {},
   "outputs": [],
   "source": [
    "cougboi = units[0][\"teams\"][0][\"units\"][0]"
   ]
  },
  {
   "cell_type": "code",
   "execution_count": 146,
   "metadata": {
    "scrolled": false
   },
   "outputs": [
    {
     "data": {
      "text/plain": [
       "['Raise_ability',\n",
       " 'Esuna_ability',\n",
       " 'Holy_ability',\n",
       " 'Reraise_ability',\n",
       " 'Cure 2_ability',\n",
       " 'Protect_ability',\n",
       " 'Raise 2_ability',\n",
       " 'Protect 2_ability',\n",
       " 'Wall_ability',\n",
       " 'Haste 2_ability',\n",
       " 'Reflect_ability',\n",
       " 'Haste_ability',\n",
       " 'Stop_ability',\n",
       " 'Immobilize_ability',\n",
       " 'Abandon_ability',\n",
       " 'Equip Axe_ability',\n",
       " 'Teleport_ability',\n",
       " 'Morning Star_item',\n",
       " 'Twist Headband_item',\n",
       " 'Silk Robe_item',\n",
       " 'Battle Boots_item',\n",
       " 'Priest',\n",
       " 'Aquarius_zodiac',\n",
       " 'Male']"
      ]
     },
     "execution_count": 146,
     "metadata": {},
     "output_type": "execute_result"
    }
   ],
   "source": [
    "get_unit_attributes(cougboi)"
   ]
  },
  {
   "cell_type": "code",
   "execution_count": 207,
   "metadata": {},
   "outputs": [],
   "source": [
    "t = mk_tournament_vecs(tournaments[1], units[1], order, map_order)"
   ]
  },
  {
   "cell_type": "code",
   "execution_count": 217,
   "metadata": {},
   "outputs": [
    {
     "data": {
      "text/plain": [
       "(array([0., 0., 0., ..., 0., 0., 0.]), 1)"
      ]
     },
     "execution_count": 217,
     "metadata": {},
     "output_type": "execute_result"
    }
   ],
   "source": [
    "t[7]"
   ]
  },
  {
   "cell_type": "code",
   "execution_count": null,
   "metadata": {},
   "outputs": [],
   "source": []
  }
 ],
 "metadata": {
  "kernelspec": {
   "display_name": "Python 3",
   "language": "python",
   "name": "python3"
  },
  "language_info": {
   "codemirror_mode": {
    "name": "ipython",
    "version": 3
   },
   "file_extension": ".py",
   "mimetype": "text/x-python",
   "name": "python",
   "nbconvert_exporter": "python",
   "pygments_lexer": "ipython3",
   "version": "3.6.9"
  }
 },
 "nbformat": 4,
 "nbformat_minor": 2
}
